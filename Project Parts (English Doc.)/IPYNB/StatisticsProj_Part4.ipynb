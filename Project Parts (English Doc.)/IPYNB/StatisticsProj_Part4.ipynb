{
 "cells":[
  {
   "cell_type":"code",
   "source":[
    "# improts\n",
    "import pandas as pd\n",
    "import numpy as np\n",
    "from numpy import linalg\n",
    "from scipy.stats import norm\n",
    "from matplotlib import pyplot as plt\n",
    "import statsmodels.api as sm\n",
    "import seaborn as sns\n",
    "import random\n",
    "\n",
    "# bootstarp size defined in the question\n",
    "B = 400"
   ],
   "execution_count":51,
   "outputs":[
    
   ],
   "metadata":{
    "datalore":{
     "node_id":"szP0AuiXdhlY7zCS0jyohi",
     "type":"CODE",
     "hide_input_from_viewers":false,
     "hide_output_from_viewers":false
    }
   }
  },
  {
   "cell_type":"code",
   "source":[
    "# functions from project 3 that will help us in this project\n",
    "\n",
    "def extract_X_y(data, X_columns, y_column):\n",
    "    # create X matrix with first column as bias column\n",
    "    X = data[X_columns]\n",
    "    X.insert(loc=0, column=\"bias\", value=[1 for i in range(len(X))])\n",
    "    X = X.to_numpy()\n",
    "\n",
    "    # create y vector\n",
    "    y = data[y_column].to_numpy()\n",
    "\n",
    "    return X, y\n",
    "\n",
    "def find_beta_hat(X, y):\n",
    "    beta_hat = linalg.inv(X.T @ X) @ X.T @ y\n",
    "    return beta_hat\n",
    "\n",
    "\n",
    "def find_sum_squares(beta_hat, X, y):\n",
    "  y_avg = np.mean(y)\n",
    "  SSR, SSE = 0, 0\n",
    "  for xi, yi in zip(X, y):\n",
    "    y_hat = beta_hat.T @ xi\n",
    "    SSR += (y_hat - y_avg) ** 2\n",
    "    SSE += (y_hat - yi) ** 2\n",
    "\n",
    "  SST = SSR + SSE\n",
    "\n",
    "  return SSR, SSE, SST"
   ],
   "execution_count":52,
   "outputs":[
    
   ],
   "metadata":{
    "datalore":{
     "node_id":"YTM6urbRPtuyV3dneSQsWJ",
     "type":"CODE",
     "hide_input_from_viewers":false,
     "hide_output_from_viewers":false
    }
   }
  },
  {
   "cell_type":"code",
   "source":[
    "# the edited data from project 1\n",
    "data = pd.read_csv(\"athletes_edited.csv\")\n",
    "display(data)"
   ],
   "execution_count":53,
   "outputs":[
    {
     "data":{
      "text\/html":[
       "<div>\n",
       "<style scoped>\n",
       "    .dataframe tbody tr th:only-of-type {\n",
       "        vertical-align: middle;\n",
       "    }\n",
       "\n",
       "    .dataframe tbody tr th {\n",
       "        vertical-align: top;\n",
       "    }\n",
       "\n",
       "    .dataframe thead th {\n",
       "        text-align: right;\n",
       "    }\n",
       "<\/style>\n",
       "<table border=\"1\" class=\"dataframe\">\n",
       "  <thead>\n",
       "    <tr style=\"text-align: right;\">\n",
       "      <th><\/th>\n",
       "      <th>nationality<\/th>\n",
       "      <th>sport<\/th>\n",
       "      <th>age<\/th>\n",
       "      <th>male<\/th>\n",
       "      <th>height<\/th>\n",
       "      <th>weight<\/th>\n",
       "      <th>won_any<\/th>\n",
       "      <th>won_gold<\/th>\n",
       "      <th>total_medals<\/th>\n",
       "    <\/tr>\n",
       "  <\/thead>\n",
       "  <tbody>\n",
       "    <tr>\n",
       "      <th>0<\/th>\n",
       "      <td>ESP<\/td>\n",
       "      <td>athletics<\/td>\n",
       "      <td>46<\/td>\n",
       "      <td>1<\/td>\n",
       "      <td>172<\/td>\n",
       "      <td>64<\/td>\n",
       "      <td>0<\/td>\n",
       "      <td>0<\/td>\n",
       "      <td>0<\/td>\n",
       "    <\/tr>\n",
       "    <tr>\n",
       "      <th>1<\/th>\n",
       "      <td>KOR<\/td>\n",
       "      <td>fencing<\/td>\n",
       "      <td>29<\/td>\n",
       "      <td>0<\/td>\n",
       "      <td>168<\/td>\n",
       "      <td>56<\/td>\n",
       "      <td>0<\/td>\n",
       "      <td>0<\/td>\n",
       "      <td>0<\/td>\n",
       "    <\/tr>\n",
       "    <tr>\n",
       "      <th>2<\/th>\n",
       "      <td>CAN<\/td>\n",
       "      <td>athletics<\/td>\n",
       "      <td>24<\/td>\n",
       "      <td>1<\/td>\n",
       "      <td>198<\/td>\n",
       "      <td>79<\/td>\n",
       "      <td>1<\/td>\n",
       "      <td>0<\/td>\n",
       "      <td>1<\/td>\n",
       "    <\/tr>\n",
       "    <tr>\n",
       "      <th>3<\/th>\n",
       "      <td>MDA<\/td>\n",
       "      <td>taekwondo<\/td>\n",
       "      <td>25<\/td>\n",
       "      <td>1<\/td>\n",
       "      <td>183<\/td>\n",
       "      <td>80<\/td>\n",
       "      <td>0<\/td>\n",
       "      <td>0<\/td>\n",
       "      <td>0<\/td>\n",
       "    <\/tr>\n",
       "    <tr>\n",
       "      <th>4<\/th>\n",
       "      <td>NZL<\/td>\n",
       "      <td>cycling<\/td>\n",
       "      <td>25<\/td>\n",
       "      <td>1<\/td>\n",
       "      <td>181<\/td>\n",
       "      <td>71<\/td>\n",
       "      <td>0<\/td>\n",
       "      <td>0<\/td>\n",
       "      <td>0<\/td>\n",
       "    <\/tr>\n",
       "    <tr>\n",
       "      <th>...<\/th>\n",
       "      <td>...<\/td>\n",
       "      <td>...<\/td>\n",
       "      <td>...<\/td>\n",
       "      <td>...<\/td>\n",
       "      <td>...<\/td>\n",
       "      <td>...<\/td>\n",
       "      <td>...<\/td>\n",
       "      <td>...<\/td>\n",
       "      <td>...<\/td>\n",
       "    <\/tr>\n",
       "    <tr>\n",
       "      <th>10853<\/th>\n",
       "      <td>CUB<\/td>\n",
       "      <td>athletics<\/td>\n",
       "      <td>20<\/td>\n",
       "      <td>0<\/td>\n",
       "      <td>164<\/td>\n",
       "      <td>58<\/td>\n",
       "      <td>0<\/td>\n",
       "      <td>0<\/td>\n",
       "      <td>0<\/td>\n",
       "    <\/tr>\n",
       "    <tr>\n",
       "      <th>10854<\/th>\n",
       "      <td>CZE<\/td>\n",
       "      <td>athletics<\/td>\n",
       "      <td>29<\/td>\n",
       "      <td>0<\/td>\n",
       "      <td>173<\/td>\n",
       "      <td>63<\/td>\n",
       "      <td>0<\/td>\n",
       "      <td>0<\/td>\n",
       "      <td>0<\/td>\n",
       "    <\/tr>\n",
       "    <tr>\n",
       "      <th>10855<\/th>\n",
       "      <td>CHN<\/td>\n",
       "      <td>wrestling<\/td>\n",
       "      <td>25<\/td>\n",
       "      <td>1<\/td>\n",
       "      <td>185<\/td>\n",
       "      <td>100<\/td>\n",
       "      <td>0<\/td>\n",
       "      <td>0<\/td>\n",
       "      <td>0<\/td>\n",
       "    <\/tr>\n",
       "    <tr>\n",
       "      <th>10856<\/th>\n",
       "      <td>VIE<\/td>\n",
       "      <td>weightlifting<\/td>\n",
       "      <td>27<\/td>\n",
       "      <td>1<\/td>\n",
       "      <td>160<\/td>\n",
       "      <td>56<\/td>\n",
       "      <td>0<\/td>\n",
       "      <td>0<\/td>\n",
       "      <td>0<\/td>\n",
       "    <\/tr>\n",
       "    <tr>\n",
       "      <th>10857<\/th>\n",
       "      <td>RSA<\/td>\n",
       "      <td>athletics<\/td>\n",
       "      <td>24<\/td>\n",
       "      <td>1<\/td>\n",
       "      <td>185<\/td>\n",
       "      <td>70<\/td>\n",
       "      <td>0<\/td>\n",
       "      <td>0<\/td>\n",
       "      <td>0<\/td>\n",
       "    <\/tr>\n",
       "  <\/tbody>\n",
       "<\/table>\n",
       "<p>10858 rows × 9 columns<\/p>\n",
       "<\/div>"
      ]
     },
     "metadata":{
      
     },
     "output_type":"display_data"
    }
   ],
   "metadata":{
    "datalore":{
     "node_id":"bTecZooGGnK5JPgfbutFLu",
     "type":"CODE",
     "hide_input_from_viewers":false,
     "hide_output_from_viewers":false
    }
   }
  },
  {
   "cell_type":"markdown",
   "source":[
    "# Part 1\n",
    "\n",
    "## From Project 3:\n",
    "\n",
    "The explaining variables we chose:\n",
    "- height (continuous) - represents the height (in cm) of the athlete. This variable has many values, and therefore we can consider it as a continuous variable by the project instructions.\n",
    "\n",
    "- age (continuous) - represents the age (in years) of the athlete. This variable has many values, and therefore we can consider it as a continuous variable by the project instructions.\n",
    "\n",
    "- male (discrete) - represents the gender of the athlete. This variable has only two values, 1 if the athlete is male, and 0 if the athlete is female. It is a binary variable and therefore discrete.\n",
    "\n",
    "The explained variable we chose:\n",
    "- weight (continuous) - represents the weight (in kg) of the athlete. This variable has many values, and therefore we can consider it as a continuous variable by the project instructions.\n",
    "\n",
    "### Research question -- Do changes in the variables ('height', 'age', 'male') affect the variable 'weight'?"
   ],
   "attachments":{
    
   },
   "metadata":{
    "datalore":{
     "node_id":"HNb2pvAOG2ZU57cBcNvRSj",
     "type":"MD",
     "hide_input_from_viewers":false,
     "hide_output_from_viewers":false
    }
   }
  },
  {
   "cell_type":"code",
   "source":[
    "# same random_state from project 3 in order to get the same sample\n",
    "sampled_data1 = data.sample(n=200, random_state=0)\n",
    "\n",
    "X, y = extract_X_y(sampled_data1, X_columns=[\"height\", \"age\", \"male\"], y_column=\"weight\")\n",
    "beta_hat = find_beta_hat(X, y)\n",
    "\n",
    "beta_conf_intervals = [[] for i in range(len(beta_hat))]"
   ],
   "execution_count":54,
   "outputs":[
    
   ],
   "metadata":{
    "datalore":{
     "node_id":"n19UDAdqlXrBUmrH7ZK4TU",
     "type":"CODE",
     "hide_input_from_viewers":false,
     "hide_output_from_viewers":false
    }
   }
  },
  {
   "cell_type":"markdown",
   "source":[
    "## Q1\n",
    "\n",
    "In this question, we will find confidence intervals with approximated confidence level of 0.95, for $\\beta_j$ for all $0 \\le j \\le k$ using the following methods:\n",
    "\n",
    "- Normal approximation with estimator to $\\hat \\beta$ variance matrix.\n",
    "- Bootstrap Normal approximation method.\n",
    "- Bootstrap pivotal method.\n",
    "- Bootstrap percentile method."
   ],
   "attachments":{
    
   },
   "metadata":{
    "datalore":{
     "node_id":"bM7wrMv41QyKSwkCqA0Pwq",
     "type":"MD",
     "hide_input_from_viewers":false,
     "hide_output_from_viewers":false
    }
   }
  },
  {
   "cell_type":"markdown",
   "source":[
    "### Section A - Normal approximation with estimator to $\\hat \\beta$ variance matrix."
   ],
   "attachments":{
    
   },
   "metadata":{
    "datalore":{
     "node_id":"9peJRK6fxSxca61Q5dveiE",
     "type":"MD",
     "hide_input_from_viewers":false,
     "hide_output_from_viewers":false
    }
   }
  },
  {
   "cell_type":"code",
   "source":[
    "_, SSE, _ = find_sum_squares(beta_hat, X, y)\n",
    "n, p = X.shape\n",
    "\n",
    "MSE = SSE \/ (n - p)\n",
    "\n",
    "beta_hat_var_hat = MSE * linalg.inv(X.T @ X)\n",
    "z = norm.ppf(0.975)\n",
    "\n",
    "for i, beta_i_hat in enumerate(beta_hat):\n",
    "    se_i_hat = beta_hat_var_hat[i][i] ** 0.5\n",
    "    confidence_interval = np.array([beta_i_hat - (z * se_i_hat), beta_i_hat + (z * se_i_hat)])\n",
    "    beta_conf_intervals[i].append(confidence_interval)\n",
    "    \n",
    "    print(f\"Confidence interval for beta_{i}:\")\n",
    "    print(np.round(confidence_interval, 3))\n",
    "    print()"
   ],
   "execution_count":55,
   "outputs":[
    {
     "name":"stdout",
     "text":[
      "Confidence interval for beta_0:\n",
      "[-108.617  -54.244]\n",
      "\n",
      "Confidence interval for beta_1:\n",
      "[0.71  1.017]\n",
      "\n",
      "Confidence interval for beta_2:\n",
      "[-0.403  0.224]\n",
      "\n",
      "Confidence interval for beta_3:\n",
      "[ 3.353 10.425]\n",
      "\n"
     ],
     "output_type":"stream"
    }
   ],
   "metadata":{
    "datalore":{
     "node_id":"B1ocVudLg4Qw12DjOX0FS0",
     "type":"CODE",
     "hide_input_from_viewers":false,
     "hide_output_from_viewers":false
    }
   }
  },
  {
   "cell_type":"markdown",
   "source":[
    "### Section B - Bootstrap Normal approximation method\n",
    "\n",
    "We saw in the lecture that $\\hat \\beta$ is distributed asymptotically Normal. Therefore, we can use this method."
   ],
   "attachments":{
    
   },
   "metadata":{
    "datalore":{
     "node_id":"4dIvpiAEPiyGZkFzaKOh0L",
     "type":"MD",
     "hide_input_from_viewers":false,
     "hide_output_from_viewers":false
    }
   }
  },
  {
   "cell_type":"code",
   "source":[
    "def find_bootstarp_est_lst(B, data):\n",
    "    est_lst = []\n",
    "    for b in range(B):\n",
    "        # we set random_state in order to get consistent results\n",
    "        bootstrap_data = data.sample(n=200, replace=True, random_state=b)\n",
    "        X_bootstrap, y_bootstrap = extract_X_y(bootstrap_data, X_columns=[\"height\", \"age\", \"male\"], y_column=\"weight\")\n",
    "        beta_hat_bootstrap = find_beta_hat(X_bootstrap, y_bootstrap)\n",
    "        est_lst.append(beta_hat_bootstrap)\n",
    "\n",
    "    return est_lst\n",
    "\n",
    "est_lst = find_bootstarp_est_lst(B, sampled_data1)"
   ],
   "execution_count":56,
   "outputs":[
    
   ],
   "metadata":{
    "datalore":{
     "node_id":"6vKGNgwIia1Id5ejVHEgOu",
     "type":"CODE",
     "hide_input_from_viewers":false,
     "hide_output_from_viewers":false
    }
   }
  },
  {
   "cell_type":"code",
   "source":[
    "se_boot = ((sum([x ** 2 for x in est_lst]) \/ B) - ((sum(est_lst) \/ B) ** 2)) ** 0.5\n",
    "z = norm.ppf(0.975)\n",
    "\n",
    "for i, (beta_i_hat, se_i_boot) in enumerate(zip(beta_hat, se_boot)):\n",
    "    confidence_interval = np.array([beta_i_hat - (z * se_i_boot), beta_i_hat + (z * se_i_boot)])\n",
    "    beta_conf_intervals[i].append(confidence_interval)\n",
    "\n",
    "    print(f\"Confidence interval for beta_{i}:\")\n",
    "    print(np.round(confidence_interval, 3))\n",
    "    print()"
   ],
   "execution_count":57,
   "outputs":[
    {
     "name":"stdout",
     "text":[
      "Confidence interval for beta_0:\n",
      "[-111.157  -51.704]\n",
      "\n",
      "Confidence interval for beta_1:\n",
      "[0.692 1.036]\n",
      "\n",
      "Confidence interval for beta_2:\n",
      "[-0.35  0.17]\n",
      "\n",
      "Confidence interval for beta_3:\n",
      "[ 3.451 10.327]\n",
      "\n"
     ],
     "output_type":"stream"
    }
   ],
   "metadata":{
    "datalore":{
     "node_id":"2n1M2phQrL6qbecD8RPPR9",
     "type":"CODE",
     "hide_input_from_viewers":false,
     "hide_output_from_viewers":false
    }
   }
  },
  {
   "cell_type":"markdown",
   "source":[
    "### Section C - Bootstrap pivotal method\n",
    "\n",
    "We will use the formula we saw at HW5, Q4."
   ],
   "attachments":{
    
   },
   "metadata":{
    "datalore":{
     "node_id":"NTDh1DmYu8AxIboFEbvrfW",
     "type":"MD",
     "hide_input_from_viewers":false,
     "hide_output_from_viewers":false
    }
   }
  },
  {
   "cell_type":"code",
   "source":[
    "for i, beta_i_hat in enumerate(beta_hat):\n",
    "    est_i_lst = sorted([x[i] for x in est_lst])\n",
    "    alpha = 0.05\n",
    "    \n",
    "    # 0.025 bootstrap quantile\n",
    "    low_q = est_i_lst[int((alpha \/ 2) * B)]\n",
    "    # 0.975 bootstrap quantile\n",
    "    high_q = est_i_lst[int((1 - (alpha \/ 2)) * B)]\n",
    "\n",
    "    # the forumla we saw in our homework\n",
    "    confidence_interval = np.array([2 * beta_i_hat - high_q, 2 * beta_i_hat - low_q])\n",
    "    beta_conf_intervals[i].append(confidence_interval)\n",
    "\n",
    "    print(f\"Confidence interval for beta_{i}:\")\n",
    "    print(np.round(confidence_interval, 3))\n",
    "    print()"
   ],
   "execution_count":58,
   "outputs":[
    {
     "name":"stdout",
     "text":[
      "Confidence interval for beta_0:\n",
      "[-109.057  -51.13 ]\n",
      "\n",
      "Confidence interval for beta_1:\n",
      "[0.688 1.028]\n",
      "\n",
      "Confidence interval for beta_2:\n",
      "[-0.358  0.177]\n",
      "\n",
      "Confidence interval for beta_3:\n",
      "[ 3.72  10.238]\n",
      "\n"
     ],
     "output_type":"stream"
    }
   ],
   "metadata":{
    "datalore":{
     "node_id":"B1Q2OWs0MZuCGq0fX9iqnv",
     "type":"CODE",
     "hide_input_from_viewers":false,
     "hide_output_from_viewers":false
    }
   }
  },
  {
   "cell_type":"markdown",
   "source":[
    "### Section D - Bootstrap percentile method"
   ],
   "attachments":{
    
   },
   "metadata":{
    "datalore":{
     "node_id":"S7yNANGzJNWXfuEoeQslxZ",
     "type":"MD",
     "hide_input_from_viewers":false,
     "hide_output_from_viewers":false
    }
   }
  },
  {
   "cell_type":"code",
   "source":[
    "for i, beta_i_hat in enumerate(beta_hat):\n",
    "    est_i_lst = sorted([x[i] for x in est_lst])\n",
    "    alpha = 0.05\n",
    "\n",
    "    # 0.025 bootstrap quantile\n",
    "    low_q = est_i_lst[int((alpha \/ 2) * B)]\n",
    "    # 0.975 bootstrap quantile\n",
    "    high_q = est_i_lst[int((1 - (alpha \/ 2)) * B)]\n",
    "\n",
    "    confidence_interval = np.array([low_q, high_q])\n",
    "    beta_conf_intervals[i].append(confidence_interval)\n",
    "\n",
    "    print(f\"Confidence interval for beta_{i} with approximated confidence level of 0.95:\")\n",
    "    print(np.round(confidence_interval, 3))\n",
    "    print()"
   ],
   "execution_count":59,
   "outputs":[
    {
     "name":"stdout",
     "text":[
      "Confidence interval for beta_0 with approximated confidence level of 0.95:\n",
      "[-111.731  -53.804]\n",
      "\n",
      "Confidence interval for beta_1 with approximated confidence level of 0.95:\n",
      "[0.7   1.039]\n",
      "\n",
      "Confidence interval for beta_2 with approximated confidence level of 0.95:\n",
      "[-0.356  0.179]\n",
      "\n",
      "Confidence interval for beta_3 with approximated confidence level of 0.95:\n",
      "[ 3.54  10.058]\n",
      "\n"
     ],
     "output_type":"stream"
    }
   ],
   "metadata":{
    "datalore":{
     "node_id":"xojzbh8QVtOYnHfQdeyHot",
     "type":"CODE",
     "hide_input_from_viewers":false,
     "hide_output_from_viewers":false
    }
   }
  },
  {
   "cell_type":"markdown",
   "source":[
    "## Q2"
   ],
   "attachments":{
    
   },
   "metadata":{
    "datalore":{
     "node_id":"oBY4IEBnQxlof73hoP4cTi",
     "type":"MD",
     "hide_input_from_viewers":false,
     "hide_output_from_viewers":false
    }
   }
  },
  {
   "cell_type":"code",
   "source":[
    "X_all, y_all = extract_X_y(data, X_columns=[\"height\", \"age\", \"male\"], y_column=\"weight\")\n",
    "beta_hat_all = find_beta_hat(X_all, y_all)\n",
    "\n",
    "print(\"The mean least square estimator beta_hat (based on all data):\")\n",
    "print(np.round(beta_hat_all, 3))\n",
    "print()\n",
    "\n",
    "methods_lst = [\"Normal approximation with variance matrix hat\",\n",
    "               \"Bootstrap Normal approximation\",\n",
    "               \"Bootstrap pivotal\",\n",
    "               \"Bootstrap percentile\"]\n",
    "\n",
    "for i, beta_i_conf_intervals in enumerate(beta_conf_intervals):\n",
    "    print(f\"----- For Beta_{i} -----\")\n",
    "    \n",
    "    for conf_interval, method in zip(beta_i_conf_intervals, methods_lst):\n",
    "        l, u = conf_interval\n",
    "        \n",
    "        print(f\"-- Method: {method} --\")\n",
    "        print(f\"Confidence interval length: {round(u - l, 3)}\")\n",
    "        \n",
    "        if l <= beta_hat_all[i] <= u: \n",
    "            print(f\"Beta_hat_{i} estimator (based on all data) is trapped in the confidence interval\")\n",
    "\n",
    "        else:\n",
    "            print(f\"Beta hat_{i} estimsator (based on all data) is not trapped in the confidence intreval\")\n",
    "        print()\n",
    "    print()"
   ],
   "execution_count":60,
   "outputs":[
    {
     "name":"stdout",
     "text":[
      "The mean least square estimator beta_hat (based on all data):\n",
      "[-101.834    0.945    0.145    5.662]\n",
      "\n",
      "----- For Beta_0 -----\n",
      "-- Method: Normal approximation with variance matrix hat --\n",
      "Confidence interval length: 54.373\n",
      "Beta_hat_0 estimator (based on all data) is trapped in the confidence interval\n",
      "\n",
      "-- Method: Bootstrap Normal approximation --\n",
      "Confidence interval length: 59.453\n",
      "Beta_hat_0 estimator (based on all data) is trapped in the confidence interval\n",
      "\n",
      "-- Method: Bootstrap pivotal --\n",
      "Confidence interval length: 57.927\n",
      "Beta_hat_0 estimator (based on all data) is trapped in the confidence interval\n",
      "\n",
      "-- Method: Bootstrap percentile --\n",
      "Confidence interval length: 57.927\n",
      "Beta_hat_0 estimator (based on all data) is trapped in the confidence interval\n",
      "\n",
      "\n",
      "----- For Beta_1 -----\n",
      "-- Method: Normal approximation with variance matrix hat --\n",
      "Confidence interval length: 0.307\n",
      "Beta_hat_1 estimator (based on all data) is trapped in the confidence interval\n",
      "\n",
      "-- Method: Bootstrap Normal approximation --\n",
      "Confidence interval length: 0.344\n",
      "Beta_hat_1 estimator (based on all data) is trapped in the confidence interval\n",
      "\n",
      "-- Method: Bootstrap pivotal --\n",
      "Confidence interval length: 0.339\n",
      "Beta_hat_1 estimator (based on all data) is trapped in the confidence interval\n",
      "\n",
      "-- Method: Bootstrap percentile --\n",
      "Confidence interval length: 0.339\n",
      "Beta_hat_1 estimator (based on all data) is trapped in the confidence interval\n",
      "\n",
      "\n",
      "----- For Beta_2 -----\n",
      "-- Method: Normal approximation with variance matrix hat --\n",
      "Confidence interval length: 0.628\n",
      "Beta_hat_2 estimator (based on all data) is trapped in the confidence interval\n",
      "\n",
      "-- Method: Bootstrap Normal approximation --\n",
      "Confidence interval length: 0.52\n",
      "Beta_hat_2 estimator (based on all data) is trapped in the confidence interval\n",
      "\n",
      "-- Method: Bootstrap pivotal --\n",
      "Confidence interval length: 0.535\n",
      "Beta_hat_2 estimator (based on all data) is trapped in the confidence interval\n",
      "\n",
      "-- Method: Bootstrap percentile --\n",
      "Confidence interval length: 0.535\n",
      "Beta_hat_2 estimator (based on all data) is trapped in the confidence interval\n",
      "\n",
      "\n",
      "----- For Beta_3 -----\n",
      "-- Method: Normal approximation with variance matrix hat --\n",
      "Confidence interval length: 7.073\n",
      "Beta_hat_3 estimator (based on all data) is trapped in the confidence interval\n",
      "\n",
      "-- Method: Bootstrap Normal approximation --\n",
      "Confidence interval length: 6.876\n",
      "Beta_hat_3 estimator (based on all data) is trapped in the confidence interval\n",
      "\n",
      "-- Method: Bootstrap pivotal --\n",
      "Confidence interval length: 6.519\n",
      "Beta_hat_3 estimator (based on all data) is trapped in the confidence interval\n",
      "\n",
      "-- Method: Bootstrap percentile --\n",
      "Confidence interval length: 6.519\n",
      "Beta_hat_3 estimator (based on all data) is trapped in the confidence interval\n",
      "\n",
      "\n"
     ],
     "output_type":"stream"
    }
   ],
   "metadata":{
    "datalore":{
     "node_id":"iD1ItktmI6mztPfqwdnITa",
     "type":"CODE",
     "hide_input_from_viewers":false,
     "hide_output_from_viewers":false
    }
   }
  },
  {
   "cell_type":"markdown",
   "source":[
    "Summarizing the results:\n",
    "\n",
    "### *$\\beta_0$*\n",
    "All the confidence intervals lengths are roughly the same, however:\n",
    "- The shortest confidence interval length is under the \"Normal approximation with variance matrix hat\" method (54.373).\n",
    "- The longest confidence interval length is under the \"Bootstrap Normal approximation\" method (59.453).\n",
    "  \n",
    "The confidence intervals under all the methods trapped $\\hat \\beta_0$ (based on all data).\n",
    "\n",
    "\n",
    "### $\\beta_1$\n",
    "All the confidence intervals lengths are roughly the same, however:\n",
    "- The shortest confidence interval length is under the \"Normal approximation with variance matrix hat\" method (0.307).\n",
    "- The longest confidence interval length is under the \"Normal approximation method\" method (0.344).\n",
    "\n",
    "The confidence intervals under all the methods trapped $\\hat \\beta_1$ (based on all data).\n",
    "\n",
    "\n",
    "### $\\beta_2$\n",
    "All the confidence intervals lengths are roughly the same, however:\n",
    "- The shortest confidence interval length is under the \"Bootstrap Normal approximation\" method (0.52).\n",
    "- The longest confidence interval length is under the \"Normal approximation with variance matrix hat\" method (0.628).\n",
    "  \n",
    "The confidence intervals under all the methods trapped $\\hat \\beta_2$ (based on all data).\n",
    "\n",
    "\n",
    "### $\\beta_3$\n",
    "All the confidence intervals lengths are roughly the same, however:\n",
    "- The shortest confidence interval length is under the \"Bootstrap pivotal\" and \"Bootstrap percentile\" methods (6.519).\n",
    "- The longest confidence interval length is under the \"Normal approximation with variance matrix hat\" method (7.073).\n",
    "  \n",
    "The confidence intervals under all the methods trapped $\\hat \\beta_3$ (based on all data)."
   ],
   "attachments":{
    
   },
   "metadata":{
    "datalore":{
     "node_id":"N4bsv00MF7xD8CEX501ho9",
     "type":"MD",
     "hide_input_from_viewers":false,
     "hide_output_from_viewers":false
    }
   }
  },
  {
   "cell_type":"markdown",
   "source":[
    "## Q3"
   ],
   "attachments":{
    
   },
   "metadata":{
    "datalore":{
     "node_id":"6FrLxBWsQcruBUwh8q2BXG",
     "type":"MD",
     "hide_input_from_viewers":false,
     "hide_output_from_viewers":false
    }
   }
  },
  {
   "cell_type":"code",
   "source":[
    "# sample 100 new records that are not in 'sampled data1' (as stated)\n",
    "# we set random_state in order to get consistent results\n",
    "sampled_indecies = sampled_data1.index.values\n",
    "data_without_sampled = data.drop(sampled_indecies, axis=0)\n",
    "new_sampled_data = data_without_sampled.sample(n=100, random_state=0)\n",
    "\n",
    "X_new_sampled, y_new_sampled = extract_X_y(new_sampled_data, X_columns=[\"height\", \"age\", \"male\"], y_column=\"weight\")"
   ],
   "execution_count":61,
   "outputs":[
    
   ],
   "metadata":{
    "datalore":{
     "node_id":"IcFTBvUeHTecdUlgUxHeaO",
     "type":"CODE",
     "hide_input_from_viewers":false,
     "hide_output_from_viewers":false
    }
   }
  },
  {
   "cell_type":"markdown",
   "source":[
    "### Section A"
   ],
   "attachments":{
    
   },
   "metadata":{
    "datalore":{
     "node_id":"LlQuGUtsaXv7fFC8efMJmo",
     "type":"MD",
     "hide_input_from_viewers":false,
     "hide_output_from_viewers":false
    }
   }
  },
  {
   "cell_type":"code",
   "source":[
    "# vector of the predicated y value of each sample\n",
    "y_predicted = X_new_sampled @ beta_hat"
   ],
   "execution_count":62,
   "outputs":[
    
   ],
   "metadata":{
    "datalore":{
     "node_id":"gSLHdBZLyFXeIbWDGIy0Iv",
     "type":"CODE",
     "hide_input_from_viewers":false,
     "hide_output_from_viewers":false
    }
   }
  },
  {
   "cell_type":"markdown",
   "source":[
    "### Section B\n",
    "\n",
    "In order to find the confidence intervals, we will use the bootstrap percentile method."
   ],
   "attachments":{
    
   },
   "metadata":{
    "datalore":{
     "node_id":"HQ5Eh1jEJV1odUQEVicp4u",
     "type":"MD",
     "hide_input_from_viewers":false,
     "hide_output_from_viewers":false
    }
   }
  },
  {
   "cell_type":"code",
   "source":[
    "# the confidence level is 0.95\n",
    "alpha = 0.05\n",
    "\n",
    "confidence_interval_lst = []\n",
    "\n",
    "for x_new in X_new_sampled:\n",
    "    y_new_pred_bootstrap_lst = []\n",
    "\n",
    "    for beta_hat_bootstrap in est_lst:\n",
    "        y_new_pred_bootstrap_lst.append(beta_hat_bootstrap.T @ x_new)\n",
    "\n",
    "    y_new_pred_bootstrap_lst.sort()\n",
    "    low_q = y_new_pred_bootstrap_lst[int((alpha \/ 2) * B)]\n",
    "    high_q = y_new_pred_bootstrap_lst[int((1 - (alpha \/ 2)) * B)]\n",
    "    confidence_interval_lst.append([low_q, high_q])\n",
    "\n"
   ],
   "execution_count":63,
   "outputs":[
    
   ],
   "metadata":{
    "datalore":{
     "node_id":"HILQL5un9CgdV9xCxGyQku",
     "type":"CODE",
     "hide_input_from_viewers":false,
     "hide_output_from_viewers":false
    }
   }
  },
  {
   "cell_type":"markdown",
   "source":[
    "### Section C"
   ],
   "attachments":{
    
   },
   "metadata":{
    "datalore":{
     "node_id":"ZKuk5l2cty4SyxBDL3WP1u",
     "type":"MD",
     "hide_input_from_viewers":false,
     "hide_output_from_viewers":false
    }
   }
  },
  {
   "cell_type":"code",
   "source":[
    "summ = 0\n",
    "for ci, y_new in zip(confidence_interval_lst, y_new_sampled):\n",
    "    l, u = ci\n",
    "\n",
    "    if l <= y_new <= u:\n",
    "        summ += 1\n",
    "\n",
    "trap_per = summ \/ len(y_new_sampled) * 100\n",
    "\n",
    "print(f\"The percentage of the confidence intervals that trap y_new is: {round(trap_per, 3)}%\")"
   ],
   "execution_count":87,
   "outputs":[
    {
     "name":"stdout",
     "text":[
      "The percentage of the confidence intervals that trap y_new is: 29.0%\n"
     ],
     "output_type":"stream"
    }
   ],
   "metadata":{
    "datalore":{
     "node_id":"KK25CclSISYymhVeQxPLaN",
     "type":"CODE",
     "hide_input_from_viewers":false,
     "hide_output_from_viewers":false
    }
   }
  },
  {
   "cell_type":"markdown",
   "source":[
    "As we see, our confidence intervals trapped y_new 29% of the time. This result doesn't contradict our defined 95% approximated confidence level since our confidence intervals were for the expected value of y_new and not for the value itself."
   ],
   "attachments":{
    
   },
   "metadata":{
    "datalore":{
     "node_id":"PbnSJ2y8xCSE88GMMFvruI",
     "type":"MD",
     "hide_input_from_viewers":false,
     "hide_output_from_viewers":false
    }
   }
  },
  {
   "cell_type":"markdown",
   "source":[
    "### Section D\n"
   ],
   "attachments":{
    
   },
   "metadata":{
    "datalore":{
     "node_id":"RsrSQj5MATaxQ9c5JE8hCm",
     "type":"MD",
     "hide_input_from_viewers":false,
     "hide_output_from_viewers":false
    }
   }
  },
  {
   "cell_type":"markdown",
   "source":[
    "In this question, we are asked to find confidence intervals for each 'y_new'.\n",
    "\n",
    "As we saw in the tutorial, we need to add the model's assumption that the noise of each sample $\\epsilon$ is distributed Normally.\n",
    "Under this assumption, each y value is distributed Normally as well. Moreover, we saw in the lecture that $\\hat \\beta$ is distributed asymptotically Normally. Therefore, we can use the bootstrap Normal approximation method in order to find the wanted confidence intervals.\n",
    "\n",
    "As we saw in the tutorial, the s.e. of the wanted confidence interval is $\\sqrt{X_{new}^T Var(\\hat \\beta) X_{new} + \\sigma^2_\\epsilon}$ (*)\n",
    "\n",
    "We can estiamte $\\sigma^2_\\epsilon$ with $\\hat \\sigma^2_\\epsilon$ using the initial given data (MSE) and $X_{new}$ is given. Therefore, all that's left to do is to estimate $Var(\\hat \\beta)$ \n",
    "\n",
    "In order to do it, we will find the bootstrap estimator as done in question 2, section B (we showed there how to find the wanted bootstrap estimator).\n",
    "\n",
    "After finding $\\hat Var(\\hat \\beta)_{boot}$, we can find $s.e._{boot}$ by using (*).\n",
    "\n",
    "The confidence interval for each 'y_new' will be in the following form (as seen in the lecture):\n",
    "\n",
    "$\\hat \\beta^T X_{new} \\pm z_{\\alpha \/ 2} * s.e._{boot}$"
   ],
   "attachments":{
    
   },
   "metadata":{
    "datalore":{
     "node_id":"hN1In1Mgy2CKAG6yOsIk6N",
     "type":"MD",
     "hide_input_from_viewers":false,
     "hide_output_from_viewers":false
    }
   }
  },
  {
   "cell_type":"markdown",
   "source":[
    "# Part 2"
   ],
   "attachments":{
    
   },
   "metadata":{
    "datalore":{
     "node_id":"WeHnNjt2GnRgtTSiXF74p5",
     "type":"MD",
     "hide_input_from_viewers":false,
     "hide_output_from_viewers":false
    }
   }
  },
  {
   "cell_type":"markdown",
   "source":[
    "## From project 2\n",
    "\n",
    "\"The research question we chose for this part:\n",
    "\n",
    "**Does the average weight (X) of the athletes change between the athletes who won a medal (Y=1) and the ones who didn't (Y=0)?**\""
   ],
   "attachments":{
    
   },
   "metadata":{
    "datalore":{
     "node_id":"tkVxU1wZx7ZZ9l1mxdgJPA",
     "type":"MD",
     "hide_input_from_viewers":false,
     "hide_output_from_viewers":false
    }
   }
  },
  {
   "cell_type":"markdown",
   "source":[
    "## Q1\n",
    "\n",
    "The research question we chose for this project:\n",
    "\n",
    "**Is the athletes' weight who won a medal larger than the athletes' weight who didn't win any medals, in the \"usual stochastic order\"?**\n",
    "\n",
    "(The probability of an athlete who won a medal to have a large weight is higher than the probability of an athlete didn't win any medals to have the same large weight value)."
   ],
   "attachments":{
    
   },
   "metadata":{
    "datalore":{
     "node_id":"4QEoUs2iHXCUkjgvEb4trR",
     "type":"MD",
     "hide_input_from_viewers":false,
     "hide_output_from_viewers":false
    }
   }
  },
  {
   "cell_type":"markdown",
   "source":[
    "## Q2"
   ],
   "attachments":{
    
   },
   "metadata":{
    "datalore":{
     "node_id":"EFtUFVlrvkW6EbxMAaxJ2l",
     "type":"MD",
     "hide_input_from_viewers":false,
     "hide_output_from_viewers":false
    }
   }
  },
  {
   "cell_type":"code",
   "source":[
    "# set random_state in order to get consistent results (different from part 1)\n",
    "sampled_data2 = data.sample(n=200, random_state=1)"
   ],
   "execution_count":65,
   "outputs":[
    
   ],
   "metadata":{
    "datalore":{
     "node_id":"7YpixQQBog95v6kyn4OQUn",
     "type":"CODE",
     "hide_input_from_viewers":false,
     "hide_output_from_viewers":false
    }
   }
  },
  {
   "cell_type":"markdown",
   "source":[
    "## Q3\n",
    "\n",
    "Notations:\n",
    "\n",
    "- Let $\\mu_x^1$ be the expectation of athletes' weight who won a medal.\n",
    "\n",
    "- Let $\\mu_x^2$ be the expectation of athletes' weight who didn't win any medals."
   ],
   "attachments":{
    
   },
   "metadata":{
    "datalore":{
     "node_id":"cfLasW5Suw5MrOwSp8z1Hq",
     "type":"MD",
     "hide_input_from_viewers":false,
     "hide_output_from_viewers":false
    }
   }
  },
  {
   "cell_type":"markdown",
   "source":[
    "### Section A\n",
    "\n",
    "We will choose the following estimators:\n",
    "- $\\hat \\mu_x^1 = \\bar X_1$\n",
    "- $\\hat \\mu_x^2 = \\bar X_2$\n",
    "- $\\hat \\delta = \\bar X_1 - \\bar X_2$\n",
    "\n",
    "If the weights' values of each group are distributed Normally, we saw in the lecture that $\\bar X_1$ and $\\bar X_2$ are MLEs of $\\mu_x^1$ and $\\mu_x^2$ correspondingly. Therefore, $\\hat \\delta$ is an MLE of $\\delta$ as a function of $\\bar X_1$ and $\\bar X_2$. We will check if the weights are indeed distributed Normally."
   ],
   "attachments":{
    
   },
   "metadata":{
    "datalore":{
     "node_id":"mxYI14RIIXw0PNopC6cCnq",
     "type":"MD",
     "hide_input_from_viewers":false,
     "hide_output_from_viewers":false
    }
   }
  },
  {
   "cell_type":"code",
   "source":[
    "def create_histogram(data, bins, x_label, title, is_kde=True, c=\"royalblue\"):\n",
    "    sns.histplot(data, bins=bins, kde=is_kde, color=c)\n",
    "\n",
    "    plt.xlabel(x_label)\n",
    "    plt.ylabel(\"Count\")\n",
    "    plt.title(title)\n",
    "    plt.show()\n",
    "\n",
    "def abline(slope, intercept, style):\n",
    "    axes = plt.gca()\n",
    "    x_vals = np.array(axes.get_xlim())\n",
    "    y_vals = intercept + slope * x_vals\n",
    "    plt.plot(x_vals, y_vals, style, c=\"r\")\n",
    "\n",
    "\n",
    "def create_qq_plot(data):\n",
    "    n = len(data)\n",
    "    data_sorted = sorted(data)\n",
    "    mu_hat = data.mean()\n",
    "    se_hat = data.std()\n",
    "    theo_q = [norm.ppf((i - 0.5) \/ n, mu_hat, se_hat) for i in range(1, n+1)]\n",
    "\n",
    "    plt.scatter(theo_q, data_sorted, c=\"royalblue\")\n",
    "    plt.title(\"Q-Q Plot\")\n",
    "    plt.xlabel(\"Theortical Quantiles\")\n",
    "    plt.ylabel(\"Sample Quantiles\")\n",
    "    \n",
    "    abline(1, 0, \"--\")\n",
    "    plt.show()"
   ],
   "execution_count":100,
   "outputs":[
    
   ],
   "metadata":{
    "datalore":{
     "node_id":"Z5s6tNT8ldFEK25lQ622Ha",
     "type":"CODE",
     "hide_input_from_viewers":false,
     "hide_output_from_viewers":false
    }
   }
  },
  {
   "cell_type":"markdown",
   "source":[
    "First, we will check if the weights of the first group are distributed Normally."
   ],
   "attachments":{
    
   },
   "metadata":{
    "datalore":{
     "node_id":"nftgN9LLOviYQwDLYF5LaZ",
     "type":"MD",
     "hide_input_from_viewers":false,
     "hide_output_from_viewers":false
    }
   }
  },
  {
   "cell_type":"code",
   "source":[
    "weights_1 = sampled_data2[sampled_data2[\"won_any\"] == 1][\"weight\"]\n",
    "n = len(weights_1)\n",
    "\n",
    "x_label = \"Weight [KG]\"\n",
    "title = \"Histogram of Athletes' weight who Won a Medal\"\n",
    "create_histogram(weights_1, 10, x_label, title)\n",
    "create_qq_plot(weights_1)\n"
   ],
   "execution_count":98,
   "outputs":[
    {
     "data":{
      "image\/png":"[encoded data removed]"
     },
     "metadata":{
      "image\/png":{
       
      }
     },
     "output_type":"display_data"
    },
    {
     "data":{
      "image\/png":"[encoded data removed]"
     },
     "metadata":{
      "image\/png":{
       
      }
     },
     "output_type":"display_data"
    }
   ],
   "metadata":{
    "datalore":{
     "node_id":"P1ZNj5ZyCueM2oBKAvmnP8",
     "type":"CODE",
     "hide_input_from_viewers":false,
     "hide_output_from_viewers":false
    }
   }
  },
  {
   "cell_type":"markdown",
   "source":[
    "As we can see, the distribution above does not resemble a normal distribution. In addition, we checked for normality using a Q-Q plot, which also does not indicate normality of our data."
   ],
   "attachments":{
    
   },
   "metadata":{
    "datalore":{
     "node_id":"DsybFkpkoSbdOaWUwDNnSu",
     "type":"MD",
     "hide_input_from_viewers":false,
     "hide_output_from_viewers":false
    }
   }
  },
  {
   "cell_type":"markdown",
   "source":[
    "Now, we'll checking if the weights of the second group are distributed Normally."
   ],
   "attachments":{
    
   },
   "metadata":{
    "datalore":{
     "node_id":"2KuunwqwsTHd52mLeFhSqg",
     "type":"MD",
     "hide_input_from_viewers":false,
     "hide_output_from_viewers":false
    }
   }
  },
  {
   "cell_type":"code",
   "source":[
    "weights_2 = sampled_data2[sampled_data2[\"won_any\"] == 0][\"weight\"]\n",
    "m = len(weights_2)\n",
    "\n",
    "x_label = \"Weight [KG]\"\n",
    "title = \"Histogram of Athletes' Weight Who Didn't Win Any Medals\"\n",
    "create_histogram(weights_2, 9, x_label, title)\n",
    "create_qq_plot(weights_2)"
   ],
   "execution_count":99,
   "outputs":[
    {
     "data":{
      "image\/png":"[encoded data removed]"
     },
     "metadata":{
      "image\/png":{
       
      }
     },
     "output_type":"display_data"
    },
    {
     "data":{
      "image\/png":"[encoded data removed]"
     },
     "metadata":{
      "image\/png":{
       
      }
     },
     "output_type":"display_data"
    }
   ],
   "metadata":{
    "datalore":{
     "node_id":"DIDsXbMqnqcyOADtbZJj4x",
     "type":"CODE",
     "hide_input_from_viewers":false,
     "hide_output_from_viewers":false
    }
   }
  },
  {
   "cell_type":"markdown",
   "source":[
    "As we can see, the distribution above does not resemble a normal distribution. In addition, we checked for normality using a Q-Q plot, which also does not indicate normality of our data.\n",
    "\n",
    "It seems that the data doesn't come from a known distribution. Therefore, we don't have the density function of the data and as a result, we can't find the likelihood function. Thus, it's irrelevant to talk about MLE.\n",
    "\n",
    "(*) In order to check if the data comes from a known distribution, we were instructed in an office hour to only check if the data is distributed Normally."
   ],
   "attachments":{
    
   },
   "metadata":{
    "datalore":{
     "node_id":"bOjlVaixeco4hJnOpNKLxP",
     "type":"MD",
     "hide_input_from_viewers":false,
     "hide_output_from_viewers":false
    }
   }
  },
  {
   "cell_type":"markdown",
   "source":[
    "Findings the estimators."
   ],
   "attachments":{
    
   },
   "metadata":{
    "datalore":{
     "node_id":"ElFRkkGLfWcaEImQKEhWGu",
     "type":"MD",
     "hide_input_from_viewers":false,
     "hide_output_from_viewers":false
    }
   }
  },
  {
   "cell_type":"code",
   "source":[
    "mu_1_hat = weights_1.mean()\n",
    "mu_2_hat = weights_2.mean()\n",
    "\n",
    "delta_hat = mu_1_hat - mu_2_hat\n",
    "\n",
    "print(f\"The estimator of mu_1 (based on sampled_data2): {round(mu_1_hat, 3)}\")\n",
    "print(f\"The estimator of mu_2 (based on sampled_data2): {round(mu_2_hat, 3)}\")\n",
    "print(f\"The estimator of delta (based on sampled_data2): {round(delta_hat, 3)}\")"
   ],
   "execution_count":69,
   "outputs":[
    {
     "name":"stdout",
     "text":[
      "The estimator of mu_1 (based on sampled_data2): 73.821\n",
      "The estimator of mu_2 (based on sampled_data2): 73.215\n",
      "The estimator of delta (based on sampled_data2): 0.606\n"
     ],
     "output_type":"stream"
    }
   ],
   "metadata":{
    "datalore":{
     "node_id":"Gi6fdSAQUxYSBDB1ryP0oR",
     "type":"CODE",
     "hide_input_from_viewers":false,
     "hide_output_from_viewers":false
    }
   }
  },
  {
   "cell_type":"markdown",
   "source":[
    "### Section B\n",
    "\n",
    "Notations:\n",
    "\n",
    "- Let ${\\sigma_x^1}^2$ be the variance of the athletes' weight who won a medal.\n",
    "- Let $n$ be the athletes number who won a medal.\n",
    "- Let ${\\sigma_x^2}^2$ be the variance of the athletes' weight who didn't win any medals.\n",
    "- Let $m$ be the athletes number who didn't win any medal.\n",
    "\n",
    "\n",
    "According to project 2, question 1, section b, we can assume that $\\bar X_1 \\approx N(\\hat \\mu_x^1, \\space {\\sigma_x^1}^2\/n)$, $\\bar X_2 \\approx N(\\hat \\mu_x^2, \\space {\\sigma_x^2}^2\/m)$.\n",
    "\n",
    "Since the samples of our data are independent, we can assume that $\\hat \\delta = \\bar X_1 - \\bar X_2 \\approx N(\\hat \\mu_x^1 - \\hat \\mu_x^2, \\space ({\\sigma_x^1}^2 \/ n) + ({\\sigma_x^2}^2 \/ m))$.\n",
    "\n",
    "As a result, we can find a confidence interval using normal approximation (with estimation of the variance)."
   ],
   "attachments":{
    
   },
   "metadata":{
    "datalore":{
     "node_id":"19BXVpR6ujWIaEc4t0I4qK",
     "type":"MD",
     "hide_input_from_viewers":false,
     "hide_output_from_viewers":false
    }
   }
  },
  {
   "cell_type":"code",
   "source":[
    "mean_s1_squared = weights_1.var() \/ n\n",
    "mean_s2_squared = weights_2.var() \/ m\n",
    "\n",
    "se_hat = (mean_s1_squared + mean_s2_squared) ** 0.5\n",
    "z = norm.ppf(0.975)\n",
    "\n",
    "confidence_interval = np.array([delta_hat - (z * se_hat), delta_hat + (z * se_hat)])\n",
    "print(f\"Confidence interval with approximated confidence level of 0.95 for delta: {np.round(confidence_interval, 3)}\")"
   ],
   "execution_count":70,
   "outputs":[
    {
     "name":"stdout",
     "text":[
      "Confidence interval with approximated confidence level of 0.95 for delta: [-5.756  6.969]\n"
     ],
     "output_type":"stream"
    }
   ],
   "metadata":{
    "datalore":{
     "node_id":"09rbRVSYXTmXMLFmPbDRZg",
     "type":"CODE",
     "hide_input_from_viewers":false,
     "hide_output_from_viewers":false
    }
   }
  },
  {
   "cell_type":"markdown",
   "source":[
    "### Section C"
   ],
   "attachments":{
    
   },
   "metadata":{
    "datalore":{
     "node_id":"Ew1RNdB3LsvyycZCznai3n",
     "type":"MD",
     "hide_input_from_viewers":false,
     "hide_output_from_viewers":false
    }
   }
  },
  {
   "cell_type":"code",
   "source":[
    "mu_1_all_hat = data[data[\"won_any\"] == 1][\"weight\"].mean()\n",
    "mu_2_all_hat = data[data[\"won_any\"] == 0][\"weight\"].mean()\n",
    "delta_all_hat = mu_1_all_hat - mu_2_all_hat\n",
    "print(f\"The estimator of delta (based on all data): {round(delta_all_hat, 3)}\")"
   ],
   "execution_count":71,
   "outputs":[
    {
     "name":"stdout",
     "text":[
      "The estimator of delta (based on all data): 3.076\n"
     ],
     "output_type":"stream"
    }
   ],
   "metadata":{
    "datalore":{
     "node_id":"t7BzxNn9C5PyF5ZsOABeZx",
     "type":"CODE",
     "hide_input_from_viewers":false,
     "hide_output_from_viewers":false
    }
   }
  },
  {
   "cell_type":"markdown",
   "source":[
    "As we can see, the estimator of delta (based on all the data) is indeed trapped in the confidence interval we found in the previous section."
   ],
   "attachments":{
    
   },
   "metadata":{
    "datalore":{
     "node_id":"JgdzzVtXAzkwTSamn4E3HL",
     "type":"MD",
     "hide_input_from_viewers":false,
     "hide_output_from_viewers":false
    }
   }
  },
  {
   "cell_type":"markdown",
   "source":[
    "### Section D\n",
    "\n",
    "In this section, we will use the following tests with level $\\alpha = 0.05$ (in each one), in order to check our research question\n",
    "\n",
    "- Wald test.\n",
    "- Permutation test."
   ],
   "attachments":{
    
   },
   "metadata":{
    "datalore":{
     "node_id":"E0mhKbS2NEX2Ro7lMfk51n",
     "type":"MD",
     "hide_input_from_viewers":false,
     "hide_output_from_viewers":false
    }
   }
  },
  {
   "cell_type":"markdown",
   "source":[
    "### Wald test\n",
    "\n",
    "We will use this test in order to check the following hypotheses:\n",
    "\n",
    "$H_0: \\delta = 0 $\n",
    "\n",
    "$H_1: \\delta > 0$\n",
    "\n",
    "$T.S$: $W = (\\hat \\delta - \\delta) \/ \\hat {s.e}$\n",
    "\n",
    "$R.R$: $W > z_{\\alpha}$\n",
    "\n",
    "(*) We are using the one-sided version of this test since our research question is one-sided.\n",
    "\n",
    "(**) We showed that $\\hat \\delta$ is asymptotically normal, therefore we can use this test."
   ],
   "attachments":{
    
   },
   "metadata":{
    "datalore":{
     "node_id":"jtWINVrLUBZZRtH2B1CLMg",
     "type":"MD",
     "hide_input_from_viewers":false,
     "hide_output_from_viewers":false
    }
   }
  },
  {
   "cell_type":"code",
   "source":[
    "W = delta_hat \/ se_hat\n",
    "\n",
    "# the 0.95 quantile of standard normal distribution\n",
    "nq = norm.ppf(0.95)\n",
    "\n",
    "# the reject region\n",
    "reject_h0 = W > nq\n",
    "\n",
    "if reject_h0:  \n",
    "    print(f\"The result of our test is --- Reject H_0\")\n",
    "else:\n",
    "    print(f\"The result of the test is --- Retain H_0\")\n",
    "\n",
    "pv = 1 - norm.cdf(W)\n",
    "\n",
    "print(f\"PV: {round(pv, 3)}\")"
   ],
   "execution_count":72,
   "outputs":[
    {
     "name":"stdout",
     "text":[
      "The result of the test is --- Retain H_0\n",
      "PV: 0.426\n"
     ],
     "output_type":"stream"
    }
   ],
   "metadata":{
    "datalore":{
     "node_id":"kM9Zkoc7wtKx4QEka9TnkH",
     "type":"CODE",
     "hide_input_from_viewers":false,
     "hide_output_from_viewers":false
    }
   }
  },
  {
   "cell_type":"markdown",
   "source":[
    "### Permutation test\n",
    "\n",
    "We will use this test in order to check the following hypotheses:\n",
    "\n",
    "$H_0: F_{X_1} = F_{X_2}$\n",
    "\n",
    "$H_1: F_{X_1} \\succ F_{X_2}$\n",
    "\n",
    "T.S: $T_0 = \\hat \\delta$\n",
    "\n",
    "p-value: $(\\#I [T_j \\ge T_0]) \/ B$\n",
    "\n",
    "R.R: $PV < \\alpha$\n",
    "\n",
    "(*) We generated B permutations according to the question instructions."
   ],
   "attachments":{
    
   },
   "metadata":{
    "datalore":{
     "node_id":"saCOmTBstWUekDMDIbDCxQ",
     "type":"MD",
     "hide_input_from_viewers":false,
     "hide_output_from_viewers":false
    }
   }
  },
  {
   "cell_type":"code",
   "source":[
    "# generate permutations B according to the question instructions\n",
    "def generate_permutations(data, n, B):\n",
    "    permutations_1, permutations_2 = [], []\n",
    "\n",
    "    for b in range(B):\n",
    "        # sampling values without repetition\n",
    "        data_copy = data.copy()\n",
    "        sampled_data = data_copy.sample(n=n, random_state=b)\n",
    "        sampled_indecies = sampled_data.index.values\n",
    "        data_without_sampled = data_copy.drop(sampled_indecies, axis=0)\n",
    "\n",
    "        permutations_1.append(sampled_data[\"weight\"].values.tolist())\n",
    "        permutations_2.append(data_without_sampled[\"weight\"].values.tolist())\n",
    "\n",
    "    return permutations_1, permutations_2\n",
    "\n",
    "# find B (400) permutations\n",
    "permutations_1, permutations_2 = generate_permutations(sampled_data2, n, B)"
   ],
   "execution_count":73,
   "outputs":[
    
   ],
   "metadata":{
    "datalore":{
     "node_id":"P0uaNDqKmz3DnsM2nFOBkZ",
     "type":"CODE",
     "hide_input_from_viewers":false,
     "hide_output_from_viewers":false
    }
   }
  },
  {
   "cell_type":"code",
   "source":[
    "# find delta_hat for each permutations pair\n",
    "permutation_delta_hat_lst = [(sum(p1) \/ n) - (sum(p2) \/ m) for p1, p2 in zip(permutations_1, permutations_2)]\n",
    "\n",
    "# find the p_value\n",
    "p_value = sum([1 if per_delta_hat >= delta_hat else 0 for per_delta_hat in permutation_delta_hat_lst]) \/ len(permutation_delta_hat_lst)\n",
    "\n",
    "alpha = 0.05\n",
    "# the reject region\n",
    "reject_h0 = p_value < alpha\n",
    "\n",
    "if reject_h0:  \n",
    "    print(f\"The result of our test is --- Reject H_0\")\n",
    "else:\n",
    "    print(f\"The result of the test is --- Retain H_0\")\n",
    "\n",
    "print(f\"PV: {p_value}\")"
   ],
   "execution_count":74,
   "outputs":[
    {
     "name":"stdout",
     "text":[
      "The result of the test is --- Retain H_0\n",
      "PV: 0.48\n"
     ],
     "output_type":"stream"
    }
   ],
   "metadata":{
    "datalore":{
     "node_id":"rWkFapPvB0wzPSBWa2eUpn",
     "type":"CODE",
     "hide_input_from_viewers":false,
     "hide_output_from_viewers":false
    }
   }
  },
  {
   "cell_type":"markdown",
   "source":[
    "As we can see, we retain the null hypothesis on both tests, with level $\\alpha = 0.05$ (in each one)."
   ],
   "attachments":{
    
   },
   "metadata":{
    "datalore":{
     "node_id":"0asnYKrtqxLP3IGud88BLV",
     "type":"MD",
     "hide_input_from_viewers":false,
     "hide_output_from_viewers":false
    }
   }
  },
  {
   "cell_type":"markdown",
   "source":[
    "## Q4"
   ],
   "attachments":{
    
   },
   "metadata":{
    "datalore":{
     "node_id":"Nf8ikSmVuhKovCib7mJCKE",
     "type":"MD",
     "hide_input_from_viewers":false,
     "hide_output_from_viewers":false
    }
   }
  },
  {
   "cell_type":"markdown",
   "source":[
    "### Section A\n",
    "\n",
    "Notations:\n",
    "\n",
    "- Let $m_1$ be the theoretical median of the distribution of athletes' weights who won a medal.\n",
    "- Let $m_2$ be the theoretical median of the distribution of athletes' weights who didn't win a medal.\n",
    "\n",
    "We will choose the following estimators:\n",
    "- $\\hat m_1 = X_{(n\/2)}$\n",
    "- $\\hat m_2 = X_{(n\/2)}$\n",
    "- $\\hat \\delta = \\hat m_1 -\\hat m_2$\n",
    "\n",
    "As mentioned in question 3, section A, It seems that the data doesn't come from a known distribution. Therefore, we don't have the density function of the data and as a result, we can't find the likelihood function. Thus, it's irrelevant to talk about MLE."
   ],
   "attachments":{
    
   },
   "metadata":{
    "datalore":{
     "node_id":"0tEWBAvQcfPX7Zrkrp4ZQK",
     "type":"MD",
     "hide_input_from_viewers":false,
     "hide_output_from_viewers":false
    }
   }
  },
  {
   "cell_type":"markdown",
   "source":[
    "As we can see, the number of records under each category is even, therefore we can find the median of each sample by taking the $\\frac{n}{2}$'th order statistic."
   ],
   "attachments":{
    
   },
   "metadata":{
    "datalore":{
     "node_id":"TBP3WPN7u1qVAQd2x36lUz",
     "type":"MD",
     "hide_input_from_viewers":false,
     "hide_output_from_viewers":false
    }
   }
  },
  {
   "cell_type":"code",
   "source":[
    "print(f\"athelets' number who won a medal: {n}\")\n",
    "print(f\"athelets' number who didn't win any medals: {m}\")"
   ],
   "execution_count":75,
   "outputs":[
    {
     "name":"stdout",
     "text":[
      "athelets' number who won a medal: 28\n",
      "athelets' number who didn't win any medals: 172\n"
     ],
     "output_type":"stream"
    }
   ],
   "metadata":{
    "datalore":{
     "node_id":"fVFaVzYjqUfXngFEUVK561",
     "type":"CODE",
     "hide_input_from_viewers":false,
     "hide_output_from_viewers":false
    }
   }
  },
  {
   "cell_type":"markdown",
   "source":[
    "Finding the estimators."
   ],
   "attachments":{
    
   },
   "metadata":{
    "datalore":{
     "node_id":"2w6HouSIiBcwk33EyfwO4o",
     "type":"MD",
     "hide_input_from_viewers":false,
     "hide_output_from_viewers":false
    }
   }
  },
  {
   "cell_type":"code",
   "source":[
    "weights_1_sorted = sorted(weights_1)\n",
    "weights_2_sorted = sorted(weights_2)\n",
    "\n",
    "m1_hat = weights_1_sorted[n \/\/ 2]\n",
    "m2_hat = weights_2_sorted[m \/\/ 2]\n",
    "delta_hatt = m1_hat - m2_hat\n",
    "\n",
    "print(f\"The estimator of m1 (based on sampled_data2): {round(m1_hat, 3)}\")\n",
    "print(f\"The estimator of m2 (based on sampled_data2): {round(m2_hat, 3)}\")\n",
    "print(f\"The estimator of delta (based on sampled_data2): {round(delta_hatt, 3)}\")"
   ],
   "execution_count":76,
   "outputs":[
    {
     "name":"stdout",
     "text":[
      "The estimator of m1 (based on sampled_data2): 72\n",
      "The estimator of m2 (based on sampled_data2): 70\n",
      "The estimator of delta (based on sampled_data2): 2\n"
     ],
     "output_type":"stream"
    }
   ],
   "metadata":{
    "datalore":{
     "node_id":"ebKaf1HtHJ48DCa2D3318X",
     "type":"CODE",
     "hide_input_from_viewers":false,
     "hide_output_from_viewers":false
    }
   }
  },
  {
   "cell_type":"markdown",
   "source":[
    "### Section B\n",
    "\n",
    "In this section, we will find a confidence interval for $\\hat \\delta$, using the bootstrap percentile method with approximated confidence level of 0.95."
   ],
   "attachments":{
    
   },
   "metadata":{
    "datalore":{
     "node_id":"pGIAYP2eqQ1P3qEGPgxFF3",
     "type":"MD",
     "hide_input_from_viewers":false,
     "hide_output_from_viewers":false
    }
   }
  },
  {
   "cell_type":"code",
   "source":[
    "def generate_bootstrap_estimators(weights_1, weights_2, B):\n",
    "    n, m = len(weights_1), len(weights_2)\n",
    "    bs_delta_estimators = []\n",
    "\n",
    "    for b in range(B):\n",
    "        # create bootstrap sample of each group\n",
    "        # # we set random_state in order to get consistent results\n",
    "        bs_weights_1 = sorted(weights_1.sample(n=n, random_state=b, replace=True))\n",
    "        bs_weights_2 = sorted(weights_2.sample(n=m, random_state=b, replace=True))\n",
    "\n",
    "        # find the bootstrap mean of each group\n",
    "        bs_m1 = bs_weights_1[n \/\/ 2]\n",
    "        bs_m2 = bs_weights_2[m \/\/ 2]\n",
    "\n",
    "        # find the bootstrap estimator delta_hat\n",
    "        bs_delta = bs_m1 - bs_m2\n",
    "        bs_delta_estimators.append(bs_delta)\n",
    "\n",
    "    return bs_delta_estimators\n",
    "\n",
    "bootstrap_est_lst = generate_bootstrap_estimators(weights_1, weights_2, B)"
   ],
   "execution_count":77,
   "outputs":[
    
   ],
   "metadata":{
    "datalore":{
     "node_id":"WMpQFvpZYrFYBkCj1XLnsn",
     "type":"CODE",
     "hide_input_from_viewers":false,
     "hide_output_from_viewers":false
    }
   }
  },
  {
   "cell_type":"code",
   "source":[
    "bootstrap_est_lst_sorted = sorted(bootstrap_est_lst)\n",
    "\n",
    "# 0.025 and 0.975 bootstrap percentiles\n",
    "alpha = 0.05\n",
    "low_q = bootstrap_est_lst_sorted[int((alpha \/ 2) * B)]\n",
    "high_q = bootstrap_est_lst_sorted[int((1 - (alpha \/ 2)) * B)]\n",
    "\n",
    "confidence_interval = np.array([low_q, high_q])\n",
    "print(\"Confidence interval:\")\n",
    "print(confidence_interval)"
   ],
   "execution_count":78,
   "outputs":[
    {
     "name":"stdout",
     "text":[
      "Confidence interval:\n",
      "[-4 11]\n"
     ],
     "output_type":"stream"
    }
   ],
   "metadata":{
    "datalore":{
     "node_id":"JQtA0Qp9BP9hXs43igrytJ",
     "type":"CODE",
     "hide_input_from_viewers":false,
     "hide_output_from_viewers":false
    }
   }
  },
  {
   "cell_type":"markdown",
   "source":[
    "### Section C"
   ],
   "attachments":{
    
   },
   "metadata":{
    "datalore":{
     "node_id":"3V7R8rafvn4Mg7uoc0O5Q3",
     "type":"MD",
     "hide_input_from_viewers":false,
     "hide_output_from_viewers":false
    }
   }
  },
  {
   "cell_type":"code",
   "source":[
    "# the median of each group based on all the data\n",
    "m1_all_hat = int(data[data[\"won_any\"] == 1][\"weight\"].median())\n",
    "m2_all_hat = int(data[data[\"won_any\"] == 0][\"weight\"].median())\n",
    "\n",
    "delta_all_hatt = m1_all_hat - m2_all_hat\n",
    "print(f\"The estimator of delta (based on all data): {round(delta_all_hatt, 3)}\")"
   ],
   "execution_count":79,
   "outputs":[
    {
     "name":"stdout",
     "text":[
      "The estimator of delta (based on all data): 4\n"
     ],
     "output_type":"stream"
    }
   ],
   "metadata":{
    "datalore":{
     "node_id":"v1JPfLnfjZVJiW3x9YBnSp",
     "type":"CODE",
     "hide_input_from_viewers":false,
     "hide_output_from_viewers":false
    }
   }
  },
  {
   "cell_type":"markdown",
   "source":[
    "As we can see, the estimator of delta (based on all the data) is indeed trapped in the confidence interval we found in the previous section."
   ],
   "attachments":{
    
   },
   "metadata":{
    "datalore":{
     "node_id":"bQLOUx78BpbtY04C5VvKyA",
     "type":"MD",
     "hide_input_from_viewers":false,
     "hide_output_from_viewers":false
    }
   }
  },
  {
   "cell_type":"markdown",
   "source":[
    "### Section D\n",
    "\n",
    "In this section, we will use permutation test with level $\\alpha = 0.05$ in order to check our hypotheses:\n",
    "\n",
    "$H_0: F_{X_1} = F_{X_2}$\n",
    "\n",
    "$H_1: F_{X_1} \\succ F_{X_2}$\n",
    "\n",
    "T.S: $T_0 = \\hat \\delta$\n",
    "\n",
    "PV: $(\\#I [T_j \\ge T_0]) \/ B$\n",
    "\n",
    "R.R: $PV < \\alpha$\n",
    "\n",
    "(*) We generated B permutations according to the question instructions."
   ],
   "attachments":{
    
   },
   "metadata":{
    "datalore":{
     "node_id":"BIpG5Y6eyS70ltEhvlUqd9",
     "type":"MD",
     "hide_input_from_viewers":false,
     "hide_output_from_viewers":false
    }
   }
  },
  {
   "cell_type":"code",
   "source":[
    "# find B (400) permutations\n",
    "permutations_1, permutations_2 = generate_permutations(sampled_data2, n, B)"
   ],
   "execution_count":80,
   "outputs":[
    
   ],
   "metadata":{
    "datalore":{
     "node_id":"fOlkCcOsOStNfJvKfb6CzE",
     "type":"CODE",
     "hide_input_from_viewers":false,
     "hide_output_from_viewers":false
    }
   }
  },
  {
   "cell_type":"code",
   "source":[
    "# find delta_hat for each permutations pair\n",
    "permutation_delta_hatt_lst = [sorted(p1)[n \/\/ 2] - sorted(p2)[m \/\/ 2] for p1, p2 in zip(permutations_1, permutations_2)]\n",
    "\n",
    "# find the p_value\n",
    "p_value = sum([1 if per_delta_hatt >= delta_hatt else 0 for per_delta_hatt in permutation_delta_hatt_lst]) \/ len(permutation_delta_hatt_lst)\n",
    "\n",
    "# the reject region\n",
    "reject_h0 = p_value < alpha\n",
    "alpha = 0.05\n",
    "\n",
    "if reject_h0:  \n",
    "    print(f\"The result of our test is --- Reject H_0\")\n",
    "else:\n",
    "    print(f\"The result of the test is --- Retain H_0\")\n",
    "\n",
    "print(f\"PV: {p_value}\")"
   ],
   "execution_count":81,
   "outputs":[
    {
     "name":"stdout",
     "text":[
      "The result of the test is --- Retain H_0\n",
      "PV: 0.48\n"
     ],
     "output_type":"stream"
    }
   ],
   "metadata":{
    "datalore":{
     "node_id":"dBlWsJ8n22kXbX4ud1dHHU",
     "type":"CODE",
     "hide_input_from_viewers":false,
     "hide_output_from_viewers":false
    }
   }
  },
  {
   "cell_type":"markdown",
   "source":[
    "As we can see, we retain the null hypothesis with level $\\alpha = 0.05$"
   ],
   "attachments":{
    
   },
   "metadata":{
    "datalore":{
     "node_id":"nk4iQHqK0nzGF7OSDaPv5k",
     "type":"MD",
     "hide_input_from_viewers":false,
     "hide_output_from_viewers":false
    }
   }
  },
  {
   "cell_type":"markdown",
   "source":[
    "### Section E\n",
    "\n",
    "#### Using Wald test\n",
    "\n",
    "As we saw in the lecture, in order to use Wald test, the estimator has to be asymptotically Normal. $\\hat \\delta$ is the difference between the sample medians and therefore does not necessarily have that property.\n",
    "\n",
    "We will check if $\\hat \\delta$ satisfies this condition, using bootstrap."
   ],
   "attachments":{
    
   },
   "metadata":{
    "datalore":{
     "node_id":"e9hC9mogwNrzjIlZ3dnXDg",
     "type":"MD",
     "hide_input_from_viewers":false,
     "hide_output_from_viewers":false
    }
   }
  },
  {
   "cell_type":"code",
   "source":[
    "x_label = \"Bootstrap delta_hat Values\"\n",
    "title = \"Histogram of Bootstrap delta_hat Values\"\n",
    "create_histogram(bootstrap_est_lst, 10, x_label, title)\n",
    "create_qq_plot(np.array(bootstrap_est_lst))"
   ],
   "execution_count":82,
   "outputs":[
    {
     "data":{
      "image\/png":"[encoded data removed]"
     },
     "metadata":{
      "image\/png":{
       
      }
     },
     "output_type":"display_data"
    },
    {
     "data":{
      "image\/png":"[encoded data removed]"
     },
     "metadata":{
      "image\/png":{
       
      }
     },
     "output_type":"display_data"
    }
   ],
   "metadata":{
    "datalore":{
     "node_id":"DJNY7l9v0Hi42BXcCPgSR1",
     "type":"CODE",
     "hide_input_from_viewers":false,
     "hide_output_from_viewers":false
    }
   }
  },
  {
   "cell_type":"markdown",
   "source":[
    "As we can see from the plots above, the distribution of the bootstrap estimators we received doesn't seem to be Normal. Therefore, it is very unlikely that $\\hat \\delta$ is asymptotically normal. As a result we can't use Wald test."
   ],
   "attachments":{
    
   },
   "metadata":{
    "datalore":{
     "node_id":"HgkVPxsy06w3KgqEnlzE5A",
     "type":"MD",
     "hide_input_from_viewers":false,
     "hide_output_from_viewers":false
    }
   }
  },
  {
   "cell_type":"markdown",
   "source":[
    "#### Using T test\n",
    "\n",
    "In order to use T test, there are a few conditions that the data has to satisfy. One of them is that the samples under each category are distributed Normally.\n",
    "\n",
    "As seen in question 3, section A, the values of each group aren't distributed Normally. Therefore, we can't use T test (our data doesn't meet the test conditions)."
   ],
   "attachments":{
    
   },
   "metadata":{
    "datalore":{
     "node_id":"fBJj1H3wCz83rAIvUqQBWF",
     "type":"MD",
     "hide_input_from_viewers":false,
     "hide_output_from_viewers":false
    }
   }
  },
  {
   "cell_type":"markdown",
   "source":[
    "As we saw in question question 3, section A, the data under each category doesn't seem to be distributed Normally (especially the values under the second category). Therefore, we can't use T test."
   ],
   "attachments":{
    
   },
   "metadata":{
    "datalore":{
     "node_id":"K4PRvjdx7ayC205w9XtMvU",
     "type":"MD",
     "hide_input_from_viewers":false,
     "hide_output_from_viewers":false
    }
   }
  },
  {
   "cell_type":"markdown",
   "source":[
    "## Q5\n",
    "\n",
    "Notation:\n",
    "\n",
    "- Let $S_1$ be the rank sum in the first category (Y=0).\n",
    "- Let $S_2$ be the rank sum in the second category (Y=1).\n",
    "\n",
    "In this question, we will use permutation test with level $\\alpha = 0.05$ in order to check our hypotheses:\n",
    "\n",
    "$H_0: F_{X_1} = F_{X_2}$\n",
    "\n",
    "$H_1: F_{X_1} \\succ F_{X_2}$\n",
    "\n",
    "T.S: $T_0 = S_1$\n",
    "\n",
    "PV: $(\\#I [T_j \\ge T_0]) \/ B$\n",
    "\n",
    "R.R: $PV < \\alpha$\n",
    "\n",
    "(*) This test is basically Wilcoxon test (as seen in the tutorial).\n",
    "\n",
    "(**) There are duplicated values in our data. We will deal with it in \"find_ranks\" function implemented below (according to the same principles we saw in the tutorial).\n",
    "\n",
    "(***) We generated B permutations according to the question instructions."
   ],
   "attachments":{
    
   },
   "metadata":{
    "datalore":{
     "node_id":"OfVpwSQ3iKrmWV35FxnfFH",
     "type":"MD",
     "hide_input_from_viewers":false,
     "hide_output_from_viewers":false
    }
   }
  },
  {
   "cell_type":"code",
   "source":[
    "VALUE, GROUP, RANK = 0, 1, 2\n",
    "\n",
    "# this function finds the rank of each value according to the principles we saw in the tuorial (regarding duplicated values)\n",
    "def find_ranks(lst):\n",
    "    tr_lst = []\n",
    "    rank_sum, cnt, n = 0, 1, len(lst)\n",
    "    for i in range(n - 1):\n",
    "\n",
    "        rank_sum += i+1\n",
    "        \n",
    "        if lst[i][VALUE] == lst[i+1][VALUE]:\n",
    "            cnt += 1\n",
    "                \n",
    "        else:\n",
    "            for j in range(i-cnt+1, i+1):\n",
    "                lst[j][RANK] = rank_sum \/ cnt\n",
    "\n",
    "            if cnt > 1:\n",
    "                tr_lst.append(cnt)\n",
    "\n",
    "            rank_sum = 0\n",
    "            cnt = 1\n",
    "    \n",
    "    if cnt > 1:\n",
    "        tr_lst.append(cnt)\n",
    "\n",
    "    rank_sum += n\n",
    "    for j in range(n - cnt, n):\n",
    "            lst[j][RANK] = rank_sum \/ cnt\n",
    "        \n",
    "    s1 = sum(x[RANK] if x[GROUP] == 1 else 0 for x in lst)\n",
    "    return s1, tr_lst\n",
    "\n",
    "\n",
    "def generate_rank_permutations(data, n, B):\n",
    "    per_1_lst, per_2_lst = generate_permutations(data, n, B)\n",
    "    s1_permutations = []\n",
    "    for per_1, per_2 in zip(per_1_lst, per_2_lst):\n",
    "\n",
    "        per_1 = [[val, 1, 0] for val in per_1]\n",
    "        per_2 = [[val, 2, 0] for val in per_2]\n",
    "\n",
    "        total_per = sorted(per_1 + per_2, key=lambda x: x[VALUE])\n",
    "        s1_per, _ = find_ranks(total_per)\n",
    "\n",
    "        s1_permutations.append(s1_per)\n",
    "\n",
    "    return s1_permutations\n",
    "\n",
    "\n",
    "s1_lst = generate_rank_permutations(sampled_data2, n, B)"
   ],
   "execution_count":83,
   "outputs":[
    
   ],
   "metadata":{
    "datalore":{
     "node_id":"NhPaLXC0g2jSsX0eJWHSJj",
     "type":"CODE",
     "hide_input_from_viewers":false,
     "hide_output_from_viewers":false
    }
   }
  },
  {
   "cell_type":"code",
   "source":[
    "# find s1_0 (the rank sum of our data)\n",
    "weights_1_modified = [[x, 1, 0] for x in weights_1]\n",
    "weights_2_modified = [[x, 2, 0] for x in weights_2]\n",
    "\n",
    "all_weights = sorted(weights_1_modified + weights_2_modified, key=lambda x:x[0])\n",
    "s1_0, tr_0_lst = find_ranks(all_weights) \n",
    "\n",
    "\n",
    "# find the p_value\n",
    "p_value = sum([1 if per_s1 >= s1_0 else 0 for per_s1 in s1_lst]) \/ len(s1_lst)\n",
    "alpha = 0.05\n",
    "\n",
    "# the reject region\n",
    "reject_h0 = p_value < alpha\n",
    "\n",
    "if reject_h0:  \n",
    "    print(f\"The result of our test is --- Reject H_0\")\n",
    "else:\n",
    "    print(f\"The result of the test is --- Retain H_0\")\n",
    "\n",
    "print(f\"PV: {round(p_value, 3)}\")"
   ],
   "execution_count":84,
   "outputs":[
    {
     "name":"stdout",
     "text":[
      "The result of the test is --- Retain H_0\n",
      "PV: 0.352\n"
     ],
     "output_type":"stream"
    }
   ],
   "metadata":{
    "datalore":{
     "node_id":"pKSqEN5N3rCDu0ZldLAhEB",
     "type":"CODE",
     "hide_input_from_viewers":false,
     "hide_output_from_viewers":false
    }
   }
  },
  {
   "cell_type":"markdown",
   "source":[
    "As we can see, we retain the null hypothesis, with level $\\alpha = 0.05$.\n",
    "\n",
    "We saw in the lecture that $S_1$ is asymptotically normal. As mentioned, $n=28, m=172$, therefore, we can use the normal approximation (according to the rule of thumb we saw in the tutorial)."
   ],
   "attachments":{
    
   },
   "metadata":{
    "datalore":{
     "node_id":"MWwbVxHUXhzroHqxZnrCN8",
     "type":"MD",
     "hide_input_from_viewers":false,
     "hide_output_from_viewers":false
    }
   }
  },
  {
   "cell_type":"code",
   "source":[
    "# find S1_0 expcation and variance\n",
    "N = n + m\n",
    "\n",
    "tr_sum = sum([(tr * (tr**2 - 1)) for tr in tr_0_lst])\n",
    "\n",
    "s1_0_mu = (n*(N + 1)) \/ 2\n",
    "s1_0_se = (((n*m*(N+1)) \/ 12) - (((n*m) \/ (12*N*(N-1))) * tr_sum)) ** 0.5\n",
    "\n",
    "# test statistic - distributed standard normal\n",
    "TS = (s1_0 - s1_0_mu) \/ s1_0_se\n",
    "\n",
    "# the 0.95 quantile of standard normal distribution\n",
    "z = norm.ppf(0.95)\n",
    "\n",
    "# reject region (one sided-test)\n",
    "reject_h0 = TS > z\n",
    "\n",
    "if reject_h0:  \n",
    "    print(f\"The result of our test is --- Reject H_0\")\n",
    "else:\n",
    "    print(f\"The result of the test is --- Retain H_0\")\n",
    "\n",
    "print(f\"PV: {round(TS, 3)}\")"
   ],
   "execution_count":85,
   "outputs":[
    {
     "name":"stdout",
     "text":[
      "The result of the test is --- Retain H_0\n",
      "PV: 0.472\n"
     ],
     "output_type":"stream"
    }
   ],
   "metadata":{
    "datalore":{
     "node_id":"lvnMTLGVtSybi7McoAY0iM",
     "type":"CODE",
     "hide_input_from_viewers":false,
     "hide_output_from_viewers":false
    }
   }
  },
  {
   "cell_type":"markdown",
   "source":[
    "As we can see, we retain the null hypothesis, with level $\\alpha = 0.05$.\n",
    "\n",
    "To conclude, we retain the null hypothesis on both tests with level $\\alpha = 0.05$ (in each one). However, we received different P-values in each one.\n",
    "\n",
    "- In the first test, we received $PV = 0.352$\n",
    "- In the second test, we received $PV = 0.472$"
   ],
   "attachments":{
    
   },
   "metadata":{
    "datalore":{
     "node_id":"z8scs82j0OHwzR38XyTolE",
     "type":"MD",
     "hide_input_from_viewers":false,
     "hide_output_from_viewers":false
    }
   }
  },
  {
   "cell_type":"markdown",
   "source":[
    "## Q6\n",
    "\n",
    "All the results we got in questions 3-5 were consistent and pointed to the same conclusion -- to retain the null hypothesis.\n",
    "\n",
    "This means that $F_{X_1} = F_{X_2}$, or in other words, that the athletes' weight who won a medal is equal to the athletes' weight who didn't win any medals, in the \"usual stochastic order\".\n",
    "\n",
    "We will discuss these results after showing a histogram of each group values based on all the data (these histograms are identical to the ones from project 2).\n"
   ],
   "attachments":{
    
   },
   "metadata":{
    "datalore":{
     "node_id":"YHxGipkSQkwp9SSancO7MF",
     "type":"MD",
     "hide_input_from_viewers":false,
     "hide_output_from_viewers":false
    }
   }
  },
  {
   "cell_type":"code",
   "source":[
    "won_weights = data[data[\"won_any\"] == 1][\"weight\"]\n",
    "x_label = \"Athletes' Weight Who Won a Medal\"\n",
    "title = \"Histogram of Athletes' Weight Who Won a Medal\"\n",
    "create_histogram(won_weights, 10, x_label, title)\n",
    "\n",
    "not_won_weights = data[data[\"won_any\"] == 0][\"weight\"]\n",
    "x_label = \"Athletes' Weight Who Didn't Win Any Medals\"\n",
    "title = \"Histogram of Athletes' Weight Who Didn't Win Any Medals\"\n",
    "create_histogram(not_won_weights, 9, x_label, title, c=\"tomato\")"
   ],
   "execution_count":101,
   "outputs":[
    {
     "data":{
      "image\/png":"[encoded data removed]"
     },
     "metadata":{
      "image\/png":{
       
      }
     },
     "output_type":"display_data"
    },
    {
     "data":{
      "image\/png":"[encoded data removed]"
     },
     "metadata":{
      "image\/png":{
       
      }
     },
     "output_type":"display_data"
    }
   ],
   "metadata":{
    "datalore":{
     "node_id":"lqbnknvoQQLhoHo7GnWLef",
     "type":"CODE",
     "hide_input_from_viewers":false,
     "hide_output_from_viewers":false
    }
   }
  },
  {
   "cell_type":"markdown",
   "source":[
    "We can see the following: \n",
    "\n",
    "- Both histograms are around the same values range.\n",
    "- Both histograms have approximately the same common value.\n",
    "- The distributions of the values under each group are roughly the same.\n",
    "\n",
    "Therefore, we can conclude that it's reasonable to assume that the distribution of the athletes' weight who won a medal is the same as the distribution of the athletes' weight who didn't win any medals.\n",
    "\n",
    "Thus, it seems that the test results we got get along with the histograms of the values under each group, and that the null hypothesis is indeed correct."
   ],
   "attachments":{
    
   },
   "metadata":{
    "datalore":{
     "node_id":"UkpVXKOawziUHRhQR2a8QD",
     "type":"MD",
     "hide_input_from_viewers":false,
     "hide_output_from_viewers":false
    }
   }
  }
 ],
 "metadata":{
  "kernelspec":{
   "display_name":"Python",
   "language":"python",
   "name":"python"
  },
  "datalore":{
   "version":1,
   "computation_mode":"JUPYTER",
   "package_manager":"pip",
   "base_environment":"default",
   "packages":[
    
   ]
  }
 },
 "nbformat":4,
 "nbformat_minor":4
}