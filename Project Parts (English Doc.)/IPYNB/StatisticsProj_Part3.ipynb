{
 "cells":[
  {
   "cell_type":"code",
   "source":[
    "import pandas as pd\n",
    "from matplotlib import pyplot as plt\n",
    "import seaborn as sns\n",
    "from scipy import linalg\n",
    "import numpy as np\n",
    "from scipy.stats import f, norm, chi2\n",
    "from sklearn.linear_model import LogisticRegression\n",
    "from math import e, log"
   ],
   "execution_count":378,
   "outputs":[
    
   ],
   "metadata":{
    "datalore":{
     "node_id":"MrKv3THWSfkGZ86fT83bnn",
     "type":"CODE",
     "hide_input_from_viewers":false,
     "hide_output_from_viewers":false
    }
   }
  },
  {
   "cell_type":"code",
   "source":[
    "data = pd.read_csv(\"athletes_edited.csv\")\n",
    "display(data)"
   ],
   "execution_count":379,
   "outputs":[
    {
     "data":{
      "text\/html":[
       "<div>\n",
       "<style scoped>\n",
       "    .dataframe tbody tr th:only-of-type {\n",
       "        vertical-align: middle;\n",
       "    }\n",
       "\n",
       "    .dataframe tbody tr th {\n",
       "        vertical-align: top;\n",
       "    }\n",
       "\n",
       "    .dataframe thead th {\n",
       "        text-align: right;\n",
       "    }\n",
       "<\/style>\n",
       "<table border=\"1\" class=\"dataframe\">\n",
       "  <thead>\n",
       "    <tr style=\"text-align: right;\">\n",
       "      <th><\/th>\n",
       "      <th>nationality<\/th>\n",
       "      <th>sport<\/th>\n",
       "      <th>age<\/th>\n",
       "      <th>male<\/th>\n",
       "      <th>height<\/th>\n",
       "      <th>weight<\/th>\n",
       "      <th>won_any<\/th>\n",
       "      <th>won_gold<\/th>\n",
       "      <th>total_medals<\/th>\n",
       "    <\/tr>\n",
       "  <\/thead>\n",
       "  <tbody>\n",
       "    <tr>\n",
       "      <th>0<\/th>\n",
       "      <td>ESP<\/td>\n",
       "      <td>athletics<\/td>\n",
       "      <td>46<\/td>\n",
       "      <td>1<\/td>\n",
       "      <td>172<\/td>\n",
       "      <td>64<\/td>\n",
       "      <td>0<\/td>\n",
       "      <td>0<\/td>\n",
       "      <td>0<\/td>\n",
       "    <\/tr>\n",
       "    <tr>\n",
       "      <th>1<\/th>\n",
       "      <td>KOR<\/td>\n",
       "      <td>fencing<\/td>\n",
       "      <td>29<\/td>\n",
       "      <td>0<\/td>\n",
       "      <td>168<\/td>\n",
       "      <td>56<\/td>\n",
       "      <td>0<\/td>\n",
       "      <td>0<\/td>\n",
       "      <td>0<\/td>\n",
       "    <\/tr>\n",
       "    <tr>\n",
       "      <th>2<\/th>\n",
       "      <td>CAN<\/td>\n",
       "      <td>athletics<\/td>\n",
       "      <td>24<\/td>\n",
       "      <td>1<\/td>\n",
       "      <td>198<\/td>\n",
       "      <td>79<\/td>\n",
       "      <td>1<\/td>\n",
       "      <td>0<\/td>\n",
       "      <td>1<\/td>\n",
       "    <\/tr>\n",
       "    <tr>\n",
       "      <th>3<\/th>\n",
       "      <td>MDA<\/td>\n",
       "      <td>taekwondo<\/td>\n",
       "      <td>25<\/td>\n",
       "      <td>1<\/td>\n",
       "      <td>183<\/td>\n",
       "      <td>80<\/td>\n",
       "      <td>0<\/td>\n",
       "      <td>0<\/td>\n",
       "      <td>0<\/td>\n",
       "    <\/tr>\n",
       "    <tr>\n",
       "      <th>4<\/th>\n",
       "      <td>NZL<\/td>\n",
       "      <td>cycling<\/td>\n",
       "      <td>25<\/td>\n",
       "      <td>1<\/td>\n",
       "      <td>181<\/td>\n",
       "      <td>71<\/td>\n",
       "      <td>0<\/td>\n",
       "      <td>0<\/td>\n",
       "      <td>0<\/td>\n",
       "    <\/tr>\n",
       "    <tr>\n",
       "      <th>...<\/th>\n",
       "      <td>...<\/td>\n",
       "      <td>...<\/td>\n",
       "      <td>...<\/td>\n",
       "      <td>...<\/td>\n",
       "      <td>...<\/td>\n",
       "      <td>...<\/td>\n",
       "      <td>...<\/td>\n",
       "      <td>...<\/td>\n",
       "      <td>...<\/td>\n",
       "    <\/tr>\n",
       "    <tr>\n",
       "      <th>10853<\/th>\n",
       "      <td>CUB<\/td>\n",
       "      <td>athletics<\/td>\n",
       "      <td>20<\/td>\n",
       "      <td>0<\/td>\n",
       "      <td>164<\/td>\n",
       "      <td>58<\/td>\n",
       "      <td>0<\/td>\n",
       "      <td>0<\/td>\n",
       "      <td>0<\/td>\n",
       "    <\/tr>\n",
       "    <tr>\n",
       "      <th>10854<\/th>\n",
       "      <td>CZE<\/td>\n",
       "      <td>athletics<\/td>\n",
       "      <td>29<\/td>\n",
       "      <td>0<\/td>\n",
       "      <td>173<\/td>\n",
       "      <td>63<\/td>\n",
       "      <td>0<\/td>\n",
       "      <td>0<\/td>\n",
       "      <td>0<\/td>\n",
       "    <\/tr>\n",
       "    <tr>\n",
       "      <th>10855<\/th>\n",
       "      <td>CHN<\/td>\n",
       "      <td>wrestling<\/td>\n",
       "      <td>25<\/td>\n",
       "      <td>1<\/td>\n",
       "      <td>185<\/td>\n",
       "      <td>100<\/td>\n",
       "      <td>0<\/td>\n",
       "      <td>0<\/td>\n",
       "      <td>0<\/td>\n",
       "    <\/tr>\n",
       "    <tr>\n",
       "      <th>10856<\/th>\n",
       "      <td>VIE<\/td>\n",
       "      <td>weightlifting<\/td>\n",
       "      <td>27<\/td>\n",
       "      <td>1<\/td>\n",
       "      <td>160<\/td>\n",
       "      <td>56<\/td>\n",
       "      <td>0<\/td>\n",
       "      <td>0<\/td>\n",
       "      <td>0<\/td>\n",
       "    <\/tr>\n",
       "    <tr>\n",
       "      <th>10857<\/th>\n",
       "      <td>RSA<\/td>\n",
       "      <td>athletics<\/td>\n",
       "      <td>24<\/td>\n",
       "      <td>1<\/td>\n",
       "      <td>185<\/td>\n",
       "      <td>70<\/td>\n",
       "      <td>0<\/td>\n",
       "      <td>0<\/td>\n",
       "      <td>0<\/td>\n",
       "    <\/tr>\n",
       "  <\/tbody>\n",
       "<\/table>\n",
       "<p>10858 rows × 9 columns<\/p>\n",
       "<\/div>"
      ]
     },
     "metadata":{
      
     },
     "output_type":"display_data"
    }
   ],
   "metadata":{
    "datalore":{
     "node_id":"i1BkV3KZ3EHAVKmPAeIAVc",
     "type":"CODE",
     "hide_input_from_viewers":false,
     "hide_output_from_viewers":false
    }
   }
  },
  {
   "cell_type":"markdown",
   "source":[
    "# Part 1 - Linear Regression"
   ],
   "attachments":{
    
   },
   "metadata":{
    "datalore":{
     "node_id":"zLDpprZYBl8f1h4cmiSbyy",
     "type":"MD",
     "hide_input_from_viewers":false,
     "hide_output_from_viewers":false
    }
   }
  },
  {
   "cell_type":"markdown",
   "source":[
    "## Q1\n",
    "\n",
    "The explaining variables we chose:\n",
    "- height (continuous) - represents the height (in cm) of the athlete. This variable has many values, and therefore we can consider it as a continuous variable by the project instructions.\n",
    "\n",
    "- age (continuous) - represents the age (in years) of the athlete. This variable has many values, and therefore we can consider it as a continuous variable by the project instructions.\n",
    "\n",
    "- male (discrete) - represents the gender of the athlete. This variable has only two values, 1 if the athlete is male, and 0 if the athlete is female. It is a binary variable and therefore discrete.\n",
    "\n",
    "The explained variable we chose:\n",
    "- weight (continuous) - represents the weight (in kg) of the athlete. This variable has many values, and therefore we can consider it as a continuous variable by the project instructions.\n",
    "\n",
    "### Research question -- Do changes in the variables ('height', 'age', 'male') affect the variable 'weight'?"
   ],
   "attachments":{
    
   },
   "metadata":{
    "datalore":{
     "node_id":"U7J2auLQsn4vGLLQjXM4jL",
     "type":"MD",
     "hide_input_from_viewers":false,
     "hide_output_from_viewers":false
    }
   }
  },
  {
   "cell_type":"markdown",
   "source":[
    "## Q2"
   ],
   "attachments":{
    
   },
   "metadata":{
    "datalore":{
     "node_id":"o6DRuIRAyzVi8lw6tLFwIK",
     "type":"MD",
     "hide_input_from_viewers":false,
     "hide_output_from_viewers":false
    }
   }
  },
  {
   "cell_type":"code",
   "source":[
    "# sample 200 samples from our dataset\n",
    "# we set the \"random_state\" in order to get consistent results\n",
    "sampled_data1 = data.sample(n=200, random_state=0)\n",
    "display(sampled_data1)"
   ],
   "execution_count":380,
   "outputs":[
    {
     "data":{
      "text\/html":[
       "<div>\n",
       "<style scoped>\n",
       "    .dataframe tbody tr th:only-of-type {\n",
       "        vertical-align: middle;\n",
       "    }\n",
       "\n",
       "    .dataframe tbody tr th {\n",
       "        vertical-align: top;\n",
       "    }\n",
       "\n",
       "    .dataframe thead th {\n",
       "        text-align: right;\n",
       "    }\n",
       "<\/style>\n",
       "<table border=\"1\" class=\"dataframe\">\n",
       "  <thead>\n",
       "    <tr style=\"text-align: right;\">\n",
       "      <th><\/th>\n",
       "      <th>nationality<\/th>\n",
       "      <th>sport<\/th>\n",
       "      <th>age<\/th>\n",
       "      <th>male<\/th>\n",
       "      <th>height<\/th>\n",
       "      <th>weight<\/th>\n",
       "      <th>won_any<\/th>\n",
       "      <th>won_gold<\/th>\n",
       "      <th>total_medals<\/th>\n",
       "    <\/tr>\n",
       "  <\/thead>\n",
       "  <tbody>\n",
       "    <tr>\n",
       "      <th>6798<\/th>\n",
       "      <td>GER<\/td>\n",
       "      <td>athletics<\/td>\n",
       "      <td>29<\/td>\n",
       "      <td>1<\/td>\n",
       "      <td>189<\/td>\n",
       "      <td>78<\/td>\n",
       "      <td>0<\/td>\n",
       "      <td>0<\/td>\n",
       "      <td>0<\/td>\n",
       "    <\/tr>\n",
       "    <tr>\n",
       "      <th>2124<\/th>\n",
       "      <td>CUB<\/td>\n",
       "      <td>athletics<\/td>\n",
       "      <td>28<\/td>\n",
       "      <td>0<\/td>\n",
       "      <td>171<\/td>\n",
       "      <td>60<\/td>\n",
       "      <td>0<\/td>\n",
       "      <td>0<\/td>\n",
       "      <td>0<\/td>\n",
       "    <\/tr>\n",
       "    <tr>\n",
       "      <th>159<\/th>\n",
       "      <td>NIG<\/td>\n",
       "      <td>judo<\/td>\n",
       "      <td>28<\/td>\n",
       "      <td>1<\/td>\n",
       "      <td>180<\/td>\n",
       "      <td>73<\/td>\n",
       "      <td>0<\/td>\n",
       "      <td>0<\/td>\n",
       "      <td>0<\/td>\n",
       "    <\/tr>\n",
       "    <tr>\n",
       "      <th>4148<\/th>\n",
       "      <td>EGY<\/td>\n",
       "      <td>judo<\/td>\n",
       "      <td>34<\/td>\n",
       "      <td>1<\/td>\n",
       "      <td>195<\/td>\n",
       "      <td>105<\/td>\n",
       "      <td>0<\/td>\n",
       "      <td>0<\/td>\n",
       "      <td>0<\/td>\n",
       "    <\/tr>\n",
       "    <tr>\n",
       "      <th>1478<\/th>\n",
       "      <td>RSA<\/td>\n",
       "      <td>aquatics<\/td>\n",
       "      <td>25<\/td>\n",
       "      <td>1<\/td>\n",
       "      <td>158<\/td>\n",
       "      <td>86<\/td>\n",
       "      <td>0<\/td>\n",
       "      <td>0<\/td>\n",
       "      <td>0<\/td>\n",
       "    <\/tr>\n",
       "    <tr>\n",
       "      <th>...<\/th>\n",
       "      <td>...<\/td>\n",
       "      <td>...<\/td>\n",
       "      <td>...<\/td>\n",
       "      <td>...<\/td>\n",
       "      <td>...<\/td>\n",
       "      <td>...<\/td>\n",
       "      <td>...<\/td>\n",
       "      <td>...<\/td>\n",
       "      <td>...<\/td>\n",
       "    <\/tr>\n",
       "    <tr>\n",
       "      <th>3000<\/th>\n",
       "      <td>HUN<\/td>\n",
       "      <td>aquatics<\/td>\n",
       "      <td>30<\/td>\n",
       "      <td>0<\/td>\n",
       "      <td>173<\/td>\n",
       "      <td>64<\/td>\n",
       "      <td>0<\/td>\n",
       "      <td>0<\/td>\n",
       "      <td>0<\/td>\n",
       "    <\/tr>\n",
       "    <tr>\n",
       "      <th>1835<\/th>\n",
       "      <td>AUS<\/td>\n",
       "      <td>aquatics<\/td>\n",
       "      <td>17<\/td>\n",
       "      <td>0<\/td>\n",
       "      <td>162<\/td>\n",
       "      <td>62<\/td>\n",
       "      <td>0<\/td>\n",
       "      <td>0<\/td>\n",
       "      <td>0<\/td>\n",
       "    <\/tr>\n",
       "    <tr>\n",
       "      <th>2818<\/th>\n",
       "      <td>RUS<\/td>\n",
       "      <td>aquatics<\/td>\n",
       "      <td>22<\/td>\n",
       "      <td>0<\/td>\n",
       "      <td>166<\/td>\n",
       "      <td>62<\/td>\n",
       "      <td>1<\/td>\n",
       "      <td>0<\/td>\n",
       "      <td>1<\/td>\n",
       "    <\/tr>\n",
       "    <tr>\n",
       "      <th>9643<\/th>\n",
       "      <td>CIV<\/td>\n",
       "      <td>aquatics<\/td>\n",
       "      <td>21<\/td>\n",
       "      <td>0<\/td>\n",
       "      <td>176<\/td>\n",
       "      <td>63<\/td>\n",
       "      <td>0<\/td>\n",
       "      <td>0<\/td>\n",
       "      <td>0<\/td>\n",
       "    <\/tr>\n",
       "    <tr>\n",
       "      <th>1656<\/th>\n",
       "      <td>COL<\/td>\n",
       "      <td>cycling<\/td>\n",
       "      <td>22<\/td>\n",
       "      <td>1<\/td>\n",
       "      <td>178<\/td>\n",
       "      <td>65<\/td>\n",
       "      <td>1<\/td>\n",
       "      <td>0<\/td>\n",
       "      <td>1<\/td>\n",
       "    <\/tr>\n",
       "  <\/tbody>\n",
       "<\/table>\n",
       "<p>200 rows × 9 columns<\/p>\n",
       "<\/div>"
      ]
     },
     "metadata":{
      
     },
     "output_type":"display_data"
    }
   ],
   "metadata":{
    "datalore":{
     "node_id":"vPP6v2OOhWYKYDUNqRXr3E",
     "type":"CODE",
     "hide_input_from_viewers":false,
     "hide_output_from_viewers":false
    }
   }
  },
  {
   "cell_type":"markdown",
   "source":[
    "## Q3"
   ],
   "attachments":{
    
   },
   "metadata":{
    "datalore":{
     "node_id":"EaYU4pnioi2M0mnVCooohk",
     "type":"MD",
     "hide_input_from_viewers":false,
     "hide_output_from_viewers":false
    }
   }
  },
  {
   "cell_type":"code",
   "source":[
    "# functions for Q3\n",
    "\n",
    "def create_histogram(values, col_name, units, bins):\n",
    "    plt.style.use(\"ggplot\")\n",
    "    sns.histplot(values, bins=bins, kde=True, edgecolor='black', linewidth=1, color=\"cornflowerblue\")\n",
    "    \n",
    "    plt.title(f\"Histogram of {col_name} Values\")\n",
    "    plt.xlabel(f\"{col_name} [{units}]\")\n",
    "    plt.ylabel(\"Number of Records\")\n",
    "\n",
    "    plt.show()\n",
    "\n",
    "def create_two_var_histogram(values_1, values_2, x_label, units, bins_1, bins_2, show_won_any=False):\n",
    "    if not show_won_any:\n",
    "        sns.histplot(values_1, bins=bins_1, kde=False, label=\"male\", color=\"tomato\", edgecolor='black', linewidth=0.85)\n",
    "        sns.histplot(values_2, bins=bins_2, kde=False, label=\"female\", color=\"cornflowerblue\", edgecolor='black', linewidth=0.85)\n",
    "\n",
    "        plt.title(\"Histogram of Males' Weight Vs Females' Weight\")\n",
    "        plt.xlabel(f\"{x_label} [{units}]\")\n",
    "        plt.ylabel(\"Number of Records\")\n",
    "        plt.legend()\n",
    "        plt.show()\n",
    "    \n",
    "    else:\n",
    "        sns.histplot(values_1, bins=bins_1, kde=False, label=\"didn't win\", color=\"tomato\", \n",
    "                     edgecolor='black', linewidth=0.85)\n",
    "        sns.histplot(values_2, bins=bins_2, kde=False, label=\"won\", color=\"royalblue\", \n",
    "                     edgecolor='black', linewidth=0.85)\n",
    "\n",
    "        plt.title(f\"Histogram of {x_label} of Athletes Who\\nWon VS Who Didn't Win\")\n",
    "        plt.xlabel(f\"{x_label} [{units}]\")\n",
    "        plt.ylabel(\"Number of Records\")\n",
    "        plt.legend()\n",
    "        plt.show()\n",
    "\n",
    "\n",
    "def create_pie_chart(values, show_won_any=False):\n",
    "    if not show_won_any:\n",
    "        male_num = sum([1 for x in values if x == 1])\n",
    "        female_num = sum([1 for x in values if x == 0])\n",
    "\n",
    "        plt.pie([male_num, female_num], autopct='%1.2f%%', labels=[\"male\", \"female\"], colors=[\"tomato\", \"cornflowerblue\"], \n",
    "                wedgeprops={'edgecolor':'black', 'linewidth':1})\n",
    "        plt.title(\"Distribution of Gender Among Athletes\")\n",
    "        plt.show()\n",
    "    \n",
    "    else:\n",
    "        won_num = sum([1 for x in values if x == 1])\n",
    "        not_won_num = sum([1 for x in values if x == 0])\n",
    "\n",
    "        plt.pie([won_num, not_won_num], autopct='%1.2f%%', labels=[\"won\", \"didn't win\"], colors=[\"tomato\", \"cornflowerblue\"], \n",
    "                wedgeprops={'edgecolor':'black', 'linewidth':1})\n",
    "        plt.title(\"Distribution of Athletes Who\\nWon any Medals VS Who didn't Win\")\n",
    "        plt.show()\n",
    "\n",
    "\n",
    "\n",
    "def create_scatter_plot(x, y, x_label, x_units, y_label, y_units, color):\n",
    "    \n",
    "    plt.scatter(x, y, c=color)\n",
    "    \n",
    "    plt.title(f\"{y_label} as a Function of {x_label}\")\n",
    "    plt.xlabel(f\"{x_label} [{x_units}]\")\n",
    "    plt.ylabel(f\"{y_label} [{y_units}]\")\n",
    "    plt.show()"
   ],
   "execution_count":381,
   "outputs":[
    
   ],
   "metadata":{
    "datalore":{
     "node_id":"NLEy45WG5BuX28eaB0Ie5X",
     "type":"CODE",
     "hide_input_from_viewers":false,
     "hide_output_from_viewers":false
    }
   }
  },
  {
   "cell_type":"code",
   "source":[
    "# data for Q3\n",
    "gender_values1 = sampled_data1[\"male\"].values.tolist()\n",
    "age_values1 = sampled_data1[\"age\"].values.tolist()\n",
    "height_values1 = sampled_data1[\"height\"].values.tolist()\n",
    "weight_values1 = sampled_data1[\"weight\"].values.tolist()"
   ],
   "execution_count":382,
   "outputs":[
    
   ],
   "metadata":{
    "datalore":{
     "node_id":"UmP5QsEkGLOKiF29fHe8Qs",
     "type":"CODE",
     "hide_input_from_viewers":false,
     "hide_output_from_viewers":false
    }
   }
  },
  {
   "cell_type":"markdown",
   "source":[
    "### Section A\n",
    "\n",
    "Now, we would like to visually display the distributions of our explaining variables, using our plotting functions implemented above.\n",
    "\n",
    "(*) Since our discrete variable (\"male\") is binary, we think pie chart is a more informative way (visually) to present it than a table."
   ],
   "attachments":{
    
   },
   "metadata":{
    "datalore":{
     "node_id":"8yjjWWYn63e9pPvKihjbIj",
     "type":"MD",
     "hide_input_from_viewers":false,
     "hide_output_from_viewers":false
    }
   }
  },
  {
   "cell_type":"code",
   "source":[
    "# create plots for our explaining variables\n",
    "\n",
    "create_pie_chart(gender_values1)\n",
    "create_histogram(age_values1, \"Age\", units=\"years\", bins=12)\n",
    "create_histogram(height_values1, \"Height\", units=\"cm\", bins=10)\n",
    "create_histogram(weight_values1, \"Weight\", units=\"kg\", bins=10)"
   ],
   "execution_count":383,
   "outputs":[
    {
     "data":{
      "image\/png":"[encoded data removed]"
     },
     "metadata":{
      "image\/png":{
       
      }
     },
     "output_type":"display_data"
    },
    {
     "data":{
      "image\/png":"[encoded data removed]"
     },
     "metadata":{
      "image\/png":{
       
      }
     },
     "output_type":"display_data"
    },
    {
     "data":{
      "image\/png":"[encoded data removed]"
     },
     "metadata":{
      "image\/png":{
       
      }
     },
     "output_type":"display_data"
    },
    {
     "data":{
      "image\/png":"[encoded data removed]"
     },
     "metadata":{
      "image\/png":{
       
      }
     },
     "output_type":"display_data"
    }
   ],
   "metadata":{
    "datalore":{
     "node_id":"aRFTrKMhVY5agFzutZCIHj",
     "type":"CODE",
     "hide_input_from_viewers":false,
     "hide_output_from_viewers":false
    }
   }
  },
  {
   "cell_type":"markdown",
   "source":[
    "### Section B\n",
    "\n",
    "_Are there any missing values?_\n",
    "\n",
    "In project part 1, we removed all the records with any missing values of the relevant columns (such as height, weight, etc.).\n",
    "Therefore, there aren't any missing values in our entire dataset, and that's why there aren't any missing values in the dataset we sampled.\n",
    "\n",
    "_Are there any unusual (less common) variables' values?_\n",
    "\n",
    "- Gender (\"male\") -- this variable has only two values: 1 if the athlete is male, 0 if the athlete is female. All the values are expectable, therefore we don't have any unusual values.\n",
    "\n",
    "- Age -- as we can see from the Age Histogram graph, the majority of the values are between 20-30. The unusual values we got are ages 16-18 (left tail), and even more unusual values are 35-40 (right tail). We also noticed that the right tail isn't continuous, meaning that we didn't sample any athlete with age between 43-45.\n",
    "\n",
    "- Height -- as we can see from the Height Histogram graph, the majority of the values are between 160-190. The unusual values we got are heights 145-155 (left tail) and 200-210 (right tail).\n",
    "\n",
    "- Weight -- as we can see from the Weight Histogram graph, the majority of the values are between 50-90. The unusual values we got are weights 40-50 (left tail) and 100-140 (right tail), with weights 120-140 especially unusual.\n",
    "\n",
    "_Is the distribution of each variable symmetrical?_\n",
    "\n",
    "As we can see from the graphs, the distributions of Gender (\"male\") and height are symmetrical.\n",
    "\n",
    "_Can you assess what is the distribution of each variable?_\n",
    "\n",
    "- Gender (\"male\") -- as we can see from the Gender Pie chart graph, the number of males and females are equal. Therefore, we can assume that the distribution of this variable is Uniform.\n",
    "\n",
    "- Age -- as we can see from the Age Histogram graph, the majority of the values are left-centered (between all the values) and the distribution has a long right tail. There are a few continuous distributions that qualify for these conditions (for example, Gamma distribution, Gumbel distribution, etc.).\n",
    "\n",
    "- Height -- as we can see from the Height Histogram graph, the majority of the values are centered (between all the values), the distribution has both left and right tails, and it's symmetrical (as mentioned). Therefore, we can assume that the distribution of this variable is Normal.\n",
    "\n",
    "- Weight - same as Age variable."
   ],
   "attachments":{
    
   },
   "metadata":{
    "datalore":{
     "node_id":"AuQGVUP6IRfFKQEUxrr1bf",
     "type":"MD",
     "hide_input_from_viewers":false,
     "hide_output_from_viewers":false
    }
   }
  },
  {
   "cell_type":"markdown",
   "source":[
    "### Section C "
   ],
   "attachments":{
    
   },
   "metadata":{
    "datalore":{
     "node_id":"veFzhU9sfNpaXDJrgbuhb9",
     "type":"MD",
     "hide_input_from_viewers":false,
     "hide_output_from_viewers":false
    }
   }
  },
  {
   "cell_type":"code",
   "source":[
    "create_scatter_plot(x=age_values1, y=weight_values1, x_label=\"Age\", x_units=\"years\", y_label=\"Weight\", y_units=\"kg\", color=\"tomato\")\n",
    "create_scatter_plot(x=height_values1, y=weight_values1, x_label=\"Height\", x_units=\"cm\", y_label=\"Weight\", y_units=\"kg\", color=\"royalblue\")"
   ],
   "execution_count":384,
   "outputs":[
    {
     "data":{
      "image\/png":"[encoded data removed]"
     },
     "metadata":{
      "image\/png":{
       
      }
     },
     "output_type":"display_data"
    },
    {
     "data":{
      "image\/png":"[encoded data removed]"
     },
     "metadata":{
      "image\/png":{
       
      }
     },
     "output_type":"display_data"
    }
   ],
   "metadata":{
    "datalore":{
     "node_id":"SaMOcgEEWu5rTgMNSLySG6",
     "type":"CODE",
     "hide_input_from_viewers":false,
     "hide_output_from_viewers":false
    }
   }
  },
  {
   "cell_type":"markdown",
   "source":[
    "As we can see from the graphs above, it seems there's a high correlation between the athlete's weight and height (the weight increases as the height increases).\n",
    "\n",
    "In addition, in the first graph, it seems that the points are randomly distributed. Therefore, we can assume that there's barely any correlation between the athlete's age and weight.\n",
    "\n",
    "Thus, we can conclude that the explaining variable 'height' affects the explained variable 'weight' more than the explaining variable 'age'."
   ],
   "attachments":{
    
   },
   "metadata":{
    "datalore":{
     "node_id":"ia4ol7felG5tMssxQpQCKx",
     "type":"MD",
     "hide_input_from_viewers":false,
     "hide_output_from_viewers":false
    }
   }
  },
  {
   "cell_type":"markdown",
   "source":[
    "### Section D"
   ],
   "attachments":{
    
   },
   "metadata":{
    "datalore":{
     "node_id":"2BN1Zzo2FkWSQ1R88eBOdi",
     "type":"MD",
     "hide_input_from_viewers":false,
     "hide_output_from_viewers":false
    }
   }
  },
  {
   "cell_type":"code",
   "source":[
    "weight_values_male1 = sampled_data1[sampled_data1[\"male\"] == 1][\"weight\"]\n",
    "weight_values_female1 = sampled_data1[sampled_data1[\"male\"] == 0][\"weight\"]\n",
    "\n",
    "create_two_var_histogram(weight_values_male1, weight_values_female1, x_label=\"weight\", units=\"kg\", bins_1=10, bins_2=9)"
   ],
   "execution_count":385,
   "outputs":[
    {
     "data":{
      "image\/png":"[encoded data removed]"
     },
     "metadata":{
      "image\/png":{
       
      }
     },
     "output_type":"display_data"
    }
   ],
   "metadata":{
    "datalore":{
     "node_id":"MvsQSgXdLd8WKMMNV0aNVi",
     "type":"CODE",
     "hide_input_from_viewers":false,
     "hide_output_from_viewers":false
    }
   }
  },
  {
   "cell_type":"markdown",
   "source":[
    "Because our discrete variable ('male') has only two values (binary), we have only two different histograms to show. Therefore, we chose to plot them on the same grid in order to be able to visually distinguish the different results. To achieve this goal, we made the bars transparent.\n",
    "\n",
    "As we can see, it appears that the 'weight' variable among female athletes is generally smaller than the 'weight' variable among male athletes. Moreover, it seems that both distributions are relatively symmetrical."
   ],
   "attachments":{
    
   },
   "metadata":{
    "datalore":{
     "node_id":"njreocg8hdmmlTuypmkzSU",
     "type":"MD",
     "hide_input_from_viewers":false,
     "hide_output_from_viewers":false
    }
   }
  },
  {
   "cell_type":"markdown",
   "source":[
    "## Q4"
   ],
   "attachments":{
    
   },
   "metadata":{
    "datalore":{
     "node_id":"pqhO8NiY8LecDjxCg7UtMU",
     "type":"MD",
     "hide_input_from_viewers":false,
     "hide_output_from_viewers":false
    }
   }
  },
  {
   "cell_type":"code",
   "source":[
    "def extract_X_y(data, X_columns, y_column):\n",
    "    # create X matrix with first column as bias column\n",
    "    X = data[X_columns]\n",
    "    X.insert(loc=0, column=\"bias\", value=[1 for i in range(len(X))])\n",
    "    X = X.to_numpy()\n",
    "\n",
    "    # create y vector\n",
    "    y = data[y_column].to_numpy()\n",
    "\n",
    "    return X, y\n",
    "\n",
    "def find_beta_hat(X, y):\n",
    "    beta_hat = linalg.inv(X.T @ X) @ X.T @ y\n",
    "    return beta_hat"
   ],
   "execution_count":386,
   "outputs":[
    
   ],
   "metadata":{
    "datalore":{
     "node_id":"jUKCPUv6Acv6BAcHdiBkZW",
     "type":"CODE",
     "hide_input_from_viewers":false,
     "hide_output_from_viewers":false
    }
   }
  },
  {
   "cell_type":"code",
   "source":[
    "X1, y1 = extract_X_y(sampled_data1, X_columns=[\"height\", \"age\", \"male\"], y_column=\"weight\")\n",
    "beta_hat1 = find_beta_hat(X1, y1)\n",
    "\n",
    "print(\"The mean least square estimator beta_hat (based on sampled_data1):\")\n",
    "print(np.around(beta_hat1, 3))"
   ],
   "execution_count":387,
   "outputs":[
    {
     "name":"stdout",
     "text":[
      "The mean least square estimator beta_hat (based on sampled_data1):\n",
      "[-81.431   0.864  -0.09    6.889]\n"
     ],
     "output_type":"stream"
    }
   ],
   "metadata":{
    "datalore":{
     "node_id":"x1wa1WzFMp0VoUKdvOnmsJ",
     "type":"CODE",
     "hide_input_from_viewers":false,
     "hide_output_from_viewers":false
    }
   }
  },
  {
   "cell_type":"markdown",
   "source":[
    "Affect on expected 'weight' variable (explained variable) by incrementing each of 'height', 'age', 'male' variables (explaining variables):\n",
    "\n",
    "- Height -- increases the predicated expected weight by 0.864\n",
    "- Age -- decreases the predicated expected weight by 0.09 \n",
    "- Male -- increases the predicated expected weight by 6.889 (incrementing this variable represents changing from female athlete to male athlete).\n",
    "\n",
    "Our result implies that the variable 'age' barely has an impact on the variable 'weight' (because its coefficient is very close to 0), compared to 'male' and 'height'. In addition, we can see that the variable 'male' has the biggest impact on the variable 'weight'."
   ],
   "attachments":{
    
   },
   "metadata":{
    "datalore":{
     "node_id":"02eTV0Yrk9uQhf0riclgDD",
     "type":"MD",
     "hide_input_from_viewers":false,
     "hide_output_from_viewers":false
    }
   }
  },
  {
   "cell_type":"markdown",
   "source":[
    "### Q5\n",
    "\n",
    "In this question, we will find the values of ANOVA table, which requires us to calculate the F test statistic and its PV.\n",
    "\n",
    "(*) In order to use F test, we will need to add the model's assumption that the error of each sample ($\\epsilon_i$) is distributed $N (0, \\space \\sigma^2_\\epsilon)$."
   ],
   "attachments":{
    
   },
   "metadata":{
    "datalore":{
     "node_id":"9WSfqiS1EWvWnHMs1x2Ac2",
     "type":"MD",
     "hide_input_from_viewers":false,
     "hide_output_from_viewers":false
    }
   }
  },
  {
   "cell_type":"code",
   "source":[
    "# calculations for creating the ANOVA table and finding \"R_squared\" and \"R_squared_adj\"\n",
    "\n",
    "def find_sum_squares(beta_hat, X, y):\n",
    "  y_avg = np.mean(y)\n",
    "  SSR, SSE = 0, 0\n",
    "  for xi, yi in zip(X, y):\n",
    "    y_hat = beta_hat.T @ xi\n",
    "    SSR += (y_hat - y_avg) ** 2\n",
    "    SSE += (y_hat - yi) ** 2\n",
    "\n",
    "  SST = SSR + SSE\n",
    "\n",
    "  return SSR, SSE, SST\n",
    "\n",
    "n, p = X1.shape\n",
    "k = p - 1\n",
    "\n",
    "SSR, SSE, SST = find_sum_squares(beta_hat1, X1, y1)\n",
    "SSR_df, SSE_df, SST_df = k, n-p, n-1\n",
    "\n",
    "MSR = SSR \/ SSR_df\n",
    "MSE = SSE \/ SSE_df\n",
    "MST = SST \/ SST_df\n",
    "\n",
    "F = MSR \/ MSE\n",
    "p_value = 1 - f.cdf(F, k, n-p)\n",
    "\n",
    "R_squared = SSR \/ SST\n",
    "R_squared_adj = 1 - (MSE \/ MST)"
   ],
   "execution_count":388,
   "outputs":[
    
   ],
   "metadata":{
    "datalore":{
     "node_id":"zy81ZQQHDqH9ChiOxRfMAD",
     "type":"CODE",
     "hide_input_from_viewers":false,
     "hide_output_from_viewers":false
    }
   }
  },
  {
   "cell_type":"code",
   "source":[
    "anova_dict = {\"Source\": [\"Regression\", \"Errors\", \"Total\"], \n",
    "              \"SumOfSquares\": [round(SSR, 3), round(SSE, 3), round(SST, 3)], \n",
    "              \"MS\": [round(MSR, 3), round(MSE, 3), round(MST, 3)], \n",
    "              \"F\": [f\"F: {round(F, 3)}\", f\"PV: {round(p_value, 18)}\", \"-\"]}\n",
    "\n",
    "print(f\"R_squared: {round(R_squared, 3)}\")\n",
    "print(f\"R_squared_adj: {round(R_squared_adj, 3)} \\n\")\n",
    "\n",
    "print(\"ANOVA Table:\")\n",
    "df = pd.DataFrame(data=anova_dict).style.hide_index()\n",
    "display(df)"
   ],
   "execution_count":389,
   "outputs":[
    {
     "name":"stdout",
     "text":[
      "R_squared: 0.571\n",
      "R_squared_adj: 0.565 \n",
      "\n",
      "ANOVA Table:\n"
     ],
     "output_type":"stream"
    },
    {
     "data":{
      "text\/html":[
       "<style type=\"text\/css\">\n",
       "<\/style>\n",
       "<table id=\"T_78489_\">\n",
       "  <thead>\n",
       "    <tr>\n",
       "      <th class=\"col_heading level0 col0\" >Source<\/th>\n",
       "      <th class=\"col_heading level0 col1\" >SumOfSquares<\/th>\n",
       "      <th class=\"col_heading level0 col2\" >MS<\/th>\n",
       "      <th class=\"col_heading level0 col3\" >F<\/th>\n",
       "    <\/tr>\n",
       "  <\/thead>\n",
       "  <tbody>\n",
       "    <tr>\n",
       "      <td id=\"T_78489_row0_col0\" class=\"data row0 col0\" >Regression<\/td>\n",
       "      <td id=\"T_78489_row0_col1\" class=\"data row0 col1\" >29473.449000<\/td>\n",
       "      <td id=\"T_78489_row0_col2\" class=\"data row0 col2\" >9824.483000<\/td>\n",
       "      <td id=\"T_78489_row0_col3\" class=\"data row0 col3\" >F: 87.021<\/td>\n",
       "    <\/tr>\n",
       "    <tr>\n",
       "      <td id=\"T_78489_row1_col0\" class=\"data row1 col0\" >Errors<\/td>\n",
       "      <td id=\"T_78489_row1_col1\" class=\"data row1 col1\" >22127.946000<\/td>\n",
       "      <td id=\"T_78489_row1_col2\" class=\"data row1 col2\" >112.898000<\/td>\n",
       "      <td id=\"T_78489_row1_col3\" class=\"data row1 col3\" >PV: 1.11e-16<\/td>\n",
       "    <\/tr>\n",
       "    <tr>\n",
       "      <td id=\"T_78489_row2_col0\" class=\"data row2 col0\" >Total<\/td>\n",
       "      <td id=\"T_78489_row2_col1\" class=\"data row2 col1\" >51601.395000<\/td>\n",
       "      <td id=\"T_78489_row2_col2\" class=\"data row2 col2\" >259.303000<\/td>\n",
       "      <td id=\"T_78489_row2_col3\" class=\"data row2 col3\" >-<\/td>\n",
       "    <\/tr>\n",
       "  <\/tbody>\n",
       "<\/table>\n"
      ]
     },
     "metadata":{
      
     },
     "output_type":"display_data"
    }
   ],
   "metadata":{
    "datalore":{
     "node_id":"9X5OWRlsNmq1jUB2kvqh95",
     "type":"CODE",
     "hide_input_from_viewers":false,
     "hide_output_from_viewers":false
    }
   }
  },
  {
   "cell_type":"markdown",
   "source":[
    "### Q6\n",
    "\n",
    "In this question, we will find a confidence interval for $\\beta^*_j$ for all $0 \\le j \\le k$\n",
    "\n",
    "Each confidence interval will have an approximated confidence level of 0.95."
   ],
   "attachments":{
    
   },
   "metadata":{
    "datalore":{
     "node_id":"76kwegSb3Zr4DHZrCuTdXs",
     "type":"MD",
     "hide_input_from_viewers":false,
     "hide_output_from_viewers":false
    }
   }
  },
  {
   "cell_type":"code",
   "source":[
    "var_hat = MSE * linalg.inv(X1.T @ X1)\n",
    "z = norm.ppf(0.975)\n",
    "\n",
    "for i, beta_i_hat in enumerate(beta_hat1):\n",
    "    se_i_hat = var_hat[i][i] ** 0.5\n",
    "    confidence_interval = [round(beta_i_hat - (z * se_i_hat), 3), round(beta_i_hat + (z * se_i_hat), 3)]\n",
    "    print(f\"confidence interval for beta {i} with approximated confidence level of 0.95:\")\n",
    "    print(confidence_interval)\n",
    "    print()"
   ],
   "execution_count":390,
   "outputs":[
    {
     "name":"stdout",
     "text":[
      "confidence interval for beta 0 with approximated confidence level of 0.95:\n",
      "[-108.617, -54.244]\n",
      "\n",
      "confidence interval for beta 1 with approximated confidence level of 0.95:\n",
      "[0.71, 1.017]\n",
      "\n",
      "confidence interval for beta 2 with approximated confidence level of 0.95:\n",
      "[-0.403, 0.224]\n",
      "\n",
      "confidence interval for beta 3 with approximated confidence level of 0.95:\n",
      "[3.353, 10.425]\n",
      "\n"
     ],
     "output_type":"stream"
    }
   ],
   "metadata":{
    "datalore":{
     "node_id":"epF8mhGae3e3cUPp09wZtd",
     "type":"CODE",
     "hide_input_from_viewers":false,
     "hide_output_from_viewers":false
    }
   }
  },
  {
   "cell_type":"code",
   "source":[
    "X_all1, y_all1 = extract_X_y(data, X_columns=[\"height\", \"age\", \"male\"], y_column=\"weight\")\n",
    "\n",
    "beta_hat_all1 = find_beta_hat(X_all1, y_all1)\n",
    "\n",
    "print(\"The mean least square estimator beta_hat (based on all data):\")\n",
    "print(np.around(beta_hat_all1, 3))"
   ],
   "execution_count":391,
   "outputs":[
    {
     "name":"stdout",
     "text":[
      "The mean least square estimator beta_hat (based on all data):\n",
      "[-101.834    0.945    0.145    5.662]\n"
     ],
     "output_type":"stream"
    }
   ],
   "metadata":{
    "datalore":{
     "node_id":"FaCfi6nLmQXJz1S25QC6qA",
     "type":"CODE",
     "hide_input_from_viewers":false,
     "hide_output_from_viewers":false
    }
   }
  },
  {
   "cell_type":"markdown",
   "source":[
    "We can see that for all $0 \\le j \\le k,$ our mean squares estimator $\\hat\\beta_j$ (calculated based on the full dataset) is trapped in the confidence interval calculated based on the sampled data (200 random samples)."
   ],
   "attachments":{
    
   },
   "metadata":{
    "datalore":{
     "node_id":"zpQuR5HTSzVYspjcOaCZ4U",
     "type":"MD",
     "hide_input_from_viewers":false,
     "hide_output_from_viewers":false
    }
   }
  },
  {
   "cell_type":"markdown",
   "source":[
    "## Q7\n",
    "\n",
    "We would like to check the following hypotheses:\n",
    "\n",
    "$H_0: \\beta^*_j = 0$ for all $1 \\le j \\le k$\n",
    "\n",
    "$H_1: \\beta^*_j \\ne 0$ for at least $j \\gt 0$\n",
    "\n",
    "In order to achieve our goal, we will use F test with level $\\alpha = 0.05$.\n",
    "\n",
    "the test statistic: $F = \\frac{MSR}{MSE}$\n",
    "\n",
    "the reject region: $F > F_{0.95, \\space(k, \\space n-p)}$\n",
    "\n",
    "(*) In order to use this test, we will need to add the model's assumption that the error of each sample ($\\epsilon_i$) is distributed $N (0, \\space \\sigma^2_\\epsilon)$."
   ],
   "attachments":{
    
   },
   "metadata":{
    "datalore":{
     "node_id":"u8LN9n5x3284tf12MjdyUV",
     "type":"MD",
     "hide_input_from_viewers":false,
     "hide_output_from_viewers":false
    }
   }
  },
  {
   "cell_type":"code",
   "source":[
    "F = MSR\/MSE\n",
    "\n",
    "# reject region\n",
    "qf = f.ppf(0.95, k, n-p)\n",
    "\n",
    "reject_h0 = F > qf\n",
    "\n",
    "if reject_h0:  \n",
    "    print(f\"The result of our test is --- Reject H_0\")\n",
    "else:\n",
    "    print(f\"The result of the test is --- Retain H_0\")"
   ],
   "execution_count":392,
   "outputs":[
    {
     "name":"stdout",
     "text":[
      "The result of our test is --- Reject H_0\n"
     ],
     "output_type":"stream"
    }
   ],
   "metadata":{
    "datalore":{
     "node_id":"3aP6BY6Np0XIY9XQpyn1sp",
     "type":"CODE",
     "hide_input_from_viewers":false,
     "hide_output_from_viewers":false
    }
   }
  },
  {
   "cell_type":"markdown",
   "source":[
    "As we can see above, we can reject the null hypothesis with level $\\alpha = 0.05$\n",
    "\n",
    "Notice that in the ANOVA table from question 5, we showed that the $PV = 1.11*10^{-16}$. \n",
    "\n",
    "Therefore, from the definition of PV we already knew that we would reject the null hypothesis under this test level         ($\\alpha = 0.05$)."
   ],
   "attachments":{
    
   },
   "metadata":{
    "datalore":{
     "node_id":"ulQsNaGqvHfU4NeAMKcmgu",
     "type":"MD",
     "hide_input_from_viewers":false,
     "hide_output_from_viewers":false
    }
   }
  },
  {
   "cell_type":"markdown",
   "source":[
    "## Q8"
   ],
   "attachments":{
    
   },
   "metadata":{
    "datalore":{
     "node_id":"o0ggDKyzvlwGbjh0Z7Az9H",
     "type":"MD",
     "hide_input_from_viewers":false,
     "hide_output_from_viewers":false
    }
   }
  },
  {
   "cell_type":"code",
   "source":[
    "def abline(slope, intercept, style):\n",
    "    axes = plt.gca()\n",
    "    x_vals = np.array(axes.get_xlim())\n",
    "    y_vals = intercept + slope * x_vals\n",
    "    plt.plot(x_vals, y_vals, style, c=\"r\")\n",
    "\n",
    "\n",
    "def plot_error_graph(predictions, errors):\n",
    "    plt.scatter(predictions, errors, c=\"royalblue\")\n",
    "    plt.xlabel(\"Predicted\")\n",
    "    plt.ylabel(\"Error\")\n",
    "    plt.title(\"Error Analysis Graph\")\n",
    "    # plt.axhline(\"-\", color=\"r\", linewidth=2.25)\n",
    "    abline(slope=0, intercept=0, style='-')\n",
    "    # plt.yticks([\"0\"])\n",
    "    plt.show()\n",
    "\n",
    "\n",
    "def qq_plot(errors):\n",
    "    std, n = np.std(errors), len(errors)\n",
    "    empirical_q = np.sort(errors)\n",
    "\n",
    "    values = [((i - 0.5) \/ n) for i in range(1, n+1)]\n",
    "    theoretical_q = [norm.ppf(value, loc=0, scale=std) for value in values]\n",
    "\n",
    "    plt.title(\"Q-Q Plot\")\n",
    "    plt.xlabel(\"Theoretical Quantiles\")\n",
    "    plt.ylabel(\"Empirical Quantiels\")\n",
    "\n",
    "    plt.scatter(theoretical_q, empirical_q, c=\"royalblue\")\n",
    "    abline(slope=1, intercept=0, style=\"--\")\n",
    "\n",
    "    plt.show()\n",
    "\n",
    "\n",
    "predictions, errors = [], []\n",
    "for xi, yi in zip(X1, y1):\n",
    "  y_hat = beta_hat1.T @ xi\n",
    "  error = yi - y_hat\n",
    "  predictions.append(y_hat)\n",
    "  errors.append(error)\n",
    "\n",
    "plot_error_graph(predictions, errors)\n",
    "\n",
    "qq_plot(np.array(errors))\n"
   ],
   "execution_count":393,
   "outputs":[
    {
     "data":{
      "image\/png":"[encoded data removed]"
     },
     "metadata":{
      "image\/png":{
       
      }
     },
     "output_type":"display_data"
    },
    {
     "data":{
      "image\/png":"[encoded data removed]"
     },
     "metadata":{
      "image\/png":{
       
      }
     },
     "output_type":"display_data"
    }
   ],
   "metadata":{
    "datalore":{
     "node_id":"hxmqkA3FFeYkeB4cGeVcEb",
     "type":"CODE",
     "hide_input_from_viewers":false,
     "hide_output_from_viewers":false
    }
   }
  },
  {
   "cell_type":"markdown",
   "source":[
    "- Linearity assumption -- in order to check if the linearity assumption is correct, we created an error analysis graph. As we can see, the points are symmetrical around the line $y=0$ at the center of the graph (between predicted values 60-80). At the left and right parts, there is still symmetry around the desired line, but it's less than the center (at the left part, it's a bit higher than the line, and at the right part, it's a bit lower than the line). Therefore, the overall distribution of points around the line is relatively symmetrical, thus we think it's reasonable to assume linearity.\n",
    "\n",
    "- Constant variance assumption -- in order to check if the variance of the errors is constant, we created an error analysis graph. As we can see, the \"sleeve\" of the points is mostly the same (apart from about 5 extreme points out of 200). Therefore, we think it's reasonable to assume that the variance is constant.\n",
    "\n",
    "- Error Normality assumption -- in order to check if the errors distribute Normally, we created a Q-Q plot [with theoretical quantiles from $N(\\mu = 0, \\space \\sigma^2 = S^2_E)$]. As we can see from the graph, the points indeed represent the desired line ($y=x$), though not perfectly so. Therefore, we think it's reasonable to assume that the errors are distributed Normally."
   ],
   "attachments":{
    
   },
   "metadata":{
    "datalore":{
     "node_id":"RtOAJ9ncLRXBR0CTWUb8uX",
     "type":"MD",
     "hide_input_from_viewers":false,
     "hide_output_from_viewers":false
    }
   }
  },
  {
   "cell_type":"markdown",
   "source":[
    "## Q9"
   ],
   "attachments":{
    
   },
   "metadata":{
    "datalore":{
     "node_id":"SkfvQob8FuO3mJjBL29eB6",
     "type":"MD",
     "hide_input_from_viewers":false,
     "hide_output_from_viewers":false
    }
   }
  },
  {
   "cell_type":"code",
   "source":[
    "# sample 1000 samples from our dataset (excluding the original 200 random samples)\n",
    "# we set the \"random_state\" in order to get consistent results\n",
    "sampled_indecies = sampled_data1.index.values\n",
    "data_without_sampled = data.drop(sampled_indecies, axis=0)\n",
    "new_sampled_data = data_without_sampled.sample(n=1000, random_state=0)\n",
    "\n",
    "X_new_sampeld, y_new_sampeld = extract_X_y(new_sampled_data, X_columns=[\"height\", \"age\", \"male\"], y_column=\"weight\")"
   ],
   "execution_count":394,
   "outputs":[
    
   ],
   "metadata":{
    "datalore":{
     "node_id":"pbMN6hZ20wR8nDtp2jZvNw",
     "type":"CODE",
     "hide_input_from_viewers":false,
     "hide_output_from_viewers":false
    }
   }
  },
  {
   "cell_type":"markdown",
   "source":[
    "## Section A"
   ],
   "attachments":{
    
   },
   "metadata":{
    "datalore":{
     "node_id":"oVbfVesDLeitchnZhwlqFl",
     "type":"MD",
     "hide_input_from_viewers":false,
     "hide_output_from_viewers":false
    }
   }
  },
  {
   "cell_type":"code",
   "source":[
    "predictions = []\n",
    "\n",
    "for x_new in X_new_sampeld:\n",
    "    prediction = beta_hat1.T @ x_new\n",
    "    predictions.append(prediction)"
   ],
   "execution_count":395,
   "outputs":[
    
   ],
   "metadata":{
    "datalore":{
     "node_id":"kC8yDEoS8EW6YX0yBLP2Xq",
     "type":"CODE",
     "hide_input_from_viewers":false,
     "hide_output_from_viewers":false
    }
   }
  },
  {
   "cell_type":"markdown",
   "source":[
    "## Section B"
   ],
   "attachments":{
    
   },
   "metadata":{
    "datalore":{
     "node_id":"8zKBIOmn4Es5I9GGTlHTtw",
     "type":"MD",
     "hide_input_from_viewers":false,
     "hide_output_from_viewers":false
    }
   }
  },
  {
   "cell_type":"code",
   "source":[
    "C = linalg.inv(X1.T @ X1)\n",
    "z = norm.ppf(0.975)\n",
    "\n",
    "confidence_intervals = []\n",
    "for x_new, pred in zip(X_new_sampeld, predictions):\n",
    "    se_hat = (MSE * (x_new.T @ C @ x_new + 1)) ** 0.5\n",
    "    confidence_interval = [pred - (z * se_hat), pred + (z * se_hat)]\n",
    "    confidence_intervals.append(confidence_interval)"
   ],
   "execution_count":396,
   "outputs":[
    
   ],
   "metadata":{
    "datalore":{
     "node_id":"0mKKomHCOXrfyeXjm28w9m",
     "type":"CODE",
     "hide_input_from_viewers":false,
     "hide_output_from_viewers":false
    }
   }
  },
  {
   "cell_type":"markdown",
   "source":[
    "## Section C"
   ],
   "attachments":{
    
   },
   "metadata":{
    "datalore":{
     "node_id":"BzcYnaBkyvitUMw81idrsz",
     "type":"MD",
     "hide_input_from_viewers":false,
     "hide_output_from_viewers":false
    }
   }
  },
  {
   "cell_type":"code",
   "source":[
    "summ = 0\n",
    "for y_new, confidence_interval in zip(y_new_sampeld, confidence_intervals):\n",
    "    l, u = confidence_interval[0], confidence_interval[1]\n",
    "    \n",
    "    # the vlaue is in the confidence interval\n",
    "    if l <= y_new <= u:\n",
    "        summ += 1\n",
    "\n",
    "accuracy = summ \/ len(y_new_sampeld)\n",
    "print(f\"The accuracy level of our confidence intervals is: {accuracy}\")"
   ],
   "execution_count":397,
   "outputs":[
    {
     "name":"stdout",
     "text":[
      "The accuracy level of our confidence intervals is: 0.968\n"
     ],
     "output_type":"stream"
    }
   ],
   "metadata":{
    "datalore":{
     "node_id":"cAUcl9EOoqesPolq5ja3op",
     "type":"CODE",
     "hide_input_from_viewers":false,
     "hide_output_from_viewers":false
    }
   }
  },
  {
   "cell_type":"markdown",
   "source":[
    "As we can see, the accuracy level is indeed close to 95% (even greater than it). \n",
    "\n",
    "By definition, a confidence interval with approximated confidence level of 0.95 means that if we repeat many times the process of calculating the confidence interval and see if the parameter is trapped in it, then it will happen approximately 0.95 of the times (proportion).\n",
    "\n",
    "As expected, this is the result we got in this section."
   ],
   "attachments":{
    
   },
   "metadata":{
    "datalore":{
     "node_id":"lLKzyKP87iQGfIigfMzXmS",
     "type":"MD",
     "hide_input_from_viewers":false,
     "hide_output_from_viewers":false
    }
   }
  },
  {
   "cell_type":"markdown",
   "source":[
    "## Q10"
   ],
   "attachments":{
    
   },
   "metadata":{
    "datalore":{
     "node_id":"SoUlBtWWn025UU5VbKYV3G",
     "type":"MD",
     "hide_input_from_viewers":false,
     "hide_output_from_viewers":false
    }
   }
  },
  {
   "cell_type":"code",
   "source":[
    "def add_interact_columns(data, columns):\n",
    "\n",
    "    for i, first_var in enumerate(columns):\n",
    "        for second_var in columns[i+1:]:\n",
    "            data[f\"{first_var} x {second_var}\"] = data[first_var] * data[second_var]\n",
    "\n",
    "    return data"
   ],
   "execution_count":398,
   "outputs":[
    
   ],
   "metadata":{
    "datalore":{
     "node_id":"0cgkAY89cgANyQRPSx3aLh",
     "type":"CODE",
     "hide_input_from_viewers":false,
     "hide_output_from_viewers":false
    }
   }
  },
  {
   "cell_type":"code",
   "source":[
    "# creating the interact columns\n",
    "sampled_data_interact1 = add_interact_columns(data=sampled_data1[[\"height\", \"age\", \"male\", \"weight\"]].copy(),\n",
    "                                              columns=[\"height\", \"age\", \"male\"])\n",
    "\n",
    "columns = sampled_data_interact1.columns.to_list()\n",
    "columns.remove(\"weight\")\n",
    "\n",
    "X_interact1, y_interact1 = extract_X_y(sampled_data_interact1, X_columns=columns, y_column=\"weight\")\n",
    "beta_interact_hat1 = find_beta_hat(X_interact1, y_interact1)\n",
    "\n",
    "print(\"The mean least square estimator of the intercation model, beta_intercation_hat (based on sampled_data1):\")\n",
    "print(list(np.around(beta_interact_hat1, 3)))"
   ],
   "execution_count":399,
   "outputs":[
    {
     "name":"stdout",
     "text":[
      "The mean least square estimator of the intercation model, beta_intercation_hat (based on sampled_data1):\n",
      "[-111.45, 1.066, 1.559, -28.341, -0.011, 0.135, 0.439]\n"
     ],
     "output_type":"stream"
    }
   ],
   "metadata":{
    "datalore":{
     "node_id":"iuDhfd8OZXwtMCiFT1rT5a",
     "type":"CODE",
     "hide_input_from_viewers":false,
     "hide_output_from_viewers":false
    }
   }
  },
  {
   "cell_type":"markdown",
   "source":[
    "We would like to evaluate the different models by using the following scores: \n",
    "- Mallow's statistic $C_p$\n",
    "- Leave-one-out cross-validation $\\hat R_{CV}$"
   ],
   "attachments":{
    
   },
   "metadata":{
    "datalore":{
     "node_id":"mhUxbvUmYF3sOsGJkn0SdD",
     "type":"MD",
     "hide_input_from_viewers":false,
     "hide_output_from_viewers":false
    }
   }
  },
  {
   "cell_type":"markdown",
   "source":[
    "### Mallow's Statistic $C_p$"
   ],
   "attachments":{
    
   },
   "metadata":{
    "datalore":{
     "node_id":"wseO1mybCXKfTVIlz0z7pH",
     "type":"MD",
     "hide_input_from_viewers":false,
     "hide_output_from_viewers":false
    }
   }
  },
  {
   "cell_type":"code",
   "source":[
    "# finding Mallow's statistic\n",
    "\n",
    "def R_tr(beta_hat, X, y):\n",
    "    error_square = 0\n",
    "\n",
    "    for xi, yi in zip(X, y):\n",
    "        yi_hat = beta_hat.T @ xi\n",
    "\n",
    "        error_square += (yi - yi_hat) ** 2\n",
    "\n",
    "    return error_square\n",
    "\n",
    "def initialize_Cp(X_all, y_all):\n",
    "    \n",
    "    # finding the MSE of the full model\n",
    "    beta_all_hat = find_beta_hat(X_all, y_all)\n",
    "    _, SSE_all, _ = find_sum_squares(beta_all_hat, X_all, y_all)\n",
    "    n_all, p_all = X_all.shape\n",
    "    MSE_all = SSE_all \/ (n_all - p_all)\n",
    "\n",
    "    def Cp(beta_hat, X, y):\n",
    "        # (X.shape[1] - 1) is the number of explaning variables of the model (not including the bias)\n",
    "        return R_tr(beta_hat, X, y) + (2 * (X.shape[1] - 1) * MSE_all)\n",
    "    \n",
    "    return Cp"
   ],
   "execution_count":400,
   "outputs":[
    
   ],
   "metadata":{
    "datalore":{
     "node_id":"8CEAL3IZkFArYRQAQ7FfN2",
     "type":"CODE",
     "hide_input_from_viewers":false,
     "hide_output_from_viewers":false
    }
   }
  },
  {
   "cell_type":"code",
   "source":[
    "Cp = initialize_Cp(X_interact1, y_interact1)\n",
    "\n",
    "Cp_regular = Cp(beta_hat1, X1, y1)\n",
    "Cp_intercat = Cp(beta_interact_hat1, X_interact1, y_interact1)\n",
    "\n",
    "print(f\"Mallow's statistic for the regular model: {round(Cp_regular, 3)}\")\n",
    "print(f\"Mallow's statistic for the full (interaction) model: {round(Cp_intercat, 3)}\")"
   ],
   "execution_count":401,
   "outputs":[
    {
     "name":"stdout",
     "text":[
      "Mallow's statistic for the regular model: 22808.672\n",
      "Mallow's statistic for the full (interaction) model: 23258.157\n"
     ],
     "output_type":"stream"
    }
   ],
   "metadata":{
    "datalore":{
     "node_id":"RKkrAFH1HSAtZkeIlcVdbw",
     "type":"CODE",
     "hide_input_from_viewers":false,
     "hide_output_from_viewers":false
    }
   }
  },
  {
   "cell_type":"markdown",
   "source":[
    "### Leave-one-out cross-validation $\\hat R_{CV}$"
   ],
   "attachments":{
    
   },
   "metadata":{
    "datalore":{
     "node_id":"jUFJkYyU9YBXHfdul5eX98",
     "type":"MD",
     "hide_input_from_viewers":false,
     "hide_output_from_viewers":false
    }
   }
  },
  {
   "cell_type":"code",
   "source":[
    "# finding Leave-one-out cross validation\n",
    "\n",
    "def R_CV(beta_hat, X, y, model=\"Logistic Regression\"):\n",
    "    U = X @ linalg.inv(X.T @ X) @ X.T\n",
    "    \n",
    "    error_square = 0\n",
    "    for i, (xi, yi) in enumerate(zip(X, y)):\n",
    "        yi_hat = beta_hat.T @ xi\n",
    "\n",
    "        if model == \"Logistic Regression\":\n",
    "            yi_hat = sigmoid(yi_hat)\n",
    "\n",
    "        error_square += ((yi - yi_hat) \/ (1 - U[i][i])) ** 2\n",
    "\n",
    "    return error_square"
   ],
   "execution_count":402,
   "outputs":[
    
   ],
   "metadata":{
    "datalore":{
     "node_id":"GCmsUt0Arelu04ZyS5Ez8m",
     "type":"CODE",
     "hide_input_from_viewers":false,
     "hide_output_from_viewers":false
    }
   }
  },
  {
   "cell_type":"code",
   "source":[
    "R_CV_regular1 = R_CV(beta_hat1, X1, y1, model=\"Linear Regression\")\n",
    "R_CV_interact1 = R_CV(beta_interact_hat1, X_interact1, y_interact1, model=\"Linear Regression\")\n",
    "\n",
    "print(f\"R_CV for the regular model: {round(R_CV_regular1, 3)}\")\n",
    "print(f\"R_CV for the full (interaction) model: {round(R_CV_interact1, 3)}\")"
   ],
   "execution_count":403,
   "outputs":[
    {
     "name":"stdout",
     "text":[
      "R_CV for the regular model: 23065.098\n",
      "R_CV for the full (interaction) model: 23449.231\n"
     ],
     "output_type":"stream"
    }
   ],
   "metadata":{
    "datalore":{
     "node_id":"wcItF3BsPonRtXnmpJ9V2f",
     "type":"CODE",
     "hide_input_from_viewers":false,
     "hide_output_from_viewers":false
    }
   }
  },
  {
   "cell_type":"markdown",
   "source":[
    "_Mallow's Statistic $C_p$ results:_\n",
    "\n",
    "As we can see, the regular model got a better (lower) score, therefore, it's the preferred one.\n",
    "\n",
    "\n",
    "_Leave-one-out cross-validation $\\hat R_{CV}$ results:_\n",
    "\n",
    "As in the first scoring method, the regular model got a better (lower) score, therefore, it's the preferred one.\n",
    "\n",
    "Following both reasons, we can conclude that the regular model is preferred."
   ],
   "attachments":{
    
   },
   "metadata":{
    "datalore":{
     "node_id":"nT09IkYMUYmmJursBjrakA",
     "type":"MD",
     "hide_input_from_viewers":false,
     "hide_output_from_viewers":false
    }
   }
  },
  {
   "cell_type":"markdown",
   "source":[
    "# Part 2 - Logistic Regression"
   ],
   "attachments":{
    
   },
   "metadata":{
    "datalore":{
     "node_id":"lGGwA2jEFnbeoqSLZIxmuN",
     "type":"MD",
     "hide_input_from_viewers":false,
     "hide_output_from_viewers":false
    }
   }
  },
  {
   "cell_type":"markdown",
   "source":[
    "## Q1\n",
    "\n",
    "The explaining variables we chose:\n",
    "- height (continuous) - represents the height (in cm) of the athlete. This variable has many values, and therefore we can consider it as a continuous variable by the project instructions.\n",
    "\n",
    "- weight (continuous) - represents the weight (in kg) of the athlete. This variable has many values, and therefore we can consider it as a continuous variable by the project instructions.\n",
    "\n",
    "- male (discrete) - represents the gender of the athlete. This variable has only two values, 1 if the athlete is male, and 0 if the athlete is female. It is a binary variable and therefore discrete.\n",
    "\n",
    "The explained variable we chose:\n",
    "- won_any (binary) - represents if the athlete won any medals. This variable has only two values, 1 if the athlete won any medals, and 0 if the athlete didn't win a medal. Therefore, it is a binary variable.\n",
    "\n",
    "### Research question -- Do changes in the variables ('height', 'weight', 'male') affect the probability of an athlete to win a medal?"
   ],
   "attachments":{
    
   },
   "metadata":{
    "datalore":{
     "node_id":"spkalxLyJaTkl3VeAmOiPY",
     "type":"MD",
     "hide_input_from_viewers":false,
     "hide_output_from_viewers":false
    }
   }
  },
  {
   "cell_type":"markdown",
   "source":[
    "## Q2"
   ],
   "attachments":{
    
   },
   "metadata":{
    "datalore":{
     "node_id":"aCPZ3f8I86KYu8DiDvjekh",
     "type":"MD",
     "hide_input_from_viewers":false,
     "hide_output_from_viewers":false
    }
   }
  },
  {
   "cell_type":"code",
   "source":[
    "# sample 200 samples from our dataset\n",
    "# we set the \"random_state\" in order to get consistent results\n",
    "# the random state is differnt from part 1 in order the get a different sample\n",
    "sampled_data2 = data.sample(n=200, random_state=2)\n",
    "display(sampled_data2)"
   ],
   "execution_count":404,
   "outputs":[
    {
     "data":{
      "text\/html":[
       "<div>\n",
       "<style scoped>\n",
       "    .dataframe tbody tr th:only-of-type {\n",
       "        vertical-align: middle;\n",
       "    }\n",
       "\n",
       "    .dataframe tbody tr th {\n",
       "        vertical-align: top;\n",
       "    }\n",
       "\n",
       "    .dataframe thead th {\n",
       "        text-align: right;\n",
       "    }\n",
       "<\/style>\n",
       "<table border=\"1\" class=\"dataframe\">\n",
       "  <thead>\n",
       "    <tr style=\"text-align: right;\">\n",
       "      <th><\/th>\n",
       "      <th>nationality<\/th>\n",
       "      <th>sport<\/th>\n",
       "      <th>age<\/th>\n",
       "      <th>male<\/th>\n",
       "      <th>height<\/th>\n",
       "      <th>weight<\/th>\n",
       "      <th>won_any<\/th>\n",
       "      <th>won_gold<\/th>\n",
       "      <th>total_medals<\/th>\n",
       "    <\/tr>\n",
       "  <\/thead>\n",
       "  <tbody>\n",
       "    <tr>\n",
       "      <th>5765<\/th>\n",
       "      <td>CAN<\/td>\n",
       "      <td>rowing<\/td>\n",
       "      <td>56<\/td>\n",
       "      <td>0<\/td>\n",
       "      <td>160<\/td>\n",
       "      <td>50<\/td>\n",
       "      <td>0<\/td>\n",
       "      <td>0<\/td>\n",
       "      <td>0<\/td>\n",
       "    <\/tr>\n",
       "    <tr>\n",
       "      <th>9517<\/th>\n",
       "      <td>SUI<\/td>\n",
       "      <td>cycling<\/td>\n",
       "      <td>33<\/td>\n",
       "      <td>1<\/td>\n",
       "      <td>187<\/td>\n",
       "      <td>73<\/td>\n",
       "      <td>0<\/td>\n",
       "      <td>0<\/td>\n",
       "      <td>0<\/td>\n",
       "    <\/tr>\n",
       "    <tr>\n",
       "      <th>1945<\/th>\n",
       "      <td>GER<\/td>\n",
       "      <td>shooting<\/td>\n",
       "      <td>35<\/td>\n",
       "      <td>0<\/td>\n",
       "      <td>171<\/td>\n",
       "      <td>63<\/td>\n",
       "      <td>0<\/td>\n",
       "      <td>0<\/td>\n",
       "      <td>0<\/td>\n",
       "    <\/tr>\n",
       "    <tr>\n",
       "      <th>8498<\/th>\n",
       "      <td>AUS<\/td>\n",
       "      <td>aquatics<\/td>\n",
       "      <td>28<\/td>\n",
       "      <td>1<\/td>\n",
       "      <td>193<\/td>\n",
       "      <td>99<\/td>\n",
       "      <td>0<\/td>\n",
       "      <td>0<\/td>\n",
       "      <td>0<\/td>\n",
       "    <\/tr>\n",
       "    <tr>\n",
       "      <th>4481<\/th>\n",
       "      <td>SWE<\/td>\n",
       "      <td>cycling<\/td>\n",
       "      <td>22<\/td>\n",
       "      <td>0<\/td>\n",
       "      <td>165<\/td>\n",
       "      <td>55<\/td>\n",
       "      <td>1<\/td>\n",
       "      <td>1<\/td>\n",
       "      <td>1<\/td>\n",
       "    <\/tr>\n",
       "    <tr>\n",
       "      <th>...<\/th>\n",
       "      <td>...<\/td>\n",
       "      <td>...<\/td>\n",
       "      <td>...<\/td>\n",
       "      <td>...<\/td>\n",
       "      <td>...<\/td>\n",
       "      <td>...<\/td>\n",
       "      <td>...<\/td>\n",
       "      <td>...<\/td>\n",
       "      <td>...<\/td>\n",
       "    <\/tr>\n",
       "    <tr>\n",
       "      <th>4783<\/th>\n",
       "      <td>IRL<\/td>\n",
       "      <td>equestrian<\/td>\n",
       "      <td>44<\/td>\n",
       "      <td>1<\/td>\n",
       "      <td>193<\/td>\n",
       "      <td>82<\/td>\n",
       "      <td>0<\/td>\n",
       "      <td>0<\/td>\n",
       "      <td>0<\/td>\n",
       "    <\/tr>\n",
       "    <tr>\n",
       "      <th>9815<\/th>\n",
       "      <td>FRA<\/td>\n",
       "      <td>rowing<\/td>\n",
       "      <td>28<\/td>\n",
       "      <td>1<\/td>\n",
       "      <td>183<\/td>\n",
       "      <td>70<\/td>\n",
       "      <td>1<\/td>\n",
       "      <td>0<\/td>\n",
       "      <td>1<\/td>\n",
       "    <\/tr>\n",
       "    <tr>\n",
       "      <th>7913<\/th>\n",
       "      <td>USA<\/td>\n",
       "      <td>sailing<\/td>\n",
       "      <td>29<\/td>\n",
       "      <td>0<\/td>\n",
       "      <td>173<\/td>\n",
       "      <td>66<\/td>\n",
       "      <td>0<\/td>\n",
       "      <td>0<\/td>\n",
       "      <td>0<\/td>\n",
       "    <\/tr>\n",
       "    <tr>\n",
       "      <th>6424<\/th>\n",
       "      <td>INA<\/td>\n",
       "      <td>athletics<\/td>\n",
       "      <td>25<\/td>\n",
       "      <td>0<\/td>\n",
       "      <td>165<\/td>\n",
       "      <td>56<\/td>\n",
       "      <td>0<\/td>\n",
       "      <td>0<\/td>\n",
       "      <td>0<\/td>\n",
       "    <\/tr>\n",
       "    <tr>\n",
       "      <th>10020<\/th>\n",
       "      <td>FIN<\/td>\n",
       "      <td>sailing<\/td>\n",
       "      <td>32<\/td>\n",
       "      <td>0<\/td>\n",
       "      <td>169<\/td>\n",
       "      <td>59<\/td>\n",
       "      <td>0<\/td>\n",
       "      <td>0<\/td>\n",
       "      <td>0<\/td>\n",
       "    <\/tr>\n",
       "  <\/tbody>\n",
       "<\/table>\n",
       "<p>200 rows × 9 columns<\/p>\n",
       "<\/div>"
      ]
     },
     "metadata":{
      
     },
     "output_type":"display_data"
    }
   ],
   "metadata":{
    "datalore":{
     "node_id":"K0gG0moc4LDwH8YwADOsuL",
     "type":"CODE",
     "hide_input_from_viewers":false,
     "hide_output_from_viewers":false
    }
   }
  },
  {
   "cell_type":"markdown",
   "source":[
    "## Q3"
   ],
   "attachments":{
    
   },
   "metadata":{
    "datalore":{
     "node_id":"pkpmQh5Oep1BJp34GogRON",
     "type":"MD",
     "hide_input_from_viewers":false,
     "hide_output_from_viewers":false
    }
   }
  },
  {
   "cell_type":"code",
   "source":[
    "# data for Q3\n",
    "height_values = sampled_data2[\"height\"].values.tolist()\n",
    "weight_values = sampled_data2[\"weight\"].values.tolist()\n",
    "age_values = sampled_data2[\"age\"].values.tolist()\n",
    "won_any_values = sampled_data2[\"won_any\"].values.tolist()"
   ],
   "execution_count":405,
   "outputs":[
    
   ],
   "metadata":{
    "datalore":{
     "node_id":"9LjHzOFl4u0BsHtoyn8fA3",
     "type":"CODE",
     "hide_input_from_viewers":false,
     "hide_output_from_viewers":false
    }
   }
  },
  {
   "cell_type":"markdown",
   "source":[
    "### Section A\n",
    "\n",
    "Since we used the variables \"height\", \"weight\", \"age\" in part 1, we will only discuss the \"won_any\" variable in sections A, B. (as stated in the project instructions).\n",
    "\n",
    "(*) we are using a pie chart for the variable 'won_any' with the same reasoning mentioned in the previous part (same question and section). "
   ],
   "attachments":{
    
   },
   "metadata":{
    "datalore":{
     "node_id":"u516Dp70Mrm5v1lpwxCL3L",
     "type":"MD",
     "hide_input_from_viewers":false,
     "hide_output_from_viewers":false
    }
   }
  },
  {
   "cell_type":"code",
   "source":[
    "create_pie_chart(won_any_values, show_won_any=True)"
   ],
   "execution_count":406,
   "outputs":[
    {
     "data":{
      "image\/png":"[encoded data removed]"
     },
     "metadata":{
      "image\/png":{
       
      }
     },
     "output_type":"display_data"
    }
   ],
   "metadata":{
    "datalore":{
     "node_id":"fA1X9EkZGu9fscPAXAvBiP",
     "type":"CODE",
     "hide_input_from_viewers":false,
     "hide_output_from_viewers":false
    }
   }
  },
  {
   "cell_type":"markdown",
   "source":[
    "### Section B\n",
    "\n",
    "_Are there any missing values?_\n",
    "\n",
    "In project part 1, we removed all the records with any missing values of the relevant columns (such as height, weight, etc.).\n",
    "Therefore, there aren't any missing values in our entire dataset, and that's why there aren't any missing values in the sampled dataset.\n",
    "\n",
    "_Are there any unusual variables' values?_\n",
    "\n",
    "- won_any -- this variable has only two values: 1 if the athlete won any medals, 0 if the athlete didn't win a medal. All the values are expectable, therefore we don't have any unusual values.\n",
    "\n",
    "_Is the distribution of each variable symmetrical?_\n",
    "\n",
    "As we can see from the graph, the distribution of won_any isn't symmetrical. The vast majority of athletes didn't win a medal.\n",
    "\n",
    "_Can you assess what is the distribution of each variable?_\n",
    "\n",
    "We can assume that the distribution of 'won_any' is Bernoulli and the probability to win is much smaller than not to win ($P_{win} < 0.5$)."
   ],
   "attachments":{
    
   },
   "metadata":{
    "datalore":{
     "node_id":"zbnuHcHWQIz1PQRRgs3sve",
     "type":"MD",
     "hide_input_from_viewers":false,
     "hide_output_from_viewers":false
    }
   }
  },
  {
   "cell_type":"markdown",
   "source":[
    "### Section C"
   ],
   "attachments":{
    
   },
   "metadata":{
    "datalore":{
     "node_id":"X7YpeOUnsco5207M3koNrd",
     "type":"MD",
     "hide_input_from_viewers":false,
     "hide_output_from_viewers":false
    }
   }
  },
  {
   "cell_type":"code",
   "source":[
    "height_values_not_won_any = sampled_data2[sampled_data2[\"won_any\"] == 0][\"height\"]\n",
    "height_values_won_any = sampled_data2[sampled_data2[\"won_any\"] == 1][\"height\"]\n",
    "\n",
    "weight_values_not_won_any = sampled_data2[sampled_data2[\"won_any\"] == 0][\"weight\"]\n",
    "weight_values_won_any = sampled_data2[sampled_data2[\"won_any\"] == 1][\"weight\"]\n",
    "\n",
    "create_two_var_histogram(height_values_not_won_any, height_values_won_any, bins_1=9, bins_2=8, \n",
    "                         x_label=\"Height\", units=\"cm\", show_won_any=True)\n",
    "create_two_var_histogram(weight_values_not_won_any, weight_values_won_any, bins_1=10, bins_2=8, \n",
    "                         x_label=\"Weight\", units=\"kg\", show_won_any=True)"
   ],
   "execution_count":407,
   "outputs":[
    {
     "data":{
      "image\/png":"[encoded data removed]"
     },
     "metadata":{
      "image\/png":{
       
      }
     },
     "output_type":"display_data"
    },
    {
     "data":{
      "image\/png":"[encoded data removed]"
     },
     "metadata":{
      "image\/png":{
       
      }
     },
     "output_type":"display_data"
    }
   ],
   "metadata":{
    "datalore":{
     "node_id":"7ni31RJ7XMQ4lXHedu43xl",
     "type":"CODE",
     "hide_input_from_viewers":false,
     "hide_output_from_viewers":false
    }
   }
  },
  {
   "cell_type":"markdown",
   "source":[
    "As we can see from the first graph, it seems that the distribution of height among athletes who won and the distribution of height among athletes who didn't win are very similar. The common value in both histograms is approximately the same, and they're both approximately symmetrical. In addition, the changes between adjacent bars are proportional between the two histograms.\n",
    "\n",
    "In the second graph, the distribution of weight among athletes who won and the distribution of weight among athletes who didn't win are more different than in the first graph. For the red histogram, in the adjacent bar (right one) to the bar that represents the common value, there's a significant drop in the number of records. On the other hand, for the blue histogram, the equivalent bar (to the one mentioned) represents the common value. Moreover, the red histogram doesn't seem to be very symmetrical, whereas the blue one does (roughly).\n",
    "\n",
    "Thus, we can conclude that the explaining variable 'weight' affects the explained variable 'won_any' more than the explaining variable 'height'."
   ],
   "attachments":{
    
   },
   "metadata":{
    "datalore":{
     "node_id":"iekPE3SWeynIeN16hCr0tB",
     "type":"MD",
     "hide_input_from_viewers":false,
     "hide_output_from_viewers":false
    }
   }
  },
  {
   "cell_type":"markdown",
   "source":[
    "## Q4"
   ],
   "attachments":{
    
   },
   "metadata":{
    "datalore":{
     "node_id":"fCmeum0tvXde7tzaews1Fa",
     "type":"MD",
     "hide_input_from_viewers":false,
     "hide_output_from_viewers":false
    }
   }
  },
  {
   "cell_type":"code",
   "source":[
    "X2, y2 = extract_X_y(sampled_data2, X_columns=[\"height\", \"weight\", \"male\"], y_column=\"won_any\")\n",
    "\n",
    "# find beta_hat\n",
    "reg = LogisticRegression(penalty=\"none\", fit_intercept=False).fit(X2, y2)\n",
    "beta_hat2 = reg.coef_[0]\n",
    "\n",
    "print(f\"The model MLE estimator (based on the sampled_data2):\")\n",
    "print(list(np.around(beta_hat2, 3)))"
   ],
   "execution_count":408,
   "outputs":[
    {
     "name":"stdout",
     "text":[
      "The model MLE estimator (based on the sampled_data2):\n",
      "[0.042, -0.02, 0.035, -0.898]\n"
     ],
     "output_type":"stream"
    }
   ],
   "metadata":{
    "datalore":{
     "node_id":"jQs2yWBf3TQ1ZtyzNMv0QF",
     "type":"CODE",
     "hide_input_from_viewers":false,
     "hide_output_from_viewers":false
    }
   }
  },
  {
   "cell_type":"markdown",
   "source":[
    "Effect on expected 'won_any' variable (explained variable) by incrementing each of 'height', 'weight', 'male' variables (explaining variables):\n",
    "\n",
    "- Height -- decreases the log odds ratio to win by 0.02\n",
    "- Weight -- increases the log odds ratio to win by 0.035\n",
    "- Gender ('male') -- decreases the log odds ratio to win by 0.898\n",
    "\n",
    "Our result implies that the explaining variable 'male' has a much more significant impact on the log odds ratio to win, than the variables 'height' and 'weight' (since their coefficient is fairly close to zero)."
   ],
   "attachments":{
    
   },
   "metadata":{
    "datalore":{
     "node_id":"zX60ij0Ie11l6sOjXj0prL",
     "type":"MD",
     "hide_input_from_viewers":false,
     "hide_output_from_viewers":false
    }
   }
  },
  {
   "cell_type":"markdown",
   "source":[
    "## Q5\n",
    "\n",
    "In this question, we will find a confidence interval for $\\beta^*_j$ for all $0 \\le j \\le k$\n",
    "\n",
    "Each confidence interval will have an approximated confidence level of 0.95."
   ],
   "attachments":{
    
   },
   "metadata":{
    "datalore":{
     "node_id":"4gafDZ62WPQTisiJVZRmmT",
     "type":"MD",
     "hide_input_from_viewers":false,
     "hide_output_from_viewers":false
    }
   }
  },
  {
   "cell_type":"code",
   "source":[
    "def sigmoid(x):\n",
    "    return (e ** x) \/ (1 + (e ** x))\n",
    "\n",
    "\n",
    "def find_beta_hat_var_hat(beta_hat, X):\n",
    "    V_diag = []\n",
    "\n",
    "    for xi in X:\n",
    "        pi_i = sigmoid(beta_hat.T @ xi)\n",
    "        V_diag.append(pi_i * (1-pi_i))\n",
    "\n",
    "    V_hat = np.diag(V_diag)\n",
    "    beta_hat_var_hat = linalg.inv(X.T @ V_hat @ X)\n",
    "\n",
    "    return beta_hat_var_hat\n",
    "\n",
    "beta_hat_var_hat = find_beta_hat_var_hat(beta_hat2, X2)\n",
    "z = norm.ppf(0.975)\n",
    "\n",
    "for i, beta_i_hat in enumerate(beta_hat2):\n",
    "    se_i_hat = (beta_hat_var_hat[i][i]) ** 0.5\n",
    "    confidence_interval = [round(beta_i_hat - (z * se_i_hat), 3), round(beta_i_hat + (z * se_i_hat), 3)]\n",
    "    print(f\"Confidence interval for beta {i} with approximated confidence level of 0.95:\")\n",
    "    print(confidence_interval)\n",
    "    print()"
   ],
   "execution_count":409,
   "outputs":[
    {
     "name":"stdout",
     "text":[
      "Confidence interval for beta 0 with approximated confidence level of 0.95:\n",
      "[-8.022, 8.106]\n",
      "\n",
      "Confidence interval for beta 1 with approximated confidence level of 0.95:\n",
      "[-0.078, 0.037]\n",
      "\n",
      "Confidence interval for beta 2 with approximated confidence level of 0.95:\n",
      "[-0.009, 0.079]\n",
      "\n",
      "Confidence interval for beta 3 with approximated confidence level of 0.95:\n",
      "[-1.894, 0.097]\n",
      "\n"
     ],
     "output_type":"stream"
    }
   ],
   "metadata":{
    "datalore":{
     "node_id":"0RdYfZx1DGJTo3j6WA2W19",
     "type":"CODE",
     "hide_input_from_viewers":false,
     "hide_output_from_viewers":false
    }
   }
  },
  {
   "cell_type":"code",
   "source":[
    "X_all2, y_all2 = extract_X_y(data, X_columns=[\"height\", \"weight\", \"male\"], y_column=\"won_any\")\n",
    "\n",
    "# find beta_hat on all the data\n",
    "reg = LogisticRegression(penalty=\"none\", fit_intercept=False).fit(X_all2, y_all2)\n",
    "beta_all_hat2 = reg.coef_[0]\n",
    "\n",
    "print(f\"The model MLE estimator (based on all the data):\")\n",
    "print(list(np.around(beta_all_hat2, 3)))"
   ],
   "execution_count":410,
   "outputs":[
    {
     "name":"stdout",
     "text":[
      "The model MLE estimator (based on all the data):\n",
      "[-6.029, 0.023, 0.008, -0.536]\n"
     ],
     "output_type":"stream"
    }
   ],
   "metadata":{
    "datalore":{
     "node_id":"xt1cYMH5zmQgj8VeIevm37",
     "type":"CODE",
     "hide_input_from_viewers":false,
     "hide_output_from_viewers":false
    }
   }
  },
  {
   "cell_type":"markdown",
   "source":[
    "We can see that for all $0 \\le j \\le k,$ our MLE estimator $\\hat\\beta_j$ (calculated based on the full dataset) is trapped in the confidence interval calculated based on the sampled data (200 random samples)."
   ],
   "attachments":{
    
   },
   "metadata":{
    "datalore":{
     "node_id":"9O5P0pSPdTDTGP39cHNNVQ",
     "type":"MD",
     "hide_input_from_viewers":false,
     "hide_output_from_viewers":false
    }
   }
  },
  {
   "cell_type":"markdown",
   "source":[
    "## Q6"
   ],
   "attachments":{
    
   },
   "metadata":{
    "datalore":{
     "node_id":"hwQk5uY6k0SyBlPHHUSwhn",
     "type":"MD",
     "hide_input_from_viewers":false,
     "hide_output_from_viewers":false
    }
   }
  },
  {
   "cell_type":"code",
   "source":[
    "sampled_data_interact2 = add_interact_columns(data=sampled_data2[[\"height\", \"weight\", \"male\", \"won_any\"]].copy(),\n",
    "                                              columns=[\"height\", \"weight\", \"male\"])\n",
    "\n",
    "columns = sampled_data_interact2.columns.to_list()\n",
    "columns.remove(\"won_any\")\n",
    "\n",
    "X_interact2, y_interact2 = extract_X_y(sampled_data_interact2, X_columns=columns, y_column=\"won_any\")\n",
    "\n",
    "reg = LogisticRegression(penalty=\"none\", fit_intercept=False).fit(X_interact2, y_interact2)\n",
    "beta_interact_hat2 = reg.coef_[0]\n",
    "\n",
    "print(f\"the interact model MLE estimator (based on sampled_data2):\")\n",
    "print(list(np.around(beta_interact_hat2, 4)))"
   ],
   "execution_count":411,
   "outputs":[
    {
     "name":"stdout",
     "text":[
      "the interact model MLE estimator (based on sampled_data2):\n",
      "[-0.0001, -0.0172, -0.0014, -0.0, 0.0002, -0.0058, 0.0012]\n"
     ],
     "output_type":"stream"
    }
   ],
   "metadata":{
    "datalore":{
     "node_id":"wuZn1uLyHRURck8x8Cdrjr",
     "type":"CODE",
     "hide_input_from_viewers":false,
     "hide_output_from_viewers":false
    }
   }
  },
  {
   "cell_type":"markdown",
   "source":[
    "We would like to check which model is better (original or interact). Therefore, we will use the following methods:\n",
    "- Likelihood Test\n",
    "- Leave-one-out cross-validation ($\\hat R_{CV}$)"
   ],
   "attachments":{
    
   },
   "metadata":{
    "datalore":{
     "node_id":"fKdEvSOMhqKb28dUGTwlDx",
     "type":"MD",
     "hide_input_from_viewers":false,
     "hide_output_from_viewers":false
    }
   }
  },
  {
   "cell_type":"markdown",
   "source":[
    "### Likelihood Ratio Test\n",
    "\n",
    "We will perform this test with level $\\alpha=0.05$ in order to check the following hypotheses:\n",
    "\n",
    "$H_0:$ $\\beta^*_{1,2} = \\beta^*_{1,3} = \\beta^*_{2,3} = 0$\n",
    "\n",
    "$H_1: \\beta^*_{i,j} \\ne 0 \\space for \\space some \\space (i, j) \\in \\{(1, 2), (1,3), (2,3)\\}$\n",
    "\n",
    "The test statistic: $\\lambda = 2log(\\frac{L(\\hat\\beta)}{L(\\hat\\beta_0)})$ where:\n",
    "\n",
    "- $\\hat\\beta$ is the MLE of the entire parameter space.\n",
    "- $\\hat\\beta_0$ is the MLE of the parameter space under the null hypothesis.\n",
    "\n",
    "The Reject Region: $\\lambda > \\chi^2_{0.95,\\space r-q}$\n",
    "\n",
    "- r is the dimension of the entire parameter space.\n",
    "- q is the dimension of the parameter space under the null hypothesis."
   ],
   "attachments":{
    
   },
   "metadata":{
    "datalore":{
     "node_id":"fIKss0DgiSGwNV3Y4M8lGF",
     "type":"MD",
     "hide_input_from_viewers":false,
     "hide_output_from_viewers":false
    }
   }
  },
  {
   "cell_type":"code",
   "source":[
    "def LR_log_likelihood(beta_hat, X, y):\n",
    "    summ = 0\n",
    "    for xi, yi in zip(X, y):\n",
    "        item1 = yi * beta_hat.T @ xi\n",
    "        item2 = log(1 + e ** (beta_hat.T @ xi))\n",
    "\n",
    "        summ += (item1 - item2)\n",
    "    \n",
    "    return summ\n",
    "\n",
    "# test statistic\n",
    "lambdaa = 2 * (LR_log_likelihood(beta_interact_hat2, X_interact2, y_interact2) - LR_log_likelihood(beta_hat2, X2, y2))\n",
    "\n",
    "# the number of paramters under the entrie paramter space is (X_interact2.shape[1] - 1)\n",
    "# the number of paramters under the parameter space under the null hypothesis is (X2.shape[1] - 1)\n",
    "r = X_interact2.shape[1] - 1\n",
    "q = X2.shape[1] - 1\n",
    "\n",
    "# reject region\n",
    "q_chi2 = chi2.ppf(0.95, r-q)\n",
    "\n",
    "reject_h0 = lambdaa > q_chi2\n",
    "\n",
    "if reject_h0:  \n",
    "    print(f\"The result of our test is --- Reject H_0\")\n",
    "else:\n",
    "    print(f\"The result of the test is --- Retain H_0\")"
   ],
   "execution_count":412,
   "outputs":[
    {
     "name":"stdout",
     "text":[
      "The result of the test is --- Retain H_0\n"
     ],
     "output_type":"stream"
    }
   ],
   "metadata":{
    "datalore":{
     "node_id":"0TDo8vXBKXw3Bbsy0noTQT",
     "type":"CODE",
     "hide_input_from_viewers":false,
     "hide_output_from_viewers":false
    }
   }
  },
  {
   "cell_type":"markdown",
   "source":[
    "### Leave-one-out cross-validation $\\hat R_{CV}$"
   ],
   "attachments":{
    
   },
   "metadata":{
    "datalore":{
     "node_id":"KOCdPUjzglhcO9Kr4eRWZJ",
     "type":"MD",
     "hide_input_from_viewers":false,
     "hide_output_from_viewers":false
    }
   }
  },
  {
   "cell_type":"code",
   "source":[
    "R_CV_regular2 = R_CV(beta_hat2, X2, y2, model=\"Logistic Regression\")\n",
    "R_CV_interact2 = R_CV(beta_interact_hat2, X_interact2, y_interact2, model=\"Logistic Regression\")\n",
    "\n",
    "print(f\"R_CV for the regular model: {round(R_CV_regular2, 3)}\")\n",
    "print(f\"R_CV for the full (interaction) model: {round(R_CV_interact2, 3)}\")"
   ],
   "execution_count":413,
   "outputs":[
    {
     "name":"stdout",
     "text":[
      "R_CV for the regular model: 30.155\n",
      "R_CV for the full (interaction) model: 31.437\n"
     ],
     "output_type":"stream"
    }
   ],
   "metadata":{
    "datalore":{
     "node_id":"RI5QoSOio5NTsAA1YfNxN6",
     "type":"CODE",
     "hide_input_from_viewers":false,
     "hide_output_from_viewers":false
    }
   }
  },
  {
   "cell_type":"markdown",
   "source":[
    "_Likelihood Ratio Test results:_\n",
    "\n",
    "It appears that according to the test, we retain the null hypothesis with level $\\alpha = 0.05$.\n",
    "\n",
    "\n",
    "_Leave-one-out cross-validation $\\hat R_{CV}$ results:_\n",
    "\n",
    "As we can see, the regular model got a better (lower) score, therefore, it's the preferred one.\n",
    "\n",
    "Following both reasons, we can conclude that the regular model is preferred."
   ],
   "attachments":{
    
   },
   "metadata":{
    "datalore":{
     "node_id":"pQWqe5EDvt1ZEMklTG3WQG",
     "type":"MD",
     "hide_input_from_viewers":false,
     "hide_output_from_viewers":false
    }
   }
  },
  {
   "cell_type":"markdown",
   "source":[
    "## Q7 + Q8\n",
    "\n",
    "First, among all the columns, we chose to remove 'won_gold' and 'total_medals', since they directly imply the value of the explained variable 'won_any' [for instance, if the total number of medals that an athlete won is positive ('total_medals' > 0), we can conclude that they won a medal ('won_any' = 1)].\n",
    "\n",
    "Second, our remaining columns contain the categorical variables 'nationality' and 'sport'. The proper way to represent them numerically would be by one hot encoding. However, since the total number of unique values under those columns is approximately 100, we will need to add roughly 100 new columns in order to represent these columns. In addition, we were instructed in the question to create all first-order interactions which will increase the number of columns even more (drastically so). \n",
    "\n",
    "After consulting the problem at an office hour, we were advised to think of a creative way to map each column's unique values into numerical values to be able to create an order relation between them.\n",
    "\n",
    "For the 'nationality' variable, we ranked the unique values according to the number of athletes from each nationality (in ascending order), based on the sample we generated in part 2. Then we mapped each unique value to its corresponding order statistic (based on the order mentioned above). For the 'sport' variable, we did the same, while this time ranking according to the number of athletes from each sport. As a result, we can represent each categorical variable by a single numerical column."
   ],
   "attachments":{
    
   },
   "metadata":{
    "datalore":{
     "node_id":"xzF2OqrBm9mlXLhOXnRxPA",
     "type":"MD",
     "hide_input_from_viewers":false,
     "hide_output_from_viewers":false
    }
   }
  },
  {
   "cell_type":"code",
   "source":[
    "def update_categorical_to_numerical(data, col):\n",
    "    col_values = data[[col, \"age\"]].groupby(col).count().sort_values(\"age\").index.tolist()\n",
    "\n",
    "    # the value of each col_value (key) is the order statistic\n",
    "    col_dic = {}\n",
    "    for i, col_value in enumerate(col_values):\n",
    "        col_dic[col_value] = i\n",
    "\n",
    "    original_col = sampled_data2[col].tolist()\n",
    "    new_col = [col_dic[original_name] for original_name in original_col]\n",
    "\n",
    "    data[col] = new_col"
   ],
   "execution_count":414,
   "outputs":[
    
   ],
   "metadata":{
    "datalore":{
     "node_id":"Amf6c9SSlhfuvKqT5uCMGA",
     "type":"CODE",
     "hide_input_from_viewers":false,
     "hide_output_from_viewers":false
    }
   }
  },
  {
   "cell_type":"code",
   "source":[
    "# create the data for Q7, Q8\n",
    "\n",
    "numerical_sampled_data2 = sampled_data2.drop([\"won_gold\", \"total_medals\"].copy(), axis=1)\n",
    "\n",
    "# convert the categorical variables 'nationality' and 'sport' to numerical (as mentioned)\n",
    "update_categorical_to_numerical(numerical_sampled_data2, col=\"nationality\")\n",
    "update_categorical_to_numerical(numerical_sampled_data2, col=\"sport\")\n",
    "\n",
    "# add the interact columns\n",
    "columns = numerical_sampled_data2.columns.tolist()\n",
    "columns.remove(\"won_any\")\n",
    "numerical_interact_sampled_data2 = add_interact_columns(numerical_sampled_data2, columns)\n",
    "\n",
    "columns = numerical_interact_sampled_data2.columns.tolist()\n",
    "columns.remove(\"won_any\")\n",
    "numerical_X_all_interact2, numerical_y_all_interact2 = extract_X_y(numerical_interact_sampled_data2, columns, y_column=\"won_any\")"
   ],
   "execution_count":415,
   "outputs":[
    
   ],
   "metadata":{
    "datalore":{
     "node_id":"MLgpIgyyokuHJonj795FGt",
     "type":"CODE",
     "hide_input_from_viewers":false,
     "hide_output_from_viewers":false
    }
   }
  },
  {
   "cell_type":"code",
   "source":[
    "# functions for Q7, Q8\n",
    "\n",
    "def AIC(beta_hat, X, y):\n",
    "    # the number of parameters of the model is (X_interact2.shape[1] - 1) (not including the bias)\n",
    "    var_num = X.shape[1] - 1\n",
    "    return LR_log_likelihood(beta_hat, X, y) - var_num\n",
    "\n",
    "\n",
    "def BIC(beta_hat, X, y):\n",
    "    # the number of parameters of the model is (X.shape[1] - 1) (not including the bias)\n",
    "    n, var_num = X.shape[0], (X.shape[1] - 1)\n",
    "    return LR_log_likelihood(beta_hat, X, y) - ((var_num \/ 2) * log(n))\n",
    "\n",
    "\n",
    "\n",
    "def initialize_score_function(score_method):\n",
    "\n",
    "    if score_method == \"AIC\":\n",
    "        return AIC\n",
    "    \n",
    "    elif score_method == \"BIC\":\n",
    "        return BIC\n",
    "    \n",
    "    return None\n",
    "\n",
    "\n",
    "def foward_stepwise_regression(data, variables, explained_variable, score_function):\n",
    "    model_variables, model_score = [], -float('inf')\n",
    "\n",
    "    while True:\n",
    "        res_lst = []\n",
    "        \n",
    "        # going over all the varaibles we still didn't add to the model\n",
    "        for var in variables:\n",
    "            # the added model with 'var' as explained variable\n",
    "            temp = model_variables.copy()\n",
    "            temp.append(var)\n",
    "\n",
    "            # finding the score of the added model\n",
    "            X, y = extract_X_y(data, X_columns=temp, y_column=explained_variable)\n",
    "            beta_hat = find_beta_hat(X, y)\n",
    "            score = score_function(beta_hat, X, y)\n",
    "\n",
    "            res_lst.append((var, score))\n",
    "        \n",
    "        # find the variable who achived the best score (higher since we are using AIC, BIC scoring methods)\n",
    "        best_added_var, best_added_score = max(res_lst, key=lambda x: x[1])\n",
    "\n",
    "        # if the 'new_added_score' is better (higher), add 'best_added_var' to the model as an explaining variable\n",
    "        if best_added_score > model_score:\n",
    "            model_variables.append(best_added_var)\n",
    "            variables.remove(best_added_var)\n",
    "            model_score = best_added_score\n",
    "\n",
    "        # otherwise, the score didn't imporove. therefore we exit the loop the finish the algorithm's run\n",
    "        else:\n",
    "            break\n",
    "\n",
    "    return model_variables, model_score\n",
    "\n",
    "\n",
    "def backward_stepwise_regression(data, model_variables, explained_variable, score_function):\n",
    "\n",
    "    # get the score of the model the contains all the variabels as explained variabels\n",
    "    X_all, y_all = extract_X_y(data, X_columns=model_variables, y_column=explained_variable)\n",
    "    beta_hat_all = find_beta_hat(X_all, y_all)\n",
    "    model_score = score_function(beta_hat_all, X_all, y_all)\n",
    "\n",
    "    # the number of explaning variables of the model must be at least one\n",
    "    while len(model_variables) > 1:\n",
    "        res_lst = []\n",
    "        # going over all the varaibles we still didn't remove from the model\n",
    "        for var in model_variables:\n",
    "            # the removed model with 'var' as no logner an explained variable\n",
    "            temp = model_variables.copy()\n",
    "            temp.remove(var)\n",
    "\n",
    "            # finding the score of the removed model\n",
    "            X, y = extract_X_y(data, X_columns=temp, y_column=explained_variable)\n",
    "            beta_hat = find_beta_hat(X, y)\n",
    "            score = score_function(beta_hat, X, y)\n",
    "            res_lst.append((var, score))\n",
    "        \n",
    "\n",
    "        # find the variable who achived the best score (higher since we are using AIC, BIC scoring methods)\n",
    "        best_removed_var, best_removed_score = max(res_lst, key=lambda x: x[1])\n",
    "\n",
    "        # if the 'best_removed_score' is better (higher), remove 'best_removed_var' from the model as an explaining variable\n",
    "        if best_removed_score > model_score:\n",
    "            model_variables.remove(best_removed_var)\n",
    "            model_score = best_removed_score\n",
    "\n",
    "        # otherwise, the score didn't imporove. therefore we exit the loop the finish the algorithm's run\n",
    "        else:\n",
    "            break\n",
    "\n",
    "    return model_variables, model_score"
   ],
   "execution_count":416,
   "outputs":[
    
   ],
   "metadata":{
    "datalore":{
     "node_id":"lKieXZBotsq0wEtR4SrLUo",
     "type":"CODE",
     "hide_input_from_viewers":false,
     "hide_output_from_viewers":false
    }
   }
  },
  {
   "cell_type":"markdown",
   "source":[
    "## Q7"
   ],
   "attachments":{
    
   },
   "metadata":{
    "datalore":{
     "node_id":"W0Zr2Y40hBUBA9rCVAvdkZ",
     "type":"MD",
     "hide_input_from_viewers":false,
     "hide_output_from_viewers":false
    }
   }
  },
  {
   "cell_type":"code",
   "source":[
    "# AIC score function\n",
    "score_function = initialize_score_function(score_method=\"AIC\")\n",
    "\n",
    "best_model_forward, model_score_fowrward = foward_stepwise_regression(numerical_interact_sampled_data2, \n",
    "                                                                      columns.copy(), \"won_any\", score_function)\n",
    "best_model_backward, model_score_backward = backward_stepwise_regression(numerical_interact_sampled_data2, \n",
    "                                                                         columns.copy(), \"won_any\", score_function)\n",
    "\n",
    "print(\" --*-- Results when using AIC method --*--\\n\")\n",
    "print(\"Forward Stepwise Regression:\")\n",
    "print(f\"The best model: {best_model_forward}, with score: {round(model_score_fowrward, 3)}\\n\")\n",
    "print(\"Backward Stepwise Regression:\")\n",
    "print(f\"The best model: {best_model_backward}, with score: {round(model_score_backward, 3)}\")"
   ],
   "execution_count":417,
   "outputs":[
    {
     "name":"stdout",
     "text":[
      " --*-- Results when using AIC method --*--\n",
      "\n",
      "Forward Stepwise Regression:\n",
      "The best model: ['nationality'], with score: -151.314\n",
      "\n",
      "Backward Stepwise Regression:\n",
      "The best model: ['nationality'], with score: -151.314\n"
     ],
     "output_type":"stream"
    }
   ],
   "metadata":{
    "datalore":{
     "node_id":"TwvjxpVbe4PhjRsaLQ9Y1y",
     "type":"CODE",
     "hide_input_from_viewers":false,
     "hide_output_from_viewers":false
    }
   }
  },
  {
   "cell_type":"markdown",
   "source":[
    "In this question, we used AIC as the scoring function.\n",
    "\n",
    "We can see that both algorithms (forward and backward stepwise regression) reached the same model, that includes only a single explaining variable: ('nationality') **(with a score of -151.314)**.\n",
    "\n",
    "Since both models (under this scoring function) are the same, we will choose it as the best model (among all the models allowing first order interactions)."
   ],
   "attachments":{
    
   },
   "metadata":{
    "datalore":{
     "node_id":"q6qngSZUZK5TgUszLCD3eH",
     "type":"MD",
     "hide_input_from_viewers":false,
     "hide_output_from_viewers":false
    }
   }
  },
  {
   "cell_type":"markdown",
   "source":[
    "## Q8"
   ],
   "attachments":{
    
   },
   "metadata":{
    "datalore":{
     "node_id":"Nz9shB2pkQ38OgDu5HpYhH",
     "type":"MD",
     "hide_input_from_viewers":false,
     "hide_output_from_viewers":false
    }
   }
  },
  {
   "cell_type":"code",
   "source":[
    "# BIC score function\n",
    "score_function = initialize_score_function(score_method=\"BIC\")\n",
    "\n",
    "best_model_forward, model_score_fowrward = foward_stepwise_regression(numerical_interact_sampled_data2, \n",
    "                                                                      columns.copy(), \"won_any\", score_function)\n",
    "best_model_backward, model_score_backward = backward_stepwise_regression(numerical_interact_sampled_data2, \n",
    "                                                                         columns.copy(), \"won_any\", score_function)\n",
    "\n",
    "print(\" --*-- Results when using BIC method --*--\\n\")\n",
    "print(\"Forward Stepwise Regression:\")\n",
    "print(f\"The best model: {best_model_forward}, with score: {round(model_score_fowrward, 3)}\\n\")\n",
    "print(\"Backward Stepwise Regression:\")\n",
    "print(f\"The best model: {best_model_backward}, with score: {round(model_score_backward, 3)}\")"
   ],
   "execution_count":418,
   "outputs":[
    {
     "name":"stdout",
     "text":[
      " --*-- Results when using BIC method --*--\n",
      "\n",
      "Forward Stepwise Regression:\n",
      "The best model: ['nationality'], with score: -152.963\n",
      "\n",
      "Backward Stepwise Regression:\n",
      "The best model: ['nationality'], with score: -152.963\n"
     ],
     "output_type":"stream"
    }
   ],
   "metadata":{
    "datalore":{
     "node_id":"fTgUEjr2F5cxzSbNjGZSNv",
     "type":"CODE",
     "hide_input_from_viewers":false,
     "hide_output_from_viewers":false
    }
   }
  },
  {
   "cell_type":"markdown",
   "source":[
    "In this question, we used BIC as the scoring function.\n",
    "\n",
    "We can see that both algorithms (forward and backward stepwise regression) reached the same model, that includes only a single explaining variable: ('nationality') **(with a score of -152.963)**.\n",
    "\n",
    "Since both models (under this scoring function) are the same, we will choose it as the best model (among all the models allowing first order interactions).\n",
    "\n",
    "Note that this is the same model we chose in Q7 (using AIC method).\n",
    "\n",
    "We assume the reason for it is that both methods (AIC, BIC) are very similar. The main difference between them is that BIC takes into account log(n) in the 'punishing factor' of the method. Since our generated sample contains only 200 records, the 'punishment' effect of log(n) wasn't significant. Therefore, we got the same results on both questions (with a very similar model score)."
   ],
   "attachments":{
    
   },
   "metadata":{
    "datalore":{
     "node_id":"PntpUxRa6QtKM4Eb4QN7Ja",
     "type":"MD",
     "hide_input_from_viewers":false,
     "hide_output_from_viewers":false
    }
   }
  }
 ],
 "metadata":{
  "kernelspec":{
   "display_name":"Python",
   "language":"python",
   "name":"python"
  },
  "datalore":{
   "version":1,
   "computation_mode":"JUPYTER",
   "package_manager":"pip",
   "base_environment":"default",
   "packages":[
    
   ]
  }
 },
 "nbformat":4,
 "nbformat_minor":4
}