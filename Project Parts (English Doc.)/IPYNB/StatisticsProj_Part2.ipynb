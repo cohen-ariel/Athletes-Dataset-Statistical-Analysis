{
 "cells":[
  {
   "cell_type":"code",
   "source":[
    "# imports\n",
    "from scipy.stats import norm, chi2, t, f\n",
    "from matplotlib import pyplot as plt\n",
    "import seaborn as sns\n",
    "import pandas as pd\n",
    "import numpy as np\n",
    "import math"
   ],
   "execution_count":17,
   "outputs":[
    
   ],
   "metadata":{
    "datalore":{
     "node_id":"oo2gU9ehH4omGmTOrWxa61",
     "type":"CODE",
     "hide_input_from_viewers":true,
     "hide_output_from_viewers":true
    }
   }
  },
  {
   "cell_type":"code",
   "source":[
    "# constants\n",
    "PI = math.pi\n",
    "e = math.e\n",
    "P_VALUE = 2"
   ],
   "execution_count":18,
   "outputs":[
    
   ],
   "metadata":{
    "datalore":{
     "node_id":"StXrNMIXjWvfpFAQZCmApz",
     "type":"CODE",
     "hide_input_from_viewers":true,
     "hide_output_from_viewers":true
    }
   }
  },
  {
   "cell_type":"code",
   "source":[
    "# the data from project 1\n",
    "data = pd.read_csv(\"athletes_edited.csv\")\n",
    "display(data)"
   ],
   "execution_count":19,
   "outputs":[
    {
     "data":{
      "text\/html":[
       "<div>\n",
       "<style scoped>\n",
       "    .dataframe tbody tr th:only-of-type {\n",
       "        vertical-align: middle;\n",
       "    }\n",
       "\n",
       "    .dataframe tbody tr th {\n",
       "        vertical-align: top;\n",
       "    }\n",
       "\n",
       "    .dataframe thead th {\n",
       "        text-align: right;\n",
       "    }\n",
       "<\/style>\n",
       "<table border=\"1\" class=\"dataframe\">\n",
       "  <thead>\n",
       "    <tr style=\"text-align: right;\">\n",
       "      <th><\/th>\n",
       "      <th>nationality<\/th>\n",
       "      <th>sport<\/th>\n",
       "      <th>age<\/th>\n",
       "      <th>male<\/th>\n",
       "      <th>height<\/th>\n",
       "      <th>weight<\/th>\n",
       "      <th>won_any<\/th>\n",
       "      <th>won_gold<\/th>\n",
       "      <th>total_medals<\/th>\n",
       "    <\/tr>\n",
       "  <\/thead>\n",
       "  <tbody>\n",
       "    <tr>\n",
       "      <th>0<\/th>\n",
       "      <td>ESP<\/td>\n",
       "      <td>athletics<\/td>\n",
       "      <td>46<\/td>\n",
       "      <td>1<\/td>\n",
       "      <td>172<\/td>\n",
       "      <td>64<\/td>\n",
       "      <td>0<\/td>\n",
       "      <td>0<\/td>\n",
       "      <td>0<\/td>\n",
       "    <\/tr>\n",
       "    <tr>\n",
       "      <th>1<\/th>\n",
       "      <td>KOR<\/td>\n",
       "      <td>fencing<\/td>\n",
       "      <td>29<\/td>\n",
       "      <td>0<\/td>\n",
       "      <td>168<\/td>\n",
       "      <td>56<\/td>\n",
       "      <td>0<\/td>\n",
       "      <td>0<\/td>\n",
       "      <td>0<\/td>\n",
       "    <\/tr>\n",
       "    <tr>\n",
       "      <th>2<\/th>\n",
       "      <td>CAN<\/td>\n",
       "      <td>athletics<\/td>\n",
       "      <td>24<\/td>\n",
       "      <td>1<\/td>\n",
       "      <td>198<\/td>\n",
       "      <td>79<\/td>\n",
       "      <td>1<\/td>\n",
       "      <td>0<\/td>\n",
       "      <td>1<\/td>\n",
       "    <\/tr>\n",
       "    <tr>\n",
       "      <th>3<\/th>\n",
       "      <td>MDA<\/td>\n",
       "      <td>taekwondo<\/td>\n",
       "      <td>25<\/td>\n",
       "      <td>1<\/td>\n",
       "      <td>183<\/td>\n",
       "      <td>80<\/td>\n",
       "      <td>0<\/td>\n",
       "      <td>0<\/td>\n",
       "      <td>0<\/td>\n",
       "    <\/tr>\n",
       "    <tr>\n",
       "      <th>4<\/th>\n",
       "      <td>NZL<\/td>\n",
       "      <td>cycling<\/td>\n",
       "      <td>25<\/td>\n",
       "      <td>1<\/td>\n",
       "      <td>181<\/td>\n",
       "      <td>71<\/td>\n",
       "      <td>0<\/td>\n",
       "      <td>0<\/td>\n",
       "      <td>0<\/td>\n",
       "    <\/tr>\n",
       "    <tr>\n",
       "      <th>...<\/th>\n",
       "      <td>...<\/td>\n",
       "      <td>...<\/td>\n",
       "      <td>...<\/td>\n",
       "      <td>...<\/td>\n",
       "      <td>...<\/td>\n",
       "      <td>...<\/td>\n",
       "      <td>...<\/td>\n",
       "      <td>...<\/td>\n",
       "      <td>...<\/td>\n",
       "    <\/tr>\n",
       "    <tr>\n",
       "      <th>10853<\/th>\n",
       "      <td>CUB<\/td>\n",
       "      <td>athletics<\/td>\n",
       "      <td>20<\/td>\n",
       "      <td>0<\/td>\n",
       "      <td>164<\/td>\n",
       "      <td>58<\/td>\n",
       "      <td>0<\/td>\n",
       "      <td>0<\/td>\n",
       "      <td>0<\/td>\n",
       "    <\/tr>\n",
       "    <tr>\n",
       "      <th>10854<\/th>\n",
       "      <td>CZE<\/td>\n",
       "      <td>athletics<\/td>\n",
       "      <td>29<\/td>\n",
       "      <td>0<\/td>\n",
       "      <td>173<\/td>\n",
       "      <td>63<\/td>\n",
       "      <td>0<\/td>\n",
       "      <td>0<\/td>\n",
       "      <td>0<\/td>\n",
       "    <\/tr>\n",
       "    <tr>\n",
       "      <th>10855<\/th>\n",
       "      <td>CHN<\/td>\n",
       "      <td>wrestling<\/td>\n",
       "      <td>25<\/td>\n",
       "      <td>1<\/td>\n",
       "      <td>185<\/td>\n",
       "      <td>100<\/td>\n",
       "      <td>0<\/td>\n",
       "      <td>0<\/td>\n",
       "      <td>0<\/td>\n",
       "    <\/tr>\n",
       "    <tr>\n",
       "      <th>10856<\/th>\n",
       "      <td>VIE<\/td>\n",
       "      <td>weightlifting<\/td>\n",
       "      <td>27<\/td>\n",
       "      <td>1<\/td>\n",
       "      <td>160<\/td>\n",
       "      <td>56<\/td>\n",
       "      <td>0<\/td>\n",
       "      <td>0<\/td>\n",
       "      <td>0<\/td>\n",
       "    <\/tr>\n",
       "    <tr>\n",
       "      <th>10857<\/th>\n",
       "      <td>RSA<\/td>\n",
       "      <td>athletics<\/td>\n",
       "      <td>24<\/td>\n",
       "      <td>1<\/td>\n",
       "      <td>185<\/td>\n",
       "      <td>70<\/td>\n",
       "      <td>0<\/td>\n",
       "      <td>0<\/td>\n",
       "      <td>0<\/td>\n",
       "    <\/tr>\n",
       "  <\/tbody>\n",
       "<\/table>\n",
       "<p>10858 rows × 9 columns<\/p>\n",
       "<\/div>"
      ]
     },
     "metadata":{
      
     },
     "output_type":"display_data"
    }
   ],
   "metadata":{
    "datalore":{
     "node_id":"6nlY7w5bVnlZpLjTXDiqkw",
     "type":"CODE",
     "hide_input_from_viewers":true,
     "hide_output_from_viewers":true
    }
   }
  },
  {
   "cell_type":"markdown",
   "source":[
    "The research question we chose for this part:\n",
    "Does the average weight (X) of the athletes change between the athletes who won a medal (Y=1) and the ones who didn't (Y=0)?\n",
    "\n",
    "Notations:\n",
    "\n",
    "- Let $\\mu_x^1$ be the expectation of athletes' weight who didn't win any medal.\n",
    "\n",
    "- Let $\\mu_x^2$ be the expectation of athletes' weight who won a medal."
   ],
   "attachments":{
    
   },
   "metadata":{
    "datalore":{
     "node_id":"b3iAWHT4mhSatxyFEM6Ma6",
     "type":"MD",
     "hide_input_from_viewers":true,
     "hide_output_from_viewers":true
    }
   }
  },
  {
   "cell_type":"code",
   "source":[
    "# the relevent data for our research question\n",
    "not_won_data, won_data = data[data[\"won_any\"] == 0], data[data[\"won_any\"] == 1]"
   ],
   "execution_count":20,
   "outputs":[
    
   ],
   "metadata":{
    "datalore":{
     "node_id":"KYjADPbjH7YN8CVQghQJDF",
     "type":"CODE",
     "hide_input_from_viewers":true,
     "hide_output_from_viewers":true
    }
   }
  },
  {
   "cell_type":"markdown",
   "source":[
    "# **PART 1 - Estimation**"
   ],
   "attachments":{
    
   },
   "metadata":{
    "datalore":{
     "node_id":"lfIU7GrbnDoLQvbdjBua3a",
     "type":"MD",
     "hide_input_from_viewers":true,
     "hide_output_from_viewers":true
    }
   }
  },
  {
   "cell_type":"markdown",
   "source":[
    "We will find the average of each category."
   ],
   "attachments":{
    
   },
   "metadata":{
    "datalore":{
     "node_id":"0bVVU3kYowxYwE8vMdJD7r",
     "type":"MD",
     "hide_input_from_viewers":true,
     "hide_output_from_viewers":true
    }
   }
  },
  {
   "cell_type":"code",
   "source":[
    "display(data[[\"won_any\", \"weight\"]].groupby(\"won_any\").mean()) "
   ],
   "execution_count":21,
   "outputs":[
    {
     "data":{
      "text\/html":[
       "<div>\n",
       "<style scoped>\n",
       "    .dataframe tbody tr th:only-of-type {\n",
       "        vertical-align: middle;\n",
       "    }\n",
       "\n",
       "    .dataframe tbody tr th {\n",
       "        vertical-align: top;\n",
       "    }\n",
       "\n",
       "    .dataframe thead th {\n",
       "        text-align: right;\n",
       "    }\n",
       "<\/style>\n",
       "<table border=\"1\" class=\"dataframe\">\n",
       "  <thead>\n",
       "    <tr style=\"text-align: right;\">\n",
       "      <th><\/th>\n",
       "      <th>weight<\/th>\n",
       "    <\/tr>\n",
       "    <tr>\n",
       "      <th>won_any<\/th>\n",
       "      <th><\/th>\n",
       "    <\/tr>\n",
       "  <\/thead>\n",
       "  <tbody>\n",
       "    <tr>\n",
       "      <th>0<\/th>\n",
       "      <td>71.574300<\/td>\n",
       "    <\/tr>\n",
       "    <tr>\n",
       "      <th>1<\/th>\n",
       "      <td>74.650314<\/td>\n",
       "    <\/tr>\n",
       "  <\/tbody>\n",
       "<\/table>\n",
       "<\/div>"
      ]
     },
     "metadata":{
      
     },
     "output_type":"display_data"
    }
   ],
   "metadata":{
    "datalore":{
     "node_id":"uWWh83ZPBfOj9M2v4y2q9H",
     "type":"CODE",
     "hide_input_from_viewers":true,
     "hide_output_from_viewers":true
    }
   }
  },
  {
   "cell_type":"markdown",
   "source":[
    "As we can see, the average weight of athletes who won a medal is higher than the average weight of athletes who didn't (by around 3kg)."
   ],
   "attachments":{
    
   },
   "metadata":{
    "datalore":{
     "node_id":"FNKBdwZBq3M5kh3xzMPEUC",
     "type":"MD",
     "hide_input_from_viewers":true,
     "hide_output_from_viewers":true
    }
   }
  },
  {
   "cell_type":"markdown",
   "source":[
    "Now, we'll find the approximated confidence interval for $\\mu_x^1$ and $\\mu_x^2$.\n",
    "\n",
    "We will set $\\alpha = 0.05$ to get the approximated confidence level of 0.95.\n",
    "\n",
    "According to the \"Central Limit Theorem\" the sample mean is asymptotically Normal with $(\\theta,\\space \\sigma^2\/n)$.\n",
    "We saw in the lectures that if we replace the variance with an estimator to the variance then the sample mean will still be asymptotically Normal with $(\\theta,\\space \\hat\\sigma^2\/n)$.\n",
    "\n",
    "In the question, we use $\\hat\\sigma^2 = S^2$.\n",
    "\n",
    "Therefore, we can assume that the sample mean is asymptotically Normal with $(\\theta,\\space \\hat\\sigma^2\/n)$."
   ],
   "attachments":{
    
   },
   "metadata":{
    "datalore":{
     "node_id":"Ii6PzE2fiJXuFtjGMtH4d5",
     "type":"MD",
     "hide_input_from_viewers":true,
     "hide_output_from_viewers":true
    }
   }
  },
  {
   "cell_type":"code",
   "source":[
    "def get_conf_interval(data, col_to_avg=\"weight\"):\n",
    "    mean, s_squared, n = data[col_to_avg].mean(), data[col_to_avg].var(), len(data)\n",
    "\n",
    "    se = (s_squared \/ n)**0.5\n",
    "\n",
    "    # the 0.975 quantile of standard normal distribution\n",
    "    nq = norm.ppf(0.975)\n",
    "\n",
    "\n",
    "    confidence_interval = [(mean - (nq * se)).round(4), (mean + (nq * se)).round(4)]\n",
    "    return confidence_interval\n",
    "\n",
    "\n",
    "conf_interval_not_won = get_conf_interval(not_won_data)\n",
    "print(\"Confidence interval for mu_x0 at approximated confidence level of 0.95:\")\n",
    "print(conf_interval_not_won)\n",
    "\n",
    "print()\n",
    "\n",
    "conf_interval_won = get_conf_interval(won_data)\n",
    "print(\"Confidence interval for mu_x1 at approximated confidence level of 0.95:\")\n",
    "print(conf_interval_won)\n"
   ],
   "execution_count":22,
   "outputs":[
    {
     "name":"stdout",
     "text":[
      "Confidence interval for mu_x0 at approximated confidence level of 0.95:\n",
      "[71.2443, 71.9043]\n",
      "\n",
      "Confidence interval for mu_x1 at approximated confidence level of 0.95:\n",
      "[73.8813, 75.4193]\n"
     ],
     "output_type":"stream"
    }
   ],
   "metadata":{
    "datalore":{
     "node_id":"DOjDRcL41GPX6fCQUEjtkx",
     "type":"CODE",
     "hide_input_from_viewers":true,
     "hide_output_from_viewers":true
    }
   }
  },
  {
   "cell_type":"markdown",
   "source":[
    "As we can see, the confidence intervals don't overlap.\n",
    "\n",
    "Therefore, we can conclude that if the confidence intervals indeed trap the true parameters, then they can't be equal to each other. "
   ],
   "attachments":{
    
   },
   "metadata":{
    "datalore":{
     "node_id":"NIdOboof7JlTmHcVBSptWJ",
     "type":"MD",
     "hide_input_from_viewers":true,
     "hide_output_from_viewers":true
    }
   }
  },
  {
   "cell_type":"markdown",
   "source":[
    "# **PART 2 - Hypothesis Testing**"
   ],
   "attachments":{
    
   },
   "metadata":{
    "datalore":{
     "node_id":"PuB4lLa5cVST4cn72GbGRs",
     "type":"MD",
     "hide_input_from_viewers":true,
     "hide_output_from_viewers":true
    }
   }
  },
  {
   "cell_type":"markdown",
   "source":[
    "Let us be reminded of our notation:\n",
    "\n",
    "- Let $\\mu_x^1$ be the expectation of athletes' weight who didn't win any medal.\n",
    "\n",
    "- Let $\\mu_x^2$ be the expectation of athletes' weight who won a medal.\n",
    "  \n",
    "\n",
    "The hypotheses:\n",
    "\n",
    "$H_0: \\mu_x^1 = \\mu_x^2$\n",
    "\n",
    "$H_1: \\mu_x^1 \\ne \\mu_x^2$\n"
   ],
   "attachments":{
    
   },
   "metadata":{
    "datalore":{
     "node_id":"XgllsWxRSRp2yuB7JFXQXE",
     "type":"MD",
     "hide_input_from_viewers":true,
     "hide_output_from_viewers":true
    }
   }
  },
  {
   "cell_type":"markdown",
   "source":[
    "# Conditions of T Test\n",
    "In order to use T test, we need the following conditions:\n",
    "\n",
    "- The samples of each group are distributed Normally.\n",
    "- The variances of the groups are equal.\n",
    "- The two samples are independent, and the records in each sample are independent as well."
   ],
   "attachments":{
    
   },
   "metadata":{
    "datalore":{
     "node_id":"NrSfaWPdP7wtpeZCMq6Era",
     "type":"MD",
     "hide_input_from_viewers":true,
     "hide_output_from_viewers":true
    }
   }
  },
  {
   "cell_type":"markdown",
   "source":[
    "## Testing Normality\n",
    "\n",
    "First, we'll check if the samples of each group are distributed Normally."
   ],
   "attachments":{
    
   },
   "metadata":{
    "datalore":{
     "node_id":"wbWptCC7OOtUtHwCV1Nxsw",
     "type":"MD",
     "hide_input_from_viewers":true,
     "hide_output_from_viewers":true
    }
   }
  },
  {
   "cell_type":"code",
   "source":[
    "# set style for all the graphs we will show.\n",
    "plt.style.use('ggplot')\n",
    "\n",
    "def get_hist(data, col_hist, won=False, bins=10):\n",
    "    values = data[col_hist].tolist()\n",
    "\n",
    "    won_title = \"didnt win\"\n",
    "\n",
    "    if won == 0:\n",
    "        won_title = \"won\"\n",
    "\n",
    "    plt.title(f\"Distribution of {col_hist.capitalize()} of Athelets who {won_title} a Medal\")\n",
    "    plt.xlabel(f\"{col_hist.capitalize()} [KG]\")\n",
    "    plt.ylabel(\"Athletes Count\")\n",
    "    sns.histplot(values, bins=bins, kde=True, edgecolor='black', linewidth=1, color=\"cornflowerblue\")\n",
    "    plt.show()\n",
    "    print()\n",
    "\n",
    "\n",
    "get_hist(not_won_data, col_hist=\"weight\")\n",
    "get_hist(won_data, col_hist=\"weight\", won=True)"
   ],
   "execution_count":33,
   "outputs":[
    {
     "name":"stdout",
     "text":[
      "\n",
      "\n"
     ],
     "output_type":"stream"
    },
    {
     "data":{
      "image\/png":"[encoded data removed]"
     },
     "metadata":{
      "image\/png":{
       
      }
     },
     "output_type":"display_data"
    },
    {
     "data":{
      "image\/png":"[encoded data removed]"
     },
     "metadata":{
      "image\/png":{
       
      }
     },
     "output_type":"display_data"
    }
   ],
   "metadata":{
    "datalore":{
     "node_id":"3fsZ1KL49zqW95LSUTHnrO",
     "type":"CODE",
     "hide_input_from_viewers":true,
     "hide_output_from_viewers":true
    }
   }
  },
  {
   "cell_type":"markdown",
   "source":[
    "As we can see below, the samples of each group seem (quality wise) to be distributed Normally, as needed for the T test."
   ],
   "attachments":{
    
   },
   "metadata":{
    "datalore":{
     "node_id":"5OUXbbJ1XAzkSnwtEIGQ9e",
     "type":"MD",
     "hide_input_from_viewers":true,
     "hide_output_from_viewers":true
    }
   }
  },
  {
   "cell_type":"markdown",
   "source":[
    "## Applying F Test for Variance Equality\n",
    "\n",
    "Second, we will check if the variances of the groups are equal.\n",
    "\n",
    "- Let $V_x^1$ be the variance of athletes' weight who didn't win any medal.\n",
    "\n",
    "- Let $V_x^2$ be the variance of athletes' weight who won a medal.\n",
    "\n",
    "We will use F test with a level of $\\alpha = 0.05$ on the following hypotheses:\n",
    "\n",
    "$H_0: V_x^1 = V_x^2$\n",
    "\n",
    "$H_1: V_x^1 \\ne V_x^2$"
   ],
   "attachments":{
    
   },
   "metadata":{
    "datalore":{
     "node_id":"BXiZbbsY74x5imlEvytKq8",
     "type":"MD",
     "hide_input_from_viewers":true,
     "hide_output_from_viewers":true
    }
   }
  },
  {
   "cell_type":"code",
   "source":[
    "n1 = len(not_won_data)\n",
    "not_won_s_squared = not_won_data[\"weight\"].var()\n",
    "\n",
    "n2 = len(won_data)\n",
    "won_s_squared = won_data[\"weight\"].var()\n",
    "\n",
    "print(f\"The parameters of the distribution are: ({n1-1}, {n2-1}) \\n\")\n",
    "\n",
    "F = not_won_s_squared \/ won_s_squared\n",
    "\n",
    "# the 0.95 quantile of the F distribution with (9104, 1752) parameters\n",
    "fq = f.ppf(0.95, 9104, 1752)\n",
    "\n",
    "# the reject region\n",
    "reject_h0 = F > fq\n",
    "\n",
    "if reject_h0:  \n",
    "    print(f\"The result of our test is --- Reject H_0\")\n",
    "else:\n",
    "    print(f\"The result of the test is --- Retain H_0\")\n",
    "\n",
    "\n"
   ],
   "execution_count":24,
   "outputs":[
    {
     "name":"stdout",
     "text":[
      "The parameters of the distribution are: (9104, 1752) \n",
      "\n",
      "The result of the test is --- Retain H_0\n"
     ],
     "output_type":"stream"
    }
   ],
   "metadata":{
    "datalore":{
     "node_id":"EY0Ztp9ZEktIXp6SDDKFnE",
     "type":"CODE",
     "hide_input_from_viewers":true,
     "hide_output_from_viewers":true
    }
   }
  },
  {
   "cell_type":"markdown",
   "source":[
    "As we can see, we retain $H_0$, meaning we can conclude that the variances are equal at level of $\\alpha = 0.05$."
   ],
   "attachments":{
    
   },
   "metadata":{
    "datalore":{
     "node_id":"WcDe2YEPWNmrWkoD3Tjqnn",
     "type":"MD",
     "hide_input_from_viewers":true,
     "hide_output_from_viewers":true
    }
   }
  },
  {
   "cell_type":"markdown",
   "source":[
    "Thus, we showed that:\n",
    "- the samples are normally distributed.\n",
    "- the variances are equal.\n",
    "- We can assume the independence condition (by the way the data was collected).\n",
    "\n",
    "And so, we showed all the necessary conditions for using T test. Therefore, we can use it."
   ],
   "attachments":{
    
   },
   "metadata":{
    "datalore":{
     "node_id":"dt1o4YVZCcjtSEx22cGIJe",
     "type":"MD",
     "hide_input_from_viewers":true,
     "hide_output_from_viewers":true
    }
   }
  },
  {
   "cell_type":"markdown",
   "source":[
    "# Applying T Test\n",
    "\n",
    "So, we'll apply T test for difference in means (when the samples are independent and the variances are equal but unknown) with level of $\\alpha$ = 0.05, to check our hypotheses:\n",
    "\n",
    "$H_0: \\mu_x^1 - \\mu_x^2 = 0$\n",
    "\n",
    "$H_1: \\mu_x^1 - \\mu_x^2 \\ne 0$"
   ],
   "attachments":{
    
   },
   "metadata":{
    "datalore":{
     "node_id":"eaXIBS6Ab6Unlmo2xwmw70",
     "type":"MD",
     "hide_input_from_viewers":true,
     "hide_output_from_viewers":true
    }
   }
  },
  {
   "cell_type":"code",
   "source":[
    "n1 = len(not_won_data)\n",
    "mean1 = not_won_data[\"weight\"].mean()\n",
    "s1_squared = not_won_data[\"weight\"].var()\n",
    "\n",
    "n2 = len(won_data)\n",
    "mean2 = won_data[\"weight\"].mean()\n",
    "s2_squared = won_data[\"weight\"].var()\n",
    "\n",
    "print(f\"The number of DF of the distribution is: {n1 + n2 - 2} DF\\n\")\n",
    "\n",
    "s_p = (((n1 - 1)*s1_squared + (n2 - 1)*s2_squared) \/ (n1 + n2 - 2)) ** 0.5\n",
    "\n",
    "T = (mean1 - mean2) \/ (s_p * (((1 \/ n1) + (1 \/ n2)) ** 0.5))\n",
    "\n",
    "print(f\"The T test statistic for our sample: {T:.4f} \\n\")\n",
    "\n",
    "# the 0.975 quantile of the t distribution with 10856 DF\n",
    "tq = t.ppf(0.975, 10856)\n",
    "\n",
    "\n",
    "# the reject region\n",
    "reject_h0 = abs(T) > tq\n",
    "\n",
    "if reject_h0:  \n",
    "    print(f\"The result of our test is --- Reject H_0\")\n",
    "else:\n",
    "    print(f\"The result of the test is --- Retain H_0\")"
   ],
   "execution_count":25,
   "outputs":[
    {
     "name":"stdout",
     "text":[
      "The number of DF of the distribution is: 10856 DF\n",
      "\n",
      "The T test statistic for our sample: -7.3145 \n",
      "\n",
      "The result of our test is --- Reject H_0\n"
     ],
     "output_type":"stream"
    }
   ],
   "metadata":{
    "datalore":{
     "node_id":"AkQh8agINStr12T08HEN7L",
     "type":"CODE",
     "hide_input_from_viewers":true,
     "hide_output_from_viewers":true
    }
   }
  },
  {
   "cell_type":"markdown",
   "source":[
    "The result of our test statistic is $t = -7.3145$.\n",
    "\n",
    "p-value = $2F(-|t|)) = 2F(-|-7.3145|)) = 2.765*10^{-13}$\n",
    "\n",
    "($F$ is the cumulative distribution function of t distribution with 10856 DF)"
   ],
   "attachments":{
    
   },
   "metadata":{
    "datalore":{
     "node_id":"LH6KNsrWPvpRjOSQWjsAbL",
     "type":"MD",
     "hide_input_from_viewers":true,
     "hide_output_from_viewers":true
    }
   }
  },
  {
   "cell_type":"markdown",
   "source":[
    "# Applying Wald Test\n",
    "Now, we'll apply the Wald test for the mean difference with level of $\\alpha = 0.05$ for checking our hypotheses:\n",
    "\n",
    "$H_0: \\mu_x^1 - \\mu_x^2 = 0$\n",
    "\n",
    "$H_1: \\mu_x^1 - \\mu_x^2 \\ne 0$"
   ],
   "attachments":{
    
   },
   "metadata":{
    "datalore":{
     "node_id":"clgb5clJVXxfXzeOL2Icoz",
     "type":"MD",
     "hide_input_from_viewers":true,
     "hide_output_from_viewers":true
    }
   }
  },
  {
   "cell_type":"code",
   "source":[
    "def wald_test(not_won_data, won_data):\n",
    "\n",
    "    res = []\n",
    "\n",
    "    n1 = len(not_won_data)\n",
    "    mean1 = not_won_data[\"weight\"].mean()\n",
    "    s1_squared = not_won_data[\"weight\"].var()\n",
    "\n",
    "    n2 = len(won_data)\n",
    "    mean2 = won_data[\"weight\"].mean()\n",
    "    s2_squared = won_data[\"weight\"].var()\n",
    "\n",
    "    se_hat = ((s1_squared \/ n1) + (s2_squared \/ n2)) ** 0.5\n",
    "\n",
    "    W = (mean1 - mean2)  \/ se_hat\n",
    "\n",
    "    res.append(f\"The Wald test statistic for our sample: {W:.4f} \\n\")\n",
    "\n",
    "    # the 0.975 quantile of standart normal distribution\n",
    "    nq = norm.ppf(0.975)\n",
    "\n",
    "    # the reject region\n",
    "    reject_h0 = abs(W) > nq\n",
    "    \n",
    "    if reject_h0:  \n",
    "        res.append(f\"The result of our test is --- Reject H_0\")\n",
    "    else:\n",
    "        res.append(f\"The result of the test is --- Retain H_0\")\n",
    "\n",
    "    pv = 2*norm.cdf(-abs(W)).round(17)\n",
    "    res.append(pv)\n",
    "\n",
    "\n",
    "    return res\n",
    "\n",
    "\n",
    "res = wald_test(not_won_data, won_data)\n",
    "\n",
    "for i in range(2):\n",
    "    print(res[i])"
   ],
   "execution_count":26,
   "outputs":[
    {
     "name":"stdout",
     "text":[
      "The Wald test statistic for our sample: -7.2047 \n",
      "\n",
      "The result of our test is --- Reject H_0\n"
     ],
     "output_type":"stream"
    }
   ],
   "metadata":{
    "datalore":{
     "node_id":"SlC3YrrLzvWQjM0fnncuCv",
     "type":"CODE",
     "hide_input_from_viewers":true,
     "hide_output_from_viewers":true
    }
   }
  },
  {
   "cell_type":"markdown",
   "source":[
    "The result of our test statistic is $w = -7.2047$.\n",
    "\n",
    "p_value = $2\\Phi(-|w|)) = 2\\Phi(-|-7.2047|)) = 5.8174*10^{-13}$\n",
    "\n",
    "($\\Phi$ is the cumulative distribution function of the standart normal distribution)."
   ],
   "attachments":{
    
   },
   "metadata":{
    "datalore":{
     "node_id":"PvNIbNbPUJeH837k8WBpxj",
     "type":"MD",
     "hide_input_from_viewers":true,
     "hide_output_from_viewers":true
    }
   }
  },
  {
   "cell_type":"markdown",
   "source":[
    "As we can see, the results for both tests are the same (to reject $H_0$).\n",
    "\n",
    "In addition, we can see that the p_value for the T test ($2.765*10^{-13}$) is a little lower than the p_value for Wald test ($5.804*10^{-13}$)."
   ],
   "attachments":{
    
   },
   "metadata":{
    "datalore":{
     "node_id":"yYI8BGYMnteYyJ1EsWzGy5",
     "type":"MD",
     "hide_input_from_viewers":true,
     "hide_output_from_viewers":true
    }
   }
  },
  {
   "cell_type":"markdown",
   "source":[
    "# Applying Likelihood-Ratio Test\n",
    "Now, we'll apply the \"Likelihood-Ratio Test\" to check our hypotheses:\n",
    "\n",
    "$H_0: \\mu_x^1 - \\mu_x^2 = 0$\n",
    "\n",
    "$H_1: \\mu_x^1 - \\mu_x^2 \\ne 0$\n",
    "\n",
    "\n",
    "The MLE of $\\Theta$ parameter space is $(\\bar{X_1},\\bar{X_2})$ where:\n",
    "\n",
    "- $\\bar{X_1}$ is the average athletes' weight who didn't win a medal.\n",
    "- $\\bar{X_2}$ is the average athletes' weight who won a medal.\n",
    "\n",
    "\n",
    "The MLE of $\\Theta_0$ parameter space is $\\bar{X}$ where:\n",
    "\n",
    "$\\bar{X}$ is the average athletes' weight (across all athletes).\n",
    "\n",
    "*We have seen these results in our HW."
   ],
   "attachments":{
    
   },
   "metadata":{
    "datalore":{
     "node_id":"KSJPDg2EQzGSRSgyFmP3YQ",
     "type":"MD",
     "hide_input_from_viewers":true,
     "hide_output_from_viewers":true
    }
   }
  },
  {
   "cell_type":"code",
   "source":[
    "# convert dfs to lists\n",
    "not_won_weight_lst = not_won_data[\"weight\"].tolist()\n",
    "won_weight_lst = won_data[\"weight\"].tolist()\n",
    "weight_lst = data[\"weight\"].tolist()\n",
    "\n",
    "# find L1\n",
    "n1 = len(not_won_data)\n",
    "mean1 = not_won_data[\"weight\"].mean()\n",
    "s1_squared = not_won_data[\"weight\"].var()\n",
    "\n",
    "n2 = len(won_data)\n",
    "mean2 = won_data[\"weight\"].mean()\n",
    "s2_squared = won_data[\"weight\"].var()\n",
    "\n",
    "# total records\n",
    "n = n1+n2\n",
    "\n",
    "s_p_squared = (((n1 - 1)*s1_squared + (n2 - 1)*s2_squared) \/ (n1 + n2 - 2))\n",
    "coeffi = -(n \/ 2) * math.log(2 * PI * s_p_squared)\n",
    "\n",
    "summ1 = 0\n",
    "for xi in not_won_weight_lst:\n",
    "    summ1 += -(1 \/ (2 * s_p_squared)) * ((xi - mean1) ** 2)\n",
    "\n",
    "summ2 = 0\n",
    "for xj in won_weight_lst:\n",
    "    summ2 += -(1 \/ (2 * s_p_squared)) * ((xj - mean2) ** 2)\n",
    "\n",
    "log_L1 = coeffi + summ1 + summ2\n",
    "\n",
    "# find L2\n",
    "mean = data[\"weight\"].mean()\n",
    "\n",
    "s_squared = data[\"weight\"].var()\n",
    "\n",
    "coeffi = -(n \/ 2) * math.log(2 * PI * s_squared)\n",
    "\n",
    "\n",
    "summ = 0\n",
    "for xi in weight_lst:\n",
    "    summ += -(1 \/ (2 * s_squared)) * ((xi - mean) ** 2)\n",
    "\n",
    "log_L2 = coeffi + summ\n",
    "\n",
    "LAMBDA = 2 * (log_L1 - log_L2)\n",
    "\n",
    "print(f'The \"Likelihood-Ratio Test\" test statistic for our sample: {LAMBDA:.4f} \\n')\n",
    "\n",
    "# the 0.95 quantile of the chi-squared distribution with (2-1=1) df\n",
    "# (the dimension of theta is 2 and the dimension of theta_0 is 1) \n",
    "chisq = chi2.ppf(0.95, 1)\n",
    "\n",
    "# the reject region\n",
    "reject_h0 = LAMBDA > chisq\n",
    "\n",
    "if reject_h0:  \n",
    "    print(f\"The result of our test is --- Reject H_0\")\n",
    "else:\n",
    "    print(f\"The result of the test is --- Retain H_0\")"
   ],
   "execution_count":27,
   "outputs":[
    {
     "name":"stdout",
     "text":[
      "The \"Likelihood-Ratio Test\" test statistic for our sample: 53.3808 \n",
      "\n",
      "The result of our test is --- Reject H_0\n"
     ],
     "output_type":"stream"
    }
   ],
   "metadata":{
    "datalore":{
     "node_id":"WLDfQFvr4bhXMmnlotlmiZ",
     "type":"CODE",
     "hide_input_from_viewers":true,
     "hide_output_from_viewers":true
    }
   }
  },
  {
   "cell_type":"markdown",
   "source":[
    "As we can see, we reject $H_0$, meaning we can conclude that the expections $\\mu_x^1,\\space \\mu_x^2$ are not equal at level of $\\alpha = 0.05$."
   ],
   "attachments":{
    
   },
   "metadata":{
    "datalore":{
     "node_id":"PCKCUfR4sMjClW2XPBlfUi",
     "type":"MD",
     "hide_input_from_viewers":true,
     "hide_output_from_viewers":true
    }
   }
  },
  {
   "cell_type":"markdown",
   "source":[
    "# PART 3 - Different Sample Sizes"
   ],
   "attachments":{
    
   },
   "metadata":{
    "datalore":{
     "node_id":"kCvQvm1GD33WEnu0nsv2jL",
     "type":"MD",
     "hide_input_from_viewers":true,
     "hide_output_from_viewers":true
    }
   }
  },
  {
   "cell_type":"code",
   "source":[
    "def check_diff_sample_sizes(data, sample_sizes, seed):\n",
    "\n",
    "    not_won_samples, won_samples = [], []\n",
    "    for n in sample_sizes:\n",
    "        temp_df = data.sample(n=n, random_state=seed)\n",
    "\n",
    "        not_won_samples.append(temp_df[temp_df[\"won_any\"] == 0])\n",
    "        won_samples.append(temp_df[temp_df[\"won_any\"] == 1])\n",
    "\n",
    "\n",
    "    no_won_conf_intervals, won_conf_intervals, wald_test_results = [], [], []\n",
    "    for not_won_sample, won_sample in zip(not_won_samples, won_samples):\n",
    "        \n",
    "        # get confidence intervals\n",
    "        no_won_conf_intervals.append(get_conf_interval(not_won_sample))\n",
    "        won_conf_intervals.append(get_conf_interval(won_sample))\n",
    "\n",
    "        # get Wald test results\n",
    "        wald_test_results.append(wald_test(not_won_sample, won_sample))\n",
    "\n",
    "    return no_won_conf_intervals, won_conf_intervals, wald_test_results\n",
    "\n",
    "sample_sizes = [30, 50, 100, 500]\n",
    "# we'll define a seed for consistency of the results\n",
    "(no_won_conf_intervals, won_conf_intervals, wald_test_results) = check_diff_sample_sizes(data, sample_sizes, seed=1)\n",
    "\n",
    "# show confidence interval results\n",
    "for no_won_conf_interval, won_conf_interval, wald_test_res, n in \\\n",
    "    zip(no_won_conf_intervals, won_conf_intervals, wald_test_results, sample_sizes):\n",
    "\n",
    "    print(f\"--- SAMPLE SIZE: {n} ---\")\n",
    "\n",
    "    print(f\"Confidence interval for mu_x0 at approximated confidence level of 0.95:\")\n",
    "    print(no_won_conf_interval)\n",
    "    print()\n",
    "\n",
    "    print(f\"Confidence interval for mu_x1 at approximated confidence level of 0.95:\")\n",
    "    print(won_conf_interval)\n",
    "    print()\n",
    "\n",
    "    print(f\"Wald test result with level 0.05:\")\n",
    "    print(wald_test_res[1])\n",
    "    print(f\"p_value: {wald_test_res[2].round(4)}\")\n",
    "    print()\n",
    "    print()"
   ],
   "execution_count":28,
   "outputs":[
    {
     "name":"stdout",
     "text":[
      "--- SAMPLE SIZE: 30 ---\n",
      "Confidence interval for mu_x0 at approximated confidence level of 0.95:\n",
      "[63.3752, 74.1248]\n",
      "\n",
      "Confidence interval for mu_x1 at approximated confidence level of 0.95:\n",
      "[64.3603, 99.6397]\n",
      "\n",
      "Wald test result with level 0.05:\n",
      "The result of the test is --- Retain H_0\n",
      "p_value: 0.159\n",
      "\n",
      "\n",
      "--- SAMPLE SIZE: 50 ---\n",
      "Confidence interval for mu_x0 at approximated confidence level of 0.95:\n",
      "[65.6165, 74.6057]\n",
      "\n",
      "Confidence interval for mu_x1 at approximated confidence level of 0.95:\n",
      "[62.7978, 86.4022]\n",
      "\n",
      "Wald test result with level 0.05:\n",
      "The result of the test is --- Retain H_0\n",
      "p_value: 0.486\n",
      "\n",
      "\n",
      "--- SAMPLE SIZE: 100 ---\n",
      "Confidence interval for mu_x0 at approximated confidence level of 0.95:\n",
      "[67.8846, 74.5805]\n",
      "\n",
      "Confidence interval for mu_x1 at approximated confidence level of 0.95:\n",
      "[63.6064, 80.5364]\n",
      "\n",
      "Wald test result with level 0.05:\n",
      "The result of the test is --- Retain H_0\n",
      "p_value: 0.8567\n",
      "\n",
      "\n",
      "--- SAMPLE SIZE: 500 ---\n",
      "Confidence interval for mu_x0 at approximated confidence level of 0.95:\n",
      "[70.8879, 74.1927]\n",
      "\n",
      "Confidence interval for mu_x1 at approximated confidence level of 0.95:\n",
      "[68.3948, 75.4001]\n",
      "\n",
      "Wald test result with level 0.05:\n",
      "The result of the test is --- Retain H_0\n",
      "p_value: 0.7449\n",
      "\n",
      "\n"
     ],
     "output_type":"stream"
    }
   ],
   "metadata":{
    "datalore":{
     "node_id":"t5qoczWcEMgxF2rybxhrSd",
     "type":"CODE",
     "hide_input_from_viewers":true,
     "hide_output_from_viewers":true
    }
   }
  },
  {
   "cell_type":"markdown",
   "source":[
    "#### Confidence intervals for $\\mu_x^1:$\n",
    "\n",
    "- First, we notice that as the sample size gets bigger and bigger, the confidence interval's length gets shorter and shorter.\n",
    "  \n",
    "- In question 1, we got the following confidence interval: $[71.2443, 71.9043]$, with length of around 0.66. However, the shortest confidence interval we got in this question is: $[70.8878, 74.1927]$, with length of around 3.7.\n",
    "\n",
    "#### Confidence intervals for $\\mu_x^2:$\n",
    "\n",
    "- Again, we notice that as the sample size gets bigger and bigger, the confidence interval's length gets shorter and shorter.\n",
    "  (in this case, we see much bigger jumps between the length of the intervals than the ones we saw for $\\mu_x^1$).\n",
    "  \n",
    "- In question 1, we got the following confidence interval: $[73.8813, 75.4193]$, with length of around 1.6. However, the shortest confidence interval we got in this question is: $[68.3948, 75.4001]$, with length of around 7.\n",
    "\n",
    "\n",
    "#### Conclusions for both $\\mu_x^1$ and $\\mu_x^2:$\n",
    "- Note that the sample we used to find the confidence intervals in question 1 was derived from a sample of size 10,858, whereas the sample we used to find the confidence intervals mentioned above (from this question) was derived from a sample of size 500 (a much smaller size).\n",
    "\n",
    "- Therefore, we can conclude that the size of the original sample has a huge impact on the size of the confidence intervals (the bigger the sample size, the shorter the interval).\n",
    "\n",
    "\n",
    "#### Wald test results:\n",
    "As we can see, in all of the samples (for every sample size) we got the different result as in question 2.d: retain the null hypothesis.\n",
    "\n",
    "Regarding the p_values, the p_value we got in question 2.d is much smaller than the p_values we got in this question.\n",
    "\n",
    "Unlike with the confidence intervals, we can't see any connection between the sample size and the p_value.\n",
    "\n",
    "We can assume it happened for the following reasons:\n",
    "- we chose the samples randomly.\n",
    "- the biggest sample size we chose is n=500 while the entire data has over 10,000 records.\n",
    "- the percentage of the first group (athletes who didn't win a medal) out of the entire data is much greater than that of the second group (athletes who won a medal).\n",
    "  \n",
    "Therefore, it is very likely that our samples hardly include any samples from the second group, which might affect the p_value in the way we mentioned above.\n"
   ],
   "attachments":{
    
   },
   "metadata":{
    "datalore":{
     "node_id":"zc8T1fqDbB0tmU4wUwfKIO",
     "type":"MD",
     "hide_input_from_viewers":true,
     "hide_output_from_viewers":true
    }
   }
  },
  {
   "cell_type":"markdown",
   "source":[
    "### Now, we'll repeat the steps above 100 times and then analyze the results.\n",
    "\n",
    "Our categories are very imbalanced - around 9,000 in one category, and around 1,700 in the other (see below).\n",
    "\n",
    "In this case, when we generate a small random sample (size of 30, 50), we often don't sample any record from the smaller category (let alone when we generate 100 random samples).\n",
    "\n",
    "Therefore, we can't calculate the mean and $S^2$ which causes problems when finding the confidence interval and preforming the Wald test.\n",
    "\n",
    "We consulted with a teacher on the forums regarding this problem, and got permission to modify and increase the sample sizes accordingly (from [30, 50, 100, 500] to [75, 125, 250, 500])."
   ],
   "attachments":{
    
   },
   "metadata":{
    "datalore":{
     "node_id":"arvT3fo9LQValcG3rU6lo3",
     "type":"MD",
     "hide_input_from_viewers":true,
     "hide_output_from_viewers":true
    }
   }
  },
  {
   "cell_type":"code",
   "source":[
    "n1, n2 = len(not_won_data), len(won_data)\n",
    "\n",
    "print(f\"Number of Athlets who didn't win a medal: {n1}\")\n",
    "print(f\"Number of Athlets who won a medal: {n2}\")"
   ],
   "execution_count":29,
   "outputs":[
    {
     "name":"stdout",
     "text":[
      "Number of Athlets who didn't win a medal: 9105\n",
      "Number of Athlets who won a medal: 1753\n"
     ],
     "output_type":"stream"
    }
   ],
   "metadata":{
    "datalore":{
     "node_id":"O9iOh8Xf9WMyE5MHIAXCax",
     "type":"CODE",
     "hide_input_from_viewers":true,
     "hide_output_from_viewers":true
    }
   }
  },
  {
   "cell_type":"code",
   "source":[
    "m = 100\n",
    "sample_sizes = [75, 125, 250, 500]\n",
    "\n",
    "# the means of each group we found in question 1\n",
    "mean_1, mean_2 = 71.5743, 74.6503\n",
    "\n",
    "no_won_conf_interval_len_sum, won_conf_interval_len_sum, p_value_sum = [0, 0, 0, 0], [0, 0, 0, 0], [0, 0, 0, 0]\n",
    "no_won_in_conf_interval, won_in_conf_interval = [0, 0, 0, 0], [0, 0, 0, 0]\n",
    "\n",
    "for i in range(m):\n",
    "    # we'll define a seed in every iteration for consistency of the results\n",
    "    (no_won_conf_intervals, won_conf_intervals, wald_test_results) = check_diff_sample_sizes(data, sample_sizes, seed=i)\n",
    "    \n",
    "    for j, (l,u) in enumerate(no_won_conf_intervals):\n",
    "        # get confidence interval length\n",
    "        no_won_conf_interval_len_sum[j] += u-l\n",
    "\n",
    "        # check if the confidence interval trapped the average (from question 1)\n",
    "        if l <= mean_1 <= u:\n",
    "            no_won_in_conf_interval[j] += 1\n",
    "\n",
    "    for j, (l,u) in enumerate(won_conf_intervals):\n",
    "        # get confidence interval length\n",
    "        won_conf_interval_len_sum[j] += u-l\n",
    "        \n",
    "        # check if the confidence interval trapped the average (from question 1)\n",
    "        if l <= mean_2 <= u:\n",
    "            won_in_conf_interval[j] += 1\n",
    "\n",
    "    for j, wald_test_res in enumerate(wald_test_results):\n",
    "        # get wald test result\n",
    "        p_value_sum[j] += wald_test_res[P_VALUE]\n",
    "\n",
    "no_won_conf_interval_len_avg = np.array(no_won_conf_interval_len_sum) \/ m\n",
    "won_conf_interval_len_avg = np.array(won_conf_interval_len_sum) \/ m\n",
    "p_value_avg = np.array(p_value_sum) \/ m\n",
    "\n",
    "no_won_in_conf_interval_avg = np.array(no_won_in_conf_interval) \/ m\n",
    "won_in_conf_interval_avg = np.array(won_in_conf_interval) \/ m"
   ],
   "execution_count":30,
   "outputs":[
    
   ],
   "metadata":{
    "datalore":{
     "node_id":"4y88YgCn76PIIvwjGVqIwy",
     "type":"CODE",
     "hide_input_from_viewers":true,
     "hide_output_from_viewers":true
    }
   }
  },
  {
   "cell_type":"code",
   "source":[
    "# group 1 - athletes who didn't win a medal\n",
    "plt.plot(sample_sizes, no_won_conf_interval_len_avg, color=\"b\")\n",
    "plt.title(\"Average Confidence Interal Lenght (group 1) \\n as a Function of the Sample Size\")\n",
    "plt.xlabel(\"n\")\n",
    "plt.ylabel(\"Average Length\")\n",
    "plt.show()\n",
    "\n",
    "# group 2 - athletes who won a medal\n",
    "plt.plot(sample_sizes, won_conf_interval_len_avg, color=\"g\")\n",
    "plt.title(\"Average Confidence Interal Lenght (group 2) \\n as a Function of the Sample Size\")\n",
    "plt.xlabel(\"n\")\n",
    "plt.ylabel(\"Average Length\")\n",
    "plt.show()\n",
    "\n",
    "plt.plot(sample_sizes, p_value_avg, color=\"r\")\n",
    "plt.title(\"Average P-Value as a Function of the Sample Size\")\n",
    "plt.xlabel(\"n\")\n",
    "plt.ylabel(\"P-Value\")\n",
    "plt.show()"
   ],
   "execution_count":31,
   "outputs":[
    {
     "data":{
      "image\/png":"[encoded data removed]"
     },
     "metadata":{
      "image\/png":{
       
      }
     },
     "output_type":"display_data"
    },
    {
     "data":{
      "image\/png":"[encoded data removed]"
     },
     "metadata":{
      "image\/png":{
       
      }
     },
     "output_type":"display_data"
    },
    {
     "data":{
      "image\/png":"[encoded data removed]"
     },
     "metadata":{
      "image\/png":{
       
      }
     },
     "output_type":"display_data"
    }
   ],
   "metadata":{
    "datalore":{
     "node_id":"h6xvgMn2fMFjo9l5iUkD6R",
     "type":"CODE",
     "hide_input_from_viewers":true,
     "hide_output_from_viewers":true
    }
   }
  },
  {
   "cell_type":"markdown",
   "source":[
    "As we can see in the graphs above, the average confidence interval length decreases as we increase the sample size. In addition, we can see that the average confidence interval length of group 2 decreases by a greater amount than group 1.\n",
    "\n",
    "These results reflect our findings in the first part of the question when we performed the comparison with a single iteration of sample generation.\n",
    "\n",
    "We can also see that the average p_value decreases as we increase the sample size. However, this finding is different from the results in the previous part (where we generated just one sample), in which we couldn't see any connection between the sample size and the p-value."
   ],
   "attachments":{
    
   },
   "metadata":{
    "datalore":{
     "node_id":"gG7MKfI9aGWmCioTHdFFzY",
     "type":"MD",
     "hide_input_from_viewers":true,
     "hide_output_from_viewers":true
    }
   }
  },
  {
   "cell_type":"code",
   "source":[
    "# group 1 - athletes who didn't win a medal\n",
    "plt.plot(sample_sizes, no_won_in_conf_interval_avg, color=\"b\")\n",
    "plt.title(\"Percentage of the Number of Times the Mean is in the \\n Confidence Interval (group1) as a Function of the Sample Size\")\n",
    "plt.xlabel(\"n\")\n",
    "plt.ylabel(\"Percentage\")\n",
    "plt.show()\n",
    "\n",
    "# group 2 - athletes who won a medal\n",
    "plt.plot(sample_sizes, won_in_conf_interval_avg, color=\"r\")\n",
    "plt.title(\"Percentage of the Number of Times the Mean is in the \\n Confidence Interval (group2) as a Function of the Sample Size\")\n",
    "plt.xlabel(\"n\")\n",
    "plt.ylabel(\"Percentage\")\n",
    "plt.show()"
   ],
   "execution_count":32,
   "outputs":[
    {
     "data":{
      "image\/png":"[encoded data removed]"
     },
     "metadata":{
      "image\/png":{
       
      }
     },
     "output_type":"display_data"
    },
    {
     "data":{
      "image\/png":"[encoded data removed]"
     },
     "metadata":{
      "image\/png":{
       
      }
     },
     "output_type":"display_data"
    }
   ],
   "metadata":{
    "datalore":{
     "node_id":"a8y9W0Gl55gPFTom083v6g",
     "type":"CODE",
     "hide_input_from_viewers":true,
     "hide_output_from_viewers":true
    }
   }
  },
  {
   "cell_type":"markdown",
   "source":[
    "As we can see in the graphs above, the percentage of the times the mean is in the confidence interval mostly increases as the sample size increases.\n",
    "\n",
    "As we explained in the confidence intervals question, the sample mean is asymptotically Normal. Therefore, the interval has an **approximated** level of confidence (we chose $\\alpha = 0.05$).\n",
    "\n",
    "This means that as we increase n, the approximation level will approach $\\alpha$ and be more accurate.\n",
    "\n",
    "**Our results in the practical analysis indeed support the theoretical analysis.**"
   ],
   "attachments":{
    
   },
   "metadata":{
    "datalore":{
     "node_id":"2DbWTnYlLcI9RdIbQnG1TS",
     "type":"MD",
     "hide_input_from_viewers":true,
     "hide_output_from_viewers":true
    }
   }
  }
 ],
 "metadata":{
  "kernelspec":{
   "display_name":"Python",
   "language":"python",
   "name":"python"
  },
  "datalore":{
   "version":1,
   "computation_mode":"JUPYTER",
   "package_manager":"pip",
   "base_environment":"default",
   "packages":[
    
   ]
  }
 },
 "nbformat":4,
 "nbformat_minor":4
}